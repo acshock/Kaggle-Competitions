{
 "metadata": {
  "name": "",
  "signature": "sha256:ae93311e1c53f55f6db907daa4fc756fcfd2811c999aded4827fe37f113138e0"
 },
 "nbformat": 3,
 "nbformat_minor": 0,
 "worksheets": [
  {
   "cells": [
    {
     "cell_type": "markdown",
     "metadata": {},
     "source": [
      "@author Abigail Shockley\n",
      "\n",
      "I've been playing around with the data for the Liberty Mutual challenge on Kaggle. Here, I'm using GradientBoostingRegressor and AdaBoostClassifier. The data is modified from the original which hasn't helped me get a better score. GBR gave me a score of ~32% with the only addition being the average of all the features for a given row. But when I looked at the prediction vs the test values, I noticed that the prediction values all had a Hazard score (Hazard is what I'm trying to predict) that was less than 15. If you look at the data, 75% of the Hazard scores are less than 15. So the predictor that everyone is using (max prediction rate is 38%) does a decent job with the majority of the data but fails to capture the 25% that would be interesting. Well, Liberty Mutual wants to know if you can predict what houses have a higher hazard score so they can give those ones extra scrutiny. If the model can only predict the low scorers and never the high, then it's useless for the customer. And anyways, the best the model can do is 75% accuracy. Half of 75% is 37.5%...so the models that people are using in the competition are basically as good as randomly guessing.\n",
      "\n",
      "Note: I'm not doing any better than anyone else. I think that there has to be a way to do better but haven't found it yet (and maybe I won't!)."
     ]
    },
    {
     "cell_type": "code",
     "collapsed": false,
     "input": [
      "from sklearn.ensemble import GradientBoostingClassifier, GradientBoostingRegressor, AdaBoostClassifier\n",
      "from sklearn.metrics import accuracy_score, mean_squared_error\n",
      "import pandas as pd\n",
      "import numpy as np\n",
      "from sklearn.tree import DecisionTreeClassifier"
     ],
     "language": "python",
     "metadata": {},
     "outputs": [],
     "prompt_number": 1
    },
    {
     "cell_type": "code",
     "collapsed": false,
     "input": [
      "train = pd.read_csv('train_featureEngineering.csv',header=0)\n",
      "train = train.drop(['Unnamed: 0'],axis=1)\n",
      "train = train.values"
     ],
     "language": "python",
     "metadata": {},
     "outputs": [],
     "prompt_number": 37
    },
    {
     "cell_type": "code",
     "collapsed": false,
     "input": [
      "params={'loss':'ls','learning_rate':0.01,'n_estimators':600,'max_depth':4,'min_samples_split':1}\n",
      "clf=GradientBoostingRegressor(**params)"
     ],
     "language": "python",
     "metadata": {},
     "outputs": [],
     "prompt_number": 60
    },
    {
     "cell_type": "markdown",
     "metadata": {},
     "source": [
      "I'm only fitting on a subset of data here. You do get some differences depending on the subset you use. I think it was 20k to 30k produced a better model than anything else but that's probably just related to how randomly shuffled the Hazard scores are. Anyways, this is just to show an example of the problem with the fits."
     ]
    },
    {
     "cell_type": "code",
     "collapsed": false,
     "input": [
      "y_train=train[:30000,0]\n",
      "X_train=train[:30000,1:]\n",
      "y_test=train[30000:35000,0]\n",
      "x_test=train[30000:35000,1:]"
     ],
     "language": "python",
     "metadata": {},
     "outputs": [],
     "prompt_number": 61
    },
    {
     "cell_type": "code",
     "collapsed": false,
     "input": [
      "clf.fit(X_train,y_train)"
     ],
     "language": "python",
     "metadata": {},
     "outputs": [
      {
       "metadata": {},
       "output_type": "pyout",
       "prompt_number": 62,
       "text": [
        "GradientBoostingRegressor(alpha=0.9, init=None, learning_rate=0.01, loss='ls',\n",
        "             max_depth=4, max_features=None, max_leaf_nodes=None,\n",
        "             min_samples_leaf=1, min_samples_split=1, n_estimators=600,\n",
        "             random_state=None, subsample=1.0, verbose=0, warm_start=False)"
       ]
      }
     ],
     "prompt_number": 62
    },
    {
     "cell_type": "code",
     "collapsed": false,
     "input": [
      "mse=mean_squared_error(y_test,clf.predict(x_test))\n",
      "print('MSE: %.4f' % mse) "
     ],
     "language": "python",
     "metadata": {},
     "outputs": [
      {
       "output_type": "stream",
       "stream": "stdout",
       "text": [
        "MSE: 16.3973\n"
       ]
      }
     ],
     "prompt_number": 63
    },
    {
     "cell_type": "code",
     "collapsed": false,
     "input": [
      "import matplotlib.pyplot as plt"
     ],
     "language": "python",
     "metadata": {},
     "outputs": [],
     "prompt_number": 49
    },
    {
     "cell_type": "code",
     "collapsed": false,
     "input": [
      "matplotlib inline"
     ],
     "language": "python",
     "metadata": {},
     "outputs": [],
     "prompt_number": 50
    },
    {
     "cell_type": "code",
     "collapsed": false,
     "input": [
      "test_score = np.zeros((params['n_estimators'],), dtype=np.float64)\n",
      "\n",
      "for i, y_pred in enumerate(clf.staged_decision_function(x_test)):\n",
      "    test_score[i] = clf.loss_(y_test, y_pred)\n",
      "\n",
      "plt.figure(figsize=(12, 6))\n",
      "plt.subplot(1, 2, 1)\n",
      "plt.title('Deviance')\n",
      "plt.plot(np.arange(params['n_estimators']) + 1, clf.train_score_, 'b-',\n",
      "         label='Training Set Deviance')\n",
      "plt.plot(np.arange(params['n_estimators']) + 1, test_score, 'r-',\n",
      "         label='Test Set Deviance')\n",
      "plt.legend(loc='upper right')\n",
      "plt.xlabel('Boosting Iterations')\n",
      "plt.ylabel('Deviance')"
     ],
     "language": "python",
     "metadata": {},
     "outputs": [
      {
       "metadata": {},
       "output_type": "pyout",
       "prompt_number": 64,
       "text": [
        "<matplotlib.text.Text at 0x109dc9190>"
       ]
      },
      {
       "metadata": {},
       "output_type": "display_data",
       "png": "[encoded data removed]",
       "text": [
        "<matplotlib.figure.Figure at 0x108d72090>"
       ]
      }
     ],
     "prompt_number": 64
    },
    {
     "cell_type": "markdown",
     "metadata": {},
     "source": [
      "Ignore the graph above and below. I haven't done much better than the deviance above...and the deviance measures how well I'm predicting things. OK, I did have a model with a really low deviance once but the predictions were only 30%. So I'm guessing this data is really prone to false positives/false negatives. Good to know for the client because it means you could spend extra money inspecting a house that's perfectly fine and not a house that's awful."
     ]
    },
    {
     "cell_type": "code",
     "collapsed": false,
     "input": [
      "feature_importance = clf.feature_importances_\n",
      "feature_importance = 100.0*(feature_importance/feature_importance.max())\n",
      "sorted_idx = np.argsort(feature_importance)\n",
      "pos = np.arange(sorted_idx.shape[0]) + .5\n",
      "plt.subplot(1, 2, 2)\n",
      "plt.barh(pos, feature_importance[sorted_idx], align='center')\n",
      "plt.xlabel('Relative Importance')\n",
      "plt.title('Variable Importance')\n",
      "plt.show()"
     ],
     "language": "python",
     "metadata": {},
     "outputs": [
      {
       "metadata": {},
       "output_type": "display_data",
       "png": "[encoded data removed]",
       "text": [
        "<matplotlib.figure.Figure at 0x10a780d50>"
       ]
      }
     ],
     "prompt_number": 65
    },
    {
     "cell_type": "code",
     "collapsed": false,
     "input": [
      "plt.subplot(1,2,2)\n",
      "plt.plot(y_test,clf.predict(x_test),'ro')\n",
      "plt.xlabel('Test Data')\n",
      "plt.ylabel('Prediction')"
     ],
     "language": "python",
     "metadata": {},
     "outputs": [
      {
       "metadata": {},
       "output_type": "pyout",
       "prompt_number": 66,
       "text": [
        "<matplotlib.text.Text at 0x109c86110>"
       ]
      },
      {
       "metadata": {},
       "output_type": "display_data",
       "png": "[encoded data removed]",
       "text": [
        "<matplotlib.figure.Figure at 0x108d64090>"
       ]
      }
     ],
     "prompt_number": 66
    },
    {
     "cell_type": "markdown",
     "metadata": {},
     "source": [
      "This is the money shot. The model that I'm using doesn't predict anything above a Hazard score of 10! If you give it a quick look, most of the values are between 0 and 10 but there are quite a few that are higher than 10. The model is only seeing the majority which isn't helpful to the client. On top of that, it's not doing a great job predicting the majority either. Would it surprise anyone to learn this had about a 10% accuracy level?"
     ]
    },
    {
     "cell_type": "code",
     "collapsed": false,
     "input": [
      "abclf=AdaBoostClassifier(DecisionTreeClassifier(max_depth=2),n_estimators=600,learning_rate=1)"
     ],
     "language": "python",
     "metadata": {},
     "outputs": [],
     "prompt_number": 67
    },
    {
     "cell_type": "code",
     "collapsed": false,
     "input": [
      "abclf.fit(X_train,y_train)"
     ],
     "language": "python",
     "metadata": {},
     "outputs": [
      {
       "metadata": {},
       "output_type": "pyout",
       "prompt_number": 68,
       "text": [
        "AdaBoostClassifier(algorithm='SAMME.R',\n",
        "          base_estimator=DecisionTreeClassifier(compute_importances=None, criterion='gini',\n",
        "            max_depth=2, max_features=None, max_leaf_nodes=None,\n",
        "            min_density=None, min_samples_leaf=1, min_samples_split=2,\n",
        "            random_state=None, splitter='best'),\n",
        "          learning_rate=1, n_estimators=600, random_state=None)"
       ]
      }
     ],
     "prompt_number": 68
    },
    {
     "cell_type": "code",
     "collapsed": false,
     "input": [
      "predict=abclf.predict(x_test)"
     ],
     "language": "python",
     "metadata": {},
     "outputs": [],
     "prompt_number": 69
    },
    {
     "cell_type": "code",
     "collapsed": false,
     "input": [
      "plt.subplot(1,2,2)\n",
      "plt.plot(y_test,predict,'ro')\n",
      "plt.xlabel('Test Data')\n",
      "plt.ylabel('Prediction')"
     ],
     "language": "python",
     "metadata": {},
     "outputs": [
      {
       "metadata": {},
       "output_type": "pyout",
       "prompt_number": 70,
       "text": [
        "<matplotlib.text.Text at 0x10d997f50>"
       ]
      },
      {
       "metadata": {},
       "output_type": "display_data",
       "png": "[encoded data removed]",
       "text": [
        "<matplotlib.figure.Figure at 0x10deb7090>"
       ]
      }
     ],
     "prompt_number": 70
    },
    {
     "cell_type": "markdown",
     "metadata": {},
     "source": [
      "I tried the AdaBoostClassifier just to see what the difference was. Interesting to note that the AdaBoost picks up on some things that the GBR wasn't seeing. So now I'm starting to see Hazard values which are higher than 10 which I like. But those hazard values are all false positives which is really bad. Maybe there's a better model to use with the features that I'm making than these two. Will be looking to try that next."
     ]
    },
    {
     "cell_type": "code",
     "collapsed": false,
     "input": [
      "test = pd.read_csv('test_featureEngineering.csv',header=0)\n",
      "test = test.drop(['Unnamed: 0'],axis=1)"
     ],
     "language": "python",
     "metadata": {},
     "outputs": [],
     "prompt_number": 24
    },
    {
     "cell_type": "code",
     "collapsed": false,
     "input": [
      "test_arr=test.values"
     ],
     "language": "python",
     "metadata": {},
     "outputs": [],
     "prompt_number": 25
    },
    {
     "cell_type": "code",
     "collapsed": false,
     "input": [
      "X_test = test_arr[:,1:]"
     ],
     "language": "python",
     "metadata": {},
     "outputs": [],
     "prompt_number": 26
    },
    {
     "cell_type": "code",
     "collapsed": false,
     "input": [
      "hazard_predict = clf.predict(X_test)"
     ],
     "language": "python",
     "metadata": {},
     "outputs": [],
     "prompt_number": 27
    },
    {
     "cell_type": "code",
     "collapsed": false,
     "input": [
      "hazard_predict = hazard_predict.astype(int)"
     ],
     "language": "python",
     "metadata": {},
     "outputs": [],
     "prompt_number": 28
    },
    {
     "cell_type": "code",
     "collapsed": false,
     "input": [
      "Id = test_arr[:,0]"
     ],
     "language": "python",
     "metadata": {},
     "outputs": [],
     "prompt_number": 29
    },
    {
     "cell_type": "code",
     "collapsed": false,
     "input": [
      "Id = Id.astype(int)"
     ],
     "language": "python",
     "metadata": {},
     "outputs": [],
     "prompt_number": 30
    },
    {
     "cell_type": "code",
     "collapsed": false,
     "input": [
      "predictions_file = open(\"../GBR_predictions.csv\",\"wb\")"
     ],
     "language": "python",
     "metadata": {},
     "outputs": [],
     "prompt_number": 31
    },
    {
     "cell_type": "code",
     "collapsed": false,
     "input": [
      "import csv as csv"
     ],
     "language": "python",
     "metadata": {},
     "outputs": [],
     "prompt_number": 32
    },
    {
     "cell_type": "code",
     "collapsed": false,
     "input": [
      "p=csv.writer(predictions_file)"
     ],
     "language": "python",
     "metadata": {},
     "outputs": [],
     "prompt_number": 33
    },
    {
     "cell_type": "code",
     "collapsed": false,
     "input": [
      "p.writerow(['Id','Hazard'])"
     ],
     "language": "python",
     "metadata": {},
     "outputs": [],
     "prompt_number": 34
    },
    {
     "cell_type": "code",
     "collapsed": false,
     "input": [
      "for i in range(0,51000):\n",
      "    p.writerow([Id[i],hazard_predict[i]])"
     ],
     "language": "python",
     "metadata": {},
     "outputs": [],
     "prompt_number": 35
    },
    {
     "cell_type": "code",
     "collapsed": false,
     "input": [
      "predictions_file.close()"
     ],
     "language": "python",
     "metadata": {},
     "outputs": [],
     "prompt_number": 36
    },
    {
     "cell_type": "code",
     "collapsed": false,
     "input": [],
     "language": "python",
     "metadata": {},
     "outputs": []
    }
   ],
   "metadata": {}
  }
 ]
}