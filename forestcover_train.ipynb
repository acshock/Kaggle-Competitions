{
 "metadata": {
  "name": "",
  "signature": "sha256:f0267dccf9c0e8c37e9c5e4fdb40329c52b5b54f2d5a74ea7c6d375a8084fb4f"
 },
 "nbformat": 3,
 "nbformat_minor": 0,
 "worksheets": [
  {
   "cells": [
    {
     "cell_type": "code",
     "collapsed": false,
     "input": [
      "import pandas as pd\n",
      "import numpy as np\n",
      "import pylab as P\n",
      "import csv as csv\n"
     ],
     "language": "python",
     "metadata": {},
     "outputs": [],
     "prompt_number": 2
    },
    {
     "cell_type": "code",
     "collapsed": false,
     "input": [
      "df = pd.read_csv('train.csv',header=0)"
     ],
     "language": "python",
     "metadata": {},
     "outputs": [],
     "prompt_number": 3
    },
    {
     "cell_type": "code",
     "collapsed": false,
     "input": [
      "df.dtypes"
     ],
     "language": "python",
     "metadata": {},
     "outputs": [
      {
       "metadata": {},
       "output_type": "pyout",
       "prompt_number": 4,
       "text": [
        "Id                                    int64\n",
        "Elevation                             int64\n",
        "Aspect                                int64\n",
        "Slope                                 int64\n",
        "Horizontal_Distance_To_Hydrology      int64\n",
        "Vertical_Distance_To_Hydrology        int64\n",
        "Horizontal_Distance_To_Roadways       int64\n",
        "Hillshade_9am                         int64\n",
        "Hillshade_Noon                        int64\n",
        "Hillshade_3pm                         int64\n",
        "Horizontal_Distance_To_Fire_Points    int64\n",
        "Wilderness_Area1                      int64\n",
        "Wilderness_Area2                      int64\n",
        "Wilderness_Area3                      int64\n",
        "Wilderness_Area4                      int64\n",
        "Soil_Type1                            int64\n",
        "Soil_Type2                            int64\n",
        "Soil_Type3                            int64\n",
        "Soil_Type4                            int64\n",
        "Soil_Type5                            int64\n",
        "Soil_Type6                            int64\n",
        "Soil_Type7                            int64\n",
        "Soil_Type8                            int64\n",
        "Soil_Type9                            int64\n",
        "Soil_Type10                           int64\n",
        "Soil_Type11                           int64\n",
        "Soil_Type12                           int64\n",
        "Soil_Type13                           int64\n",
        "Soil_Type14                           int64\n",
        "Soil_Type15                           int64\n",
        "Soil_Type16                           int64\n",
        "Soil_Type17                           int64\n",
        "Soil_Type18                           int64\n",
        "Soil_Type19                           int64\n",
        "Soil_Type20                           int64\n",
        "Soil_Type21                           int64\n",
        "Soil_Type22                           int64\n",
        "Soil_Type23                           int64\n",
        "Soil_Type24                           int64\n",
        "Soil_Type25                           int64\n",
        "Soil_Type26                           int64\n",
        "Soil_Type27                           int64\n",
        "Soil_Type28                           int64\n",
        "Soil_Type29                           int64\n",
        "Soil_Type30                           int64\n",
        "Soil_Type31                           int64\n",
        "Soil_Type32                           int64\n",
        "Soil_Type33                           int64\n",
        "Soil_Type34                           int64\n",
        "Soil_Type35                           int64\n",
        "Soil_Type36                           int64\n",
        "Soil_Type37                           int64\n",
        "Soil_Type38                           int64\n",
        "Soil_Type39                           int64\n",
        "Soil_Type40                           int64\n",
        "Cover_Type                            int64\n",
        "Length: 56, dtype: object"
       ]
      }
     ],
     "prompt_number": 4
    },
    {
     "cell_type": "code",
     "collapsed": false,
     "input": [
      "#Great! All the data types are int64. No need to mess with that."
     ],
     "language": "python",
     "metadata": {},
     "outputs": [],
     "prompt_number": 5
    },
    {
     "cell_type": "code",
     "collapsed": false,
     "input": [
      "df.info()"
     ],
     "language": "python",
     "metadata": {},
     "outputs": [
      {
       "output_type": "stream",
       "stream": "stdout",
       "text": [
        "<class 'pandas.core.frame.DataFrame'>\n",
        "Int64Index: 15120 entries, 0 to 15119\n",
        "Data columns (total 56 columns):\n",
        "Id                                    15120 non-null int64\n",
        "Elevation                             15120 non-null int64\n",
        "Aspect                                15120 non-null int64\n",
        "Slope                                 15120 non-null int64\n",
        "Horizontal_Distance_To_Hydrology      15120 non-null int64\n",
        "Vertical_Distance_To_Hydrology        15120 non-null int64\n",
        "Horizontal_Distance_To_Roadways       15120 non-null int64\n",
        "Hillshade_9am                         15120 non-null int64\n",
        "Hillshade_Noon                        15120 non-null int64\n",
        "Hillshade_3pm                         15120 non-null int64\n",
        "Horizontal_Distance_To_Fire_Points    15120 non-null int64\n",
        "Wilderness_Area1                      15120 non-null int64\n",
        "Wilderness_Area2                      15120 non-null int64\n",
        "Wilderness_Area3                      15120 non-null int64\n",
        "Wilderness_Area4                      15120 non-null int64\n",
        "Soil_Type1                            15120 non-null int64\n",
        "Soil_Type2                            15120 non-null int64\n",
        "Soil_Type3                            15120 non-null int64\n",
        "Soil_Type4                            15120 non-null int64\n",
        "Soil_Type5                            15120 non-null int64\n",
        "Soil_Type6                            15120 non-null int64\n",
        "Soil_Type7                            15120 non-null int64\n",
        "Soil_Type8                            15120 non-null int64\n",
        "Soil_Type9                            15120 non-null int64\n",
        "Soil_Type10                           15120 non-null int64\n",
        "Soil_Type11                           15120 non-null int64\n",
        "Soil_Type12                           15120 non-null int64\n",
        "Soil_Type13                           15120 non-null int64\n",
        "Soil_Type14                           15120 non-null int64\n",
        "Soil_Type15                           15120 non-null int64\n",
        "Soil_Type16                           15120 non-null int64\n",
        "Soil_Type17                           15120 non-null int64\n",
        "Soil_Type18                           15120 non-null int64\n",
        "Soil_Type19                           15120 non-null int64\n",
        "Soil_Type20                           15120 non-null int64\n",
        "Soil_Type21                           15120 non-null int64\n",
        "Soil_Type22                           15120 non-null int64\n",
        "Soil_Type23                           15120 non-null int64\n",
        "Soil_Type24                           15120 non-null int64\n",
        "Soil_Type25                           15120 non-null int64\n",
        "Soil_Type26                           15120 non-null int64\n",
        "Soil_Type27                           15120 non-null int64\n",
        "Soil_Type28                           15120 non-null int64\n",
        "Soil_Type29                           15120 non-null int64\n",
        "Soil_Type30                           15120 non-null int64\n",
        "Soil_Type31                           15120 non-null int64\n",
        "Soil_Type32                           15120 non-null int64\n",
        "Soil_Type33                           15120 non-null int64\n",
        "Soil_Type34                           15120 non-null int64\n",
        "Soil_Type35                           15120 non-null int64\n",
        "Soil_Type36                           15120 non-null int64\n",
        "Soil_Type37                           15120 non-null int64\n",
        "Soil_Type38                           15120 non-null int64\n",
        "Soil_Type39                           15120 non-null int64\n",
        "Soil_Type40                           15120 non-null int64\n",
        "Cover_Type                            15120 non-null int64\n",
        "dtypes: int64(56)"
       ]
      }
     ],
     "prompt_number": 6
    },
    {
     "cell_type": "code",
     "collapsed": false,
     "input": [
      "#Great! All the data is there. No need to replace empty points."
     ],
     "language": "python",
     "metadata": {},
     "outputs": [],
     "prompt_number": 7
    },
    {
     "cell_type": "code",
     "collapsed": false,
     "input": [
      "df.describe()"
     ],
     "language": "python",
     "metadata": {},
     "outputs": [
      {
       "html": [
        "<div style=\"max-height:1000px;max-width:1500px;overflow:auto;\">\n",
        "<table border=\"1\" class=\"dataframe\">\n",
        "  <thead>\n",
        "    <tr style=\"text-align: right;\">\n",
        "      <th></th>\n",
        "      <th>Id</th>\n",
        "      <th>Elevation</th>\n",
        "      <th>Aspect</th>\n",
        "      <th>Slope</th>\n",
        "      <th>Horizontal_Distance_To_Hydrology</th>\n",
        "      <th>Vertical_Distance_To_Hydrology</th>\n",
        "      <th>Horizontal_Distance_To_Roadways</th>\n",
        "      <th>Hillshade_9am</th>\n",
        "      <th>Hillshade_Noon</th>\n",
        "      <th>Hillshade_3pm</th>\n",
        "      <th>...</th>\n",
        "      <th>Soil_Type32</th>\n",
        "      <th>Soil_Type33</th>\n",
        "      <th>Soil_Type34</th>\n",
        "      <th>Soil_Type35</th>\n",
        "      <th>Soil_Type36</th>\n",
        "      <th>Soil_Type37</th>\n",
        "      <th>Soil_Type38</th>\n",
        "      <th>Soil_Type39</th>\n",
        "      <th>Soil_Type40</th>\n",
        "      <th>Cover_Type</th>\n",
        "    </tr>\n",
        "  </thead>\n",
        "  <tbody>\n",
        "    <tr>\n",
        "      <th>count</th>\n",
        "      <td> 15120.00000</td>\n",
        "      <td> 15120.000000</td>\n",
        "      <td> 15120.000000</td>\n",
        "      <td> 15120.000000</td>\n",
        "      <td> 15120.000000</td>\n",
        "      <td> 15120.000000</td>\n",
        "      <td> 15120.000000</td>\n",
        "      <td> 15120.000000</td>\n",
        "      <td> 15120.000000</td>\n",
        "      <td> 15120.000000</td>\n",
        "      <td>...</td>\n",
        "      <td> 15120.000000</td>\n",
        "      <td> 15120.000000</td>\n",
        "      <td> 15120.000000</td>\n",
        "      <td> 15120.000000</td>\n",
        "      <td> 15120.000000</td>\n",
        "      <td> 15120.000000</td>\n",
        "      <td> 15120.000000</td>\n",
        "      <td> 15120.000000</td>\n",
        "      <td> 15120.000000</td>\n",
        "      <td> 15120.000000</td>\n",
        "    </tr>\n",
        "    <tr>\n",
        "      <th>mean</th>\n",
        "      <td>  7560.50000</td>\n",
        "      <td>  2749.322553</td>\n",
        "      <td>   156.676653</td>\n",
        "      <td>    16.501587</td>\n",
        "      <td>   227.195701</td>\n",
        "      <td>    51.076521</td>\n",
        "      <td>  1714.023214</td>\n",
        "      <td>   212.704299</td>\n",
        "      <td>   218.965608</td>\n",
        "      <td>   135.091997</td>\n",
        "      <td>...</td>\n",
        "      <td>     0.045635</td>\n",
        "      <td>     0.040741</td>\n",
        "      <td>     0.001455</td>\n",
        "      <td>     0.006746</td>\n",
        "      <td>     0.000661</td>\n",
        "      <td>     0.002249</td>\n",
        "      <td>     0.048148</td>\n",
        "      <td>     0.043452</td>\n",
        "      <td>     0.030357</td>\n",
        "      <td>     4.000000</td>\n",
        "    </tr>\n",
        "    <tr>\n",
        "      <th>std</th>\n",
        "      <td>  4364.91237</td>\n",
        "      <td>   417.678187</td>\n",
        "      <td>   110.085801</td>\n",
        "      <td>     8.453927</td>\n",
        "      <td>   210.075296</td>\n",
        "      <td>    61.239406</td>\n",
        "      <td>  1325.066358</td>\n",
        "      <td>    30.561287</td>\n",
        "      <td>    22.801966</td>\n",
        "      <td>    45.895189</td>\n",
        "      <td>...</td>\n",
        "      <td>     0.208699</td>\n",
        "      <td>     0.197696</td>\n",
        "      <td>     0.038118</td>\n",
        "      <td>     0.081859</td>\n",
        "      <td>     0.025710</td>\n",
        "      <td>     0.047368</td>\n",
        "      <td>     0.214086</td>\n",
        "      <td>     0.203880</td>\n",
        "      <td>     0.171574</td>\n",
        "      <td>     2.000066</td>\n",
        "    </tr>\n",
        "    <tr>\n",
        "      <th>min</th>\n",
        "      <td>     1.00000</td>\n",
        "      <td>  1863.000000</td>\n",
        "      <td>     0.000000</td>\n",
        "      <td>     0.000000</td>\n",
        "      <td>     0.000000</td>\n",
        "      <td>  -146.000000</td>\n",
        "      <td>     0.000000</td>\n",
        "      <td>     0.000000</td>\n",
        "      <td>    99.000000</td>\n",
        "      <td>     0.000000</td>\n",
        "      <td>...</td>\n",
        "      <td>     0.000000</td>\n",
        "      <td>     0.000000</td>\n",
        "      <td>     0.000000</td>\n",
        "      <td>     0.000000</td>\n",
        "      <td>     0.000000</td>\n",
        "      <td>     0.000000</td>\n",
        "      <td>     0.000000</td>\n",
        "      <td>     0.000000</td>\n",
        "      <td>     0.000000</td>\n",
        "      <td>     1.000000</td>\n",
        "    </tr>\n",
        "    <tr>\n",
        "      <th>25%</th>\n",
        "      <td>  3780.75000</td>\n",
        "      <td>  2376.000000</td>\n",
        "      <td>    65.000000</td>\n",
        "      <td>    10.000000</td>\n",
        "      <td>    67.000000</td>\n",
        "      <td>     5.000000</td>\n",
        "      <td>   764.000000</td>\n",
        "      <td>   196.000000</td>\n",
        "      <td>   207.000000</td>\n",
        "      <td>   106.000000</td>\n",
        "      <td>...</td>\n",
        "      <td>     0.000000</td>\n",
        "      <td>     0.000000</td>\n",
        "      <td>     0.000000</td>\n",
        "      <td>     0.000000</td>\n",
        "      <td>     0.000000</td>\n",
        "      <td>     0.000000</td>\n",
        "      <td>     0.000000</td>\n",
        "      <td>     0.000000</td>\n",
        "      <td>     0.000000</td>\n",
        "      <td>     2.000000</td>\n",
        "    </tr>\n",
        "    <tr>\n",
        "      <th>50%</th>\n",
        "      <td>  7560.50000</td>\n",
        "      <td>  2752.000000</td>\n",
        "      <td>   126.000000</td>\n",
        "      <td>    15.000000</td>\n",
        "      <td>   180.000000</td>\n",
        "      <td>    32.000000</td>\n",
        "      <td>  1316.000000</td>\n",
        "      <td>   220.000000</td>\n",
        "      <td>   223.000000</td>\n",
        "      <td>   138.000000</td>\n",
        "      <td>...</td>\n",
        "      <td>     0.000000</td>\n",
        "      <td>     0.000000</td>\n",
        "      <td>     0.000000</td>\n",
        "      <td>     0.000000</td>\n",
        "      <td>     0.000000</td>\n",
        "      <td>     0.000000</td>\n",
        "      <td>     0.000000</td>\n",
        "      <td>     0.000000</td>\n",
        "      <td>     0.000000</td>\n",
        "      <td>     4.000000</td>\n",
        "    </tr>\n",
        "    <tr>\n",
        "      <th>75%</th>\n",
        "      <td> 11340.25000</td>\n",
        "      <td>  3104.000000</td>\n",
        "      <td>   261.000000</td>\n",
        "      <td>    22.000000</td>\n",
        "      <td>   330.000000</td>\n",
        "      <td>    79.000000</td>\n",
        "      <td>  2270.000000</td>\n",
        "      <td>   235.000000</td>\n",
        "      <td>   235.000000</td>\n",
        "      <td>   167.000000</td>\n",
        "      <td>...</td>\n",
        "      <td>     0.000000</td>\n",
        "      <td>     0.000000</td>\n",
        "      <td>     0.000000</td>\n",
        "      <td>     0.000000</td>\n",
        "      <td>     0.000000</td>\n",
        "      <td>     0.000000</td>\n",
        "      <td>     0.000000</td>\n",
        "      <td>     0.000000</td>\n",
        "      <td>     0.000000</td>\n",
        "      <td>     6.000000</td>\n",
        "    </tr>\n",
        "    <tr>\n",
        "      <th>max</th>\n",
        "      <td> 15120.00000</td>\n",
        "      <td>  3849.000000</td>\n",
        "      <td>   360.000000</td>\n",
        "      <td>    52.000000</td>\n",
        "      <td>  1343.000000</td>\n",
        "      <td>   554.000000</td>\n",
        "      <td>  6890.000000</td>\n",
        "      <td>   254.000000</td>\n",
        "      <td>   254.000000</td>\n",
        "      <td>   248.000000</td>\n",
        "      <td>...</td>\n",
        "      <td>     1.000000</td>\n",
        "      <td>     1.000000</td>\n",
        "      <td>     1.000000</td>\n",
        "      <td>     1.000000</td>\n",
        "      <td>     1.000000</td>\n",
        "      <td>     1.000000</td>\n",
        "      <td>     1.000000</td>\n",
        "      <td>     1.000000</td>\n",
        "      <td>     1.000000</td>\n",
        "      <td>     7.000000</td>\n",
        "    </tr>\n",
        "  </tbody>\n",
        "</table>\n",
        "<p>8 rows \u00d7 56 columns</p>\n",
        "</div>"
       ],
       "metadata": {},
       "output_type": "pyout",
       "prompt_number": 8,
       "text": [
        "                Id     Elevation        Aspect         Slope  \\\n",
        "count  15120.00000  15120.000000  15120.000000  15120.000000   \n",
        "mean    7560.50000   2749.322553    156.676653     16.501587   \n",
        "std     4364.91237    417.678187    110.085801      8.453927   \n",
        "min        1.00000   1863.000000      0.000000      0.000000   \n",
        "25%     3780.75000   2376.000000     65.000000     10.000000   \n",
        "50%     7560.50000   2752.000000    126.000000     15.000000   \n",
        "75%    11340.25000   3104.000000    261.000000     22.000000   \n",
        "max    15120.00000   3849.000000    360.000000     52.000000   \n",
        "\n",
        "       Horizontal_Distance_To_Hydrology  Vertical_Distance_To_Hydrology  \\\n",
        "count                      15120.000000                    15120.000000   \n",
        "mean                         227.195701                       51.076521   \n",
        "std                          210.075296                       61.239406   \n",
        "min                            0.000000                     -146.000000   \n",
        "25%                           67.000000                        5.000000   \n",
        "50%                          180.000000                       32.000000   \n",
        "75%                          330.000000                       79.000000   \n",
        "max                         1343.000000                      554.000000   \n",
        "\n",
        "       Horizontal_Distance_To_Roadways  Hillshade_9am  Hillshade_Noon  \\\n",
        "count                     15120.000000   15120.000000    15120.000000   \n",
        "mean                       1714.023214     212.704299      218.965608   \n",
        "std                        1325.066358      30.561287       22.801966   \n",
        "min                           0.000000       0.000000       99.000000   \n",
        "25%                         764.000000     196.000000      207.000000   \n",
        "50%                        1316.000000     220.000000      223.000000   \n",
        "75%                        2270.000000     235.000000      235.000000   \n",
        "max                        6890.000000     254.000000      254.000000   \n",
        "\n",
        "       Hillshade_3pm      ...         Soil_Type32   Soil_Type33   Soil_Type34  \\\n",
        "count   15120.000000      ...        15120.000000  15120.000000  15120.000000   \n",
        "mean      135.091997      ...            0.045635      0.040741      0.001455   \n",
        "std        45.895189      ...            0.208699      0.197696      0.038118   \n",
        "min         0.000000      ...            0.000000      0.000000      0.000000   \n",
        "25%       106.000000      ...            0.000000      0.000000      0.000000   \n",
        "50%       138.000000      ...            0.000000      0.000000      0.000000   \n",
        "75%       167.000000      ...            0.000000      0.000000      0.000000   \n",
        "max       248.000000      ...            1.000000      1.000000      1.000000   \n",
        "\n",
        "        Soil_Type35   Soil_Type36   Soil_Type37   Soil_Type38   Soil_Type39  \\\n",
        "count  15120.000000  15120.000000  15120.000000  15120.000000  15120.000000   \n",
        "mean       0.006746      0.000661      0.002249      0.048148      0.043452   \n",
        "std        0.081859      0.025710      0.047368      0.214086      0.203880   \n",
        "min        0.000000      0.000000      0.000000      0.000000      0.000000   \n",
        "25%        0.000000      0.000000      0.000000      0.000000      0.000000   \n",
        "50%        0.000000      0.000000      0.000000      0.000000      0.000000   \n",
        "75%        0.000000      0.000000      0.000000      0.000000      0.000000   \n",
        "max        1.000000      1.000000      1.000000      1.000000      1.000000   \n",
        "\n",
        "        Soil_Type40    Cover_Type  \n",
        "count  15120.000000  15120.000000  \n",
        "mean       0.030357      4.000000  \n",
        "std        0.171574      2.000066  \n",
        "min        0.000000      1.000000  \n",
        "25%        0.000000      2.000000  \n",
        "50%        0.000000      4.000000  \n",
        "75%        0.000000      6.000000  \n",
        "max        1.000000      7.000000  \n",
        "\n",
        "[8 rows x 56 columns]"
       ]
      }
     ],
     "prompt_number": 8
    },
    {
     "cell_type": "code",
     "collapsed": false,
     "input": [
      "df.max()"
     ],
     "language": "python",
     "metadata": {},
     "outputs": [
      {
       "metadata": {},
       "output_type": "pyout",
       "prompt_number": 9,
       "text": [
        "Id                                    15120\n",
        "Elevation                              3849\n",
        "Aspect                                  360\n",
        "Slope                                    52\n",
        "Horizontal_Distance_To_Hydrology       1343\n",
        "Vertical_Distance_To_Hydrology          554\n",
        "Horizontal_Distance_To_Roadways        6890\n",
        "Hillshade_9am                           254\n",
        "Hillshade_Noon                          254\n",
        "Hillshade_3pm                           248\n",
        "Horizontal_Distance_To_Fire_Points     6993\n",
        "Wilderness_Area1                          1\n",
        "Wilderness_Area2                          1\n",
        "Wilderness_Area3                          1\n",
        "Wilderness_Area4                          1\n",
        "Soil_Type1                                1\n",
        "Soil_Type2                                1\n",
        "Soil_Type3                                1\n",
        "Soil_Type4                                1\n",
        "Soil_Type5                                1\n",
        "Soil_Type6                                1\n",
        "Soil_Type7                                0\n",
        "Soil_Type8                                1\n",
        "Soil_Type9                                1\n",
        "Soil_Type10                               1\n",
        "Soil_Type11                               1\n",
        "Soil_Type12                               1\n",
        "Soil_Type13                               1\n",
        "Soil_Type14                               1\n",
        "Soil_Type15                               0\n",
        "Soil_Type16                               1\n",
        "Soil_Type17                               1\n",
        "Soil_Type18                               1\n",
        "Soil_Type19                               1\n",
        "Soil_Type20                               1\n",
        "Soil_Type21                               1\n",
        "Soil_Type22                               1\n",
        "Soil_Type23                               1\n",
        "Soil_Type24                               1\n",
        "Soil_Type25                               1\n",
        "Soil_Type26                               1\n",
        "Soil_Type27                               1\n",
        "Soil_Type28                               1\n",
        "Soil_Type29                               1\n",
        "Soil_Type30                               1\n",
        "Soil_Type31                               1\n",
        "Soil_Type32                               1\n",
        "Soil_Type33                               1\n",
        "Soil_Type34                               1\n",
        "Soil_Type35                               1\n",
        "Soil_Type36                               1\n",
        "Soil_Type37                               1\n",
        "Soil_Type38                               1\n",
        "Soil_Type39                               1\n",
        "Soil_Type40                               1\n",
        "Cover_Type                                7\n",
        "Length: 56, dtype: int64"
       ]
      }
     ],
     "prompt_number": 9
    },
    {
     "cell_type": "code",
     "collapsed": false,
     "input": [
      "#To create the best model, all features should be the same order of magnitude. The majority of features are binary so\n",
      "#the other features should be of order 1. Use the order of the max value for each feature to scale."
     ],
     "language": "python",
     "metadata": {},
     "outputs": [],
     "prompt_number": 10
    },
    {
     "cell_type": "code",
     "collapsed": false,
     "input": [
      "df.Elevation=df.Elevation/1000 "
     ],
     "language": "python",
     "metadata": {},
     "outputs": [],
     "prompt_number": 11
    },
    {
     "cell_type": "code",
     "collapsed": false,
     "input": [
      "df.Aspect=df.Aspect/100 "
     ],
     "language": "python",
     "metadata": {},
     "outputs": [],
     "prompt_number": 12
    },
    {
     "cell_type": "code",
     "collapsed": false,
     "input": [
      "df.Slope=df.Slope/10 "
     ],
     "language": "python",
     "metadata": {},
     "outputs": [],
     "prompt_number": 13
    },
    {
     "cell_type": "code",
     "collapsed": false,
     "input": [
      "df.Horizontal_Distance_To_Hydrology=df.Horizontal_Distance_To_Hydrology/1000"
     ],
     "language": "python",
     "metadata": {},
     "outputs": [],
     "prompt_number": 14
    },
    {
     "cell_type": "code",
     "collapsed": false,
     "input": [
      "df.Vertical_Distance_To_Hydrology=df.Vertical_Distance_To_Hydrology/100"
     ],
     "language": "python",
     "metadata": {},
     "outputs": [],
     "prompt_number": 15
    },
    {
     "cell_type": "code",
     "collapsed": false,
     "input": [
      "df.Horizontal_Distance_To_Roadways=df.Horizontal_Distance_To_Roadways/1000"
     ],
     "language": "python",
     "metadata": {},
     "outputs": [],
     "prompt_number": 16
    },
    {
     "cell_type": "code",
     "collapsed": false,
     "input": [
      "df.Hillshade_9am=df.Hillshade_9am/100"
     ],
     "language": "python",
     "metadata": {},
     "outputs": [],
     "prompt_number": 17
    },
    {
     "cell_type": "code",
     "collapsed": false,
     "input": [
      "df.Hillshade_Noon=df.Hillshade_Noon/100"
     ],
     "language": "python",
     "metadata": {},
     "outputs": [],
     "prompt_number": 18
    },
    {
     "cell_type": "code",
     "collapsed": false,
     "input": [
      "df.Hillshade_3pm=df.Hillshade_3pm/100"
     ],
     "language": "python",
     "metadata": {},
     "outputs": [],
     "prompt_number": 19
    },
    {
     "cell_type": "code",
     "collapsed": false,
     "input": [
      "df.Horizontal_Distance_To_Fire_Points=df.Horizontal_Distance_To_Fire_Points/1000"
     ],
     "language": "python",
     "metadata": {},
     "outputs": [],
     "prompt_number": 20
    },
    {
     "cell_type": "code",
     "collapsed": false,
     "input": [
      "df.max()"
     ],
     "language": "python",
     "metadata": {},
     "outputs": [
      {
       "metadata": {},
       "output_type": "pyout",
       "prompt_number": 21,
       "text": [
        "Id                                    15120.000\n",
        "Elevation                                 3.849\n",
        "Aspect                                    3.600\n",
        "Slope                                     5.200\n",
        "Horizontal_Distance_To_Hydrology          1.343\n",
        "Vertical_Distance_To_Hydrology            5.540\n",
        "Horizontal_Distance_To_Roadways           6.890\n",
        "Hillshade_9am                             2.540\n",
        "Hillshade_Noon                            2.540\n",
        "Hillshade_3pm                             2.480\n",
        "Horizontal_Distance_To_Fire_Points        6.993\n",
        "Wilderness_Area1                          1.000\n",
        "Wilderness_Area2                          1.000\n",
        "Wilderness_Area3                          1.000\n",
        "Wilderness_Area4                          1.000\n",
        "Soil_Type1                                1.000\n",
        "Soil_Type2                                1.000\n",
        "Soil_Type3                                1.000\n",
        "Soil_Type4                                1.000\n",
        "Soil_Type5                                1.000\n",
        "Soil_Type6                                1.000\n",
        "Soil_Type7                                0.000\n",
        "Soil_Type8                                1.000\n",
        "Soil_Type9                                1.000\n",
        "Soil_Type10                               1.000\n",
        "Soil_Type11                               1.000\n",
        "Soil_Type12                               1.000\n",
        "Soil_Type13                               1.000\n",
        "Soil_Type14                               1.000\n",
        "Soil_Type15                               0.000\n",
        "Soil_Type16                               1.000\n",
        "Soil_Type17                               1.000\n",
        "Soil_Type18                               1.000\n",
        "Soil_Type19                               1.000\n",
        "Soil_Type20                               1.000\n",
        "Soil_Type21                               1.000\n",
        "Soil_Type22                               1.000\n",
        "Soil_Type23                               1.000\n",
        "Soil_Type24                               1.000\n",
        "Soil_Type25                               1.000\n",
        "Soil_Type26                               1.000\n",
        "Soil_Type27                               1.000\n",
        "Soil_Type28                               1.000\n",
        "Soil_Type29                               1.000\n",
        "Soil_Type30                               1.000\n",
        "Soil_Type31                               1.000\n",
        "Soil_Type32                               1.000\n",
        "Soil_Type33                               1.000\n",
        "Soil_Type34                               1.000\n",
        "Soil_Type35                               1.000\n",
        "Soil_Type36                               1.000\n",
        "Soil_Type37                               1.000\n",
        "Soil_Type38                               1.000\n",
        "Soil_Type39                               1.000\n",
        "Soil_Type40                               1.000\n",
        "Cover_Type                                7.000\n",
        "Length: 56, dtype: float64"
       ]
      }
     ],
     "prompt_number": 21
    },
    {
     "cell_type": "code",
     "collapsed": false,
     "input": [
      "#Soil types 7 and 15 are always 0 (max=0). These features aren't useful and can be ignored!"
     ],
     "language": "python",
     "metadata": {},
     "outputs": [],
     "prompt_number": 22
    },
    {
     "cell_type": "code",
     "collapsed": false,
     "input": [
      "df=df.drop(['Soil_Type7'],axis=1)"
     ],
     "language": "python",
     "metadata": {},
     "outputs": [],
     "prompt_number": 23
    },
    {
     "cell_type": "code",
     "collapsed": false,
     "input": [
      "df=df.drop(['Soil_Type15'],axis=1)"
     ],
     "language": "python",
     "metadata": {},
     "outputs": [],
     "prompt_number": 24
    },
    {
     "cell_type": "code",
     "collapsed": false,
     "input": [
      "df.info()"
     ],
     "language": "python",
     "metadata": {},
     "outputs": [
      {
       "output_type": "stream",
       "stream": "stdout",
       "text": [
        "<class 'pandas.core.frame.DataFrame'>\n",
        "Int64Index: 15120 entries, 0 to 15119\n",
        "Data columns (total 54 columns):\n",
        "Id                                    15120 non-null int64\n",
        "Elevation                             15120 non-null float64\n",
        "Aspect                                15120 non-null float64\n",
        "Slope                                 15120 non-null float64\n",
        "Horizontal_Distance_To_Hydrology      15120 non-null float64\n",
        "Vertical_Distance_To_Hydrology        15120 non-null float64\n",
        "Horizontal_Distance_To_Roadways       15120 non-null float64\n",
        "Hillshade_9am                         15120 non-null float64\n",
        "Hillshade_Noon                        15120 non-null float64\n",
        "Hillshade_3pm                         15120 non-null float64\n",
        "Horizontal_Distance_To_Fire_Points    15120 non-null float64\n",
        "Wilderness_Area1                      15120 non-null int64\n",
        "Wilderness_Area2                      15120 non-null int64\n",
        "Wilderness_Area3                      15120 non-null int64\n",
        "Wilderness_Area4                      15120 non-null int64\n",
        "Soil_Type1                            15120 non-null int64\n",
        "Soil_Type2                            15120 non-null int64\n",
        "Soil_Type3                            15120 non-null int64\n",
        "Soil_Type4                            15120 non-null int64\n",
        "Soil_Type5                            15120 non-null int64\n",
        "Soil_Type6                            15120 non-null int64\n",
        "Soil_Type8                            15120 non-null int64\n",
        "Soil_Type9                            15120 non-null int64\n",
        "Soil_Type10                           15120 non-null int64\n",
        "Soil_Type11                           15120 non-null int64\n",
        "Soil_Type12                           15120 non-null int64\n",
        "Soil_Type13                           15120 non-null int64\n",
        "Soil_Type14                           15120 non-null int64\n",
        "Soil_Type16                           15120 non-null int64\n",
        "Soil_Type17                           15120 non-null int64\n",
        "Soil_Type18                           15120 non-null int64\n",
        "Soil_Type19                           15120 non-null int64\n",
        "Soil_Type20                           15120 non-null int64\n",
        "Soil_Type21                           15120 non-null int64\n",
        "Soil_Type22                           15120 non-null int64\n",
        "Soil_Type23                           15120 non-null int64\n",
        "Soil_Type24                           15120 non-null int64\n",
        "Soil_Type25                           15120 non-null int64\n",
        "Soil_Type26                           15120 non-null int64\n",
        "Soil_Type27                           15120 non-null int64\n",
        "Soil_Type28                           15120 non-null int64\n",
        "Soil_Type29                           15120 non-null int64\n",
        "Soil_Type30                           15120 non-null int64\n",
        "Soil_Type31                           15120 non-null int64\n",
        "Soil_Type32                           15120 non-null int64\n",
        "Soil_Type33                           15120 non-null int64\n",
        "Soil_Type34                           15120 non-null int64\n",
        "Soil_Type35                           15120 non-null int64\n",
        "Soil_Type36                           15120 non-null int64\n",
        "Soil_Type37                           15120 non-null int64\n",
        "Soil_Type38                           15120 non-null int64\n",
        "Soil_Type39                           15120 non-null int64\n",
        "Soil_Type40                           15120 non-null int64\n",
        "Cover_Type                            15120 non-null int64\n",
        "dtypes: float64(10), int64(44)"
       ]
      }
     ],
     "prompt_number": 25
    },
    {
     "cell_type": "code",
     "collapsed": false,
     "input": [
      "train_data=df.values"
     ],
     "language": "python",
     "metadata": {},
     "outputs": [],
     "prompt_number": 26
    },
    {
     "cell_type": "code",
     "collapsed": false,
     "input": [
      "#train_data is an array instead of a data frame"
     ],
     "language": "python",
     "metadata": {},
     "outputs": [],
     "prompt_number": 27
    },
    {
     "cell_type": "code",
     "collapsed": false,
     "input": [
      "correlation_soilandcovertype=np.zeros((38,7))"
     ],
     "language": "python",
     "metadata": {},
     "outputs": [],
     "prompt_number": 28
    },
    {
     "cell_type": "code",
     "collapsed": false,
     "input": [
      "#Want to see if there is any correlation between the soil and the cover type. Will loop through the data and count how many \n",
      "#times the soil and cover types match."
     ],
     "language": "python",
     "metadata": {},
     "outputs": [],
     "prompt_number": 29
    },
    {
     "cell_type": "code",
     "collapsed": false,
     "input": [
      "number_covertype=7"
     ],
     "language": "python",
     "metadata": {},
     "outputs": [],
     "prompt_number": 30
    },
    {
     "cell_type": "code",
     "collapsed": false,
     "input": [
      "number_soiltypes=38"
     ],
     "language": "python",
     "metadata": {},
     "outputs": [],
     "prompt_number": 31
    },
    {
     "cell_type": "code",
     "collapsed": false,
     "input": [
      "for i in xrange(number_covertype):\n",
      "    for j in xrange(number_soiltypes):\n",
      "        correlation_soilandcovertype[j,i]=len(train_data[(train_data[0::,j+15]==1)&(train_data[0::,53]==i+1),0])"
     ],
     "language": "python",
     "metadata": {},
     "outputs": [],
     "prompt_number": 32
    },
    {
     "cell_type": "code",
     "collapsed": true,
     "input": [
      "correlation_soilandcovertype[0::,0]"
     ],
     "language": "python",
     "metadata": {},
     "outputs": [
      {
       "metadata": {},
       "output_type": "pyout",
       "prompt_number": 33,
       "text": [
        "array([   0.,    0.,    0.,    5.,    0.,    0.,    0.,    1.,    9.,\n",
        "          5.,   24.,   17.,    0.,    9.,    2.,    0.,   15.,   41.,\n",
        "         12.,  275.,  376.,  128.,    0.,    7.,    7.,    0.,  407.,\n",
        "         81.,  114.,  230.,  184.,    0.,    3.,    0.,    0.,   80.,\n",
        "         79.,   49.])"
       ]
      }
     ],
     "prompt_number": 33
    },
    {
     "cell_type": "code",
     "collapsed": false,
     "input": [
      "correlation_soilandcovertype[0::,1]"
     ],
     "language": "python",
     "metadata": {},
     "outputs": [
      {
       "metadata": {},
       "output_type": "pyout",
       "prompt_number": 34,
       "text": [
        "array([   0.,    3.,   12.,   20.,    0.,    7.,    1.,    9.,   81.,\n",
        "         67.,  203.,   84.,    0.,   14.,    7.,   16.,   13.,   55.,\n",
        "          0.,   54.,  149.,   72.,    1.,   19.,    5.,    6.,  554.,\n",
        "        144.,   97.,  255.,  184.,   12.,    1.,    2.,    0.,    7.,\n",
        "          3.,    3.])"
       ]
      }
     ],
     "prompt_number": 34
    },
    {
     "cell_type": "code",
     "collapsed": false,
     "input": [
      "correlation_soilandcovertype[0::,2]"
     ],
     "language": "python",
     "metadata": {},
     "outputs": [
      {
       "metadata": {},
       "output_type": "pyout",
       "prompt_number": 35,
       "text": [
        "array([ 121.,  283.,  133.,  462.,   55.,  248.,    0.,    0.,  717.,\n",
        "         89.,    0.,    4.,    4.,    5.,   34.,    0.,    0.,    0.,\n",
        "          0.,    0.,    0.,    0.,    0.,    0.,    0.,    0.,    0.,\n",
        "          0.,    0.,    5.,    0.,    0.,    0.,    0.,    0.,    0.,\n",
        "          0.,    0.])"
       ]
      }
     ],
     "prompt_number": 35
    },
    {
     "cell_type": "code",
     "collapsed": false,
     "input": [
      "correlation_soilandcovertype[0::,3]"
     ],
     "language": "python",
     "metadata": {},
     "outputs": [
      {
       "metadata": {},
       "output_type": "pyout",
       "prompt_number": 36,
       "text": [
        "array([ 139.,   94.,  799.,  133.,   39.,  244.,    0.,    0.,  170.,\n",
        "         24.,    0.,    0.,  128.,   40.,  350.,    0.,    0.,    0.,\n",
        "          0.,    0.,    0.,    0.,    0.,    0.,    0.,    0.,    0.,\n",
        "          0.,    0.,    0.,    0.,    0.,    0.,    0.,    0.,    0.,\n",
        "          0.,    0.])"
       ]
      }
     ],
     "prompt_number": 36
    },
    {
     "cell_type": "code",
     "collapsed": false,
     "input": [
      "correlation_soilandcovertype[0::,4]"
     ],
     "language": "python",
     "metadata": {},
     "outputs": [
      {
       "metadata": {},
       "output_type": "pyout",
       "prompt_number": 37,
       "text": [
        "array([   0.,   61.,    0.,  129.,    0.,    0.,    0.,    0.,   64.,\n",
        "        154.,    0.,  305.,    0.,    9.,  131.,   44.,   18.,    6.,\n",
        "          0.,    0.,  157.,   11.,    0.,   28.,    0.,    3.,  254.,\n",
        "        480.,   87.,  100.,  115.,    4.,    0.,    0.,    0.,    0.,\n",
        "          0.,    0.])"
       ]
      }
     ],
     "prompt_number": 37
    },
    {
     "cell_type": "code",
     "collapsed": false,
     "input": [
      "correlation_soilandcovertype[0::,5]"
     ],
     "language": "python",
     "metadata": {},
     "outputs": [
      {
       "metadata": {},
       "output_type": "pyout",
       "prompt_number": 38,
       "text": [
        "array([   95.,   182.,    18.,    87.,    71.,   151.,     0.,     0.,\n",
        "        1101.,    67.,     0.,    66.,    37.,    37.,    88.,     0.,\n",
        "           0.,    37.,     0.,     0.,     3.,    15.,     0.,     0.,\n",
        "           0.,     0.,     0.,     0.,     7.,    30.,    66.,     2.,\n",
        "           0.,     0.,     0.,     0.,     0.,     0.])"
       ]
      }
     ],
     "prompt_number": 38
    },
    {
     "cell_type": "code",
     "collapsed": false,
     "input": [
      "correlation_soilandcovertype[0::,6]"
     ],
     "language": "python",
     "metadata": {},
     "outputs": [
      {
       "metadata": {},
       "output_type": "pyout",
       "prompt_number": 39,
       "text": [
        "array([   0.,    0.,    0.,    7.,    0.,    0.,    0.,    0.,    0.,\n",
        "          0.,    0.,    0.,    0.,    0.,    0.,    0.,    0.,    0.,\n",
        "          4.,   16.,   72.,   31.,    0.,    0.,    3.,    0.,   76.,\n",
        "         20.,   27.,   70.,   67.,    4.,   98.,    8.,   34.,  641.,\n",
        "        575.,  407.])"
       ]
      }
     ],
     "prompt_number": 39
    },
    {
     "cell_type": "code",
     "collapsed": false,
     "input": [
      "#Good to know: there is a correlation between soil and cover type. Let's make these results a little more useful and\n",
      "#calculate the percent of each cover type that goes with a particular soil type."
     ],
     "language": "python",
     "metadata": {},
     "outputs": [],
     "prompt_number": 40
    },
    {
     "cell_type": "code",
     "collapsed": false,
     "input": [
      "total_covertype=np.zeros((1,7))"
     ],
     "language": "python",
     "metadata": {},
     "outputs": [],
     "prompt_number": 41
    },
    {
     "cell_type": "code",
     "collapsed": false,
     "input": [
      "total_covertype"
     ],
     "language": "python",
     "metadata": {},
     "outputs": [
      {
       "metadata": {},
       "output_type": "pyout",
       "prompt_number": 42,
       "text": [
        "array([[ 0.,  0.,  0.,  0.,  0.,  0.,  0.]])"
       ]
      }
     ],
     "prompt_number": 42
    },
    {
     "cell_type": "code",
     "collapsed": false,
     "input": [
      "for i in xrange(number_covertype):\n",
      "    count = train_data[train_data[0::,53]==i+1,0]\n",
      "    total_covertype[0,i]=len(count)"
     ],
     "language": "python",
     "metadata": {},
     "outputs": [],
     "prompt_number": 43
    },
    {
     "cell_type": "code",
     "collapsed": false,
     "input": [
      "total_covertype"
     ],
     "language": "python",
     "metadata": {},
     "outputs": [
      {
       "metadata": {},
       "output_type": "pyout",
       "prompt_number": 44,
       "text": [
        "array([[ 2160.,  2160.,  2160.,  2160.,  2160.,  2160.,  2160.]])"
       ]
      }
     ],
     "prompt_number": 44
    },
    {
     "cell_type": "code",
     "collapsed": false,
     "input": [
      "print 7+4+16+72+313+76+20+27+70+67+4+98+8+34+641+575+407"
     ],
     "language": "python",
     "metadata": {},
     "outputs": [
      {
       "output_type": "stream",
       "stream": "stdout",
       "text": [
        "2439\n"
       ]
      }
     ],
     "prompt_number": 45
    },
    {
     "cell_type": "code",
     "collapsed": false,
     "input": [
      "#Some entries have more than one soil type for cover type."
     ],
     "language": "python",
     "metadata": {},
     "outputs": [],
     "prompt_number": 46
    },
    {
     "cell_type": "code",
     "collapsed": false,
     "input": [
      "correlation_soilandcovertype=correlation_soilandcovertype/2160"
     ],
     "language": "python",
     "metadata": {},
     "outputs": [],
     "prompt_number": 47
    },
    {
     "cell_type": "code",
     "collapsed": false,
     "input": [
      "correlation_soilandcovertype[0::,0]"
     ],
     "language": "python",
     "metadata": {},
     "outputs": [
      {
       "metadata": {},
       "output_type": "pyout",
       "prompt_number": 48,
       "text": [
        "array([ 0.        ,  0.        ,  0.        ,  0.00231481,  0.        ,\n",
        "        0.        ,  0.        ,  0.00046296,  0.00416667,  0.00231481,\n",
        "        0.01111111,  0.00787037,  0.        ,  0.00416667,  0.00092593,\n",
        "        0.        ,  0.00694444,  0.01898148,  0.00555556,  0.12731481,\n",
        "        0.17407407,  0.05925926,  0.        ,  0.00324074,  0.00324074,\n",
        "        0.        ,  0.18842593,  0.0375    ,  0.05277778,  0.10648148,\n",
        "        0.08518519,  0.        ,  0.00138889,  0.        ,  0.        ,\n",
        "        0.03703704,  0.03657407,  0.02268519])"
       ]
      }
     ],
     "prompt_number": 48
    },
    {
     "cell_type": "code",
     "collapsed": false,
     "input": [
      "correlation_soilandcovertype[0::,1]"
     ],
     "language": "python",
     "metadata": {},
     "outputs": [
      {
       "metadata": {},
       "output_type": "pyout",
       "prompt_number": 49,
       "text": [
        "array([ 0.        ,  0.00138889,  0.00555556,  0.00925926,  0.        ,\n",
        "        0.00324074,  0.00046296,  0.00416667,  0.0375    ,  0.03101852,\n",
        "        0.09398148,  0.03888889,  0.        ,  0.00648148,  0.00324074,\n",
        "        0.00740741,  0.00601852,  0.02546296,  0.        ,  0.025     ,\n",
        "        0.06898148,  0.03333333,  0.00046296,  0.0087963 ,  0.00231481,\n",
        "        0.00277778,  0.25648148,  0.06666667,  0.04490741,  0.11805556,\n",
        "        0.08518519,  0.00555556,  0.00046296,  0.00092593,  0.        ,\n",
        "        0.00324074,  0.00138889,  0.00138889])"
       ]
      }
     ],
     "prompt_number": 49
    },
    {
     "cell_type": "code",
     "collapsed": false,
     "input": [
      "correlation_soilandcovertype[0::,2]"
     ],
     "language": "python",
     "metadata": {},
     "outputs": [
      {
       "metadata": {},
       "output_type": "pyout",
       "prompt_number": 50,
       "text": [
        "array([ 0.05601852,  0.13101852,  0.06157407,  0.21388889,  0.02546296,\n",
        "        0.11481481,  0.        ,  0.        ,  0.33194444,  0.0412037 ,\n",
        "        0.        ,  0.00185185,  0.00185185,  0.00231481,  0.01574074,\n",
        "        0.        ,  0.        ,  0.        ,  0.        ,  0.        ,\n",
        "        0.        ,  0.        ,  0.        ,  0.        ,  0.        ,\n",
        "        0.        ,  0.        ,  0.        ,  0.        ,  0.00231481,\n",
        "        0.        ,  0.        ,  0.        ,  0.        ,  0.        ,\n",
        "        0.        ,  0.        ,  0.        ])"
       ]
      }
     ],
     "prompt_number": 50
    },
    {
     "cell_type": "code",
     "collapsed": false,
     "input": [
      "correlation_soilandcovertype[0::,3]"
     ],
     "language": "python",
     "metadata": {},
     "outputs": [
      {
       "metadata": {},
       "output_type": "pyout",
       "prompt_number": 51,
       "text": [
        "array([ 0.06435185,  0.04351852,  0.36990741,  0.06157407,  0.01805556,\n",
        "        0.11296296,  0.        ,  0.        ,  0.0787037 ,  0.01111111,\n",
        "        0.        ,  0.        ,  0.05925926,  0.01851852,  0.16203704,\n",
        "        0.        ,  0.        ,  0.        ,  0.        ,  0.        ,\n",
        "        0.        ,  0.        ,  0.        ,  0.        ,  0.        ,\n",
        "        0.        ,  0.        ,  0.        ,  0.        ,  0.        ,\n",
        "        0.        ,  0.        ,  0.        ,  0.        ,  0.        ,\n",
        "        0.        ,  0.        ,  0.        ])"
       ]
      }
     ],
     "prompt_number": 51
    },
    {
     "cell_type": "code",
     "collapsed": false,
     "input": [
      "correlation_soilandcovertype[0::,4]"
     ],
     "language": "python",
     "metadata": {},
     "outputs": [
      {
       "metadata": {},
       "output_type": "pyout",
       "prompt_number": 52,
       "text": [
        "array([ 0.        ,  0.02824074,  0.        ,  0.05972222,  0.        ,\n",
        "        0.        ,  0.        ,  0.        ,  0.02962963,  0.0712963 ,\n",
        "        0.        ,  0.1412037 ,  0.        ,  0.00416667,  0.06064815,\n",
        "        0.02037037,  0.00833333,  0.00277778,  0.        ,  0.        ,\n",
        "        0.07268519,  0.00509259,  0.        ,  0.01296296,  0.        ,\n",
        "        0.00138889,  0.11759259,  0.22222222,  0.04027778,  0.0462963 ,\n",
        "        0.05324074,  0.00185185,  0.        ,  0.        ,  0.        ,\n",
        "        0.        ,  0.        ,  0.        ])"
       ]
      }
     ],
     "prompt_number": 52
    },
    {
     "cell_type": "code",
     "collapsed": false,
     "input": [
      "correlation_soilandcovertype[0::,5]"
     ],
     "language": "python",
     "metadata": {},
     "outputs": [
      {
       "metadata": {},
       "output_type": "pyout",
       "prompt_number": 53,
       "text": [
        "array([ 0.04398148,  0.08425926,  0.00833333,  0.04027778,  0.03287037,\n",
        "        0.06990741,  0.        ,  0.        ,  0.50972222,  0.03101852,\n",
        "        0.        ,  0.03055556,  0.01712963,  0.01712963,  0.04074074,\n",
        "        0.        ,  0.        ,  0.01712963,  0.        ,  0.        ,\n",
        "        0.00138889,  0.00694444,  0.        ,  0.        ,  0.        ,\n",
        "        0.        ,  0.        ,  0.        ,  0.00324074,  0.01388889,\n",
        "        0.03055556,  0.00092593,  0.        ,  0.        ,  0.        ,\n",
        "        0.        ,  0.        ,  0.        ])"
       ]
      }
     ],
     "prompt_number": 53
    },
    {
     "cell_type": "code",
     "collapsed": false,
     "input": [
      "correlation_soilandcovertype[0::,6]"
     ],
     "language": "python",
     "metadata": {},
     "outputs": [
      {
       "metadata": {},
       "output_type": "pyout",
       "prompt_number": 54,
       "text": [
        "array([ 0.        ,  0.        ,  0.        ,  0.00324074,  0.        ,\n",
        "        0.        ,  0.        ,  0.        ,  0.        ,  0.        ,\n",
        "        0.        ,  0.        ,  0.        ,  0.        ,  0.        ,\n",
        "        0.        ,  0.        ,  0.        ,  0.00185185,  0.00740741,\n",
        "        0.03333333,  0.01435185,  0.        ,  0.        ,  0.00138889,\n",
        "        0.        ,  0.03518519,  0.00925926,  0.0125    ,  0.03240741,\n",
        "        0.03101852,  0.00185185,  0.04537037,  0.0037037 ,  0.01574074,\n",
        "        0.29675926,  0.2662037 ,  0.18842593])"
       ]
      }
     ],
     "prompt_number": 54
    },
    {
     "cell_type": "code",
     "collapsed": false,
     "input": [
      "tenfeatures_mean=np.zeros((10,7))"
     ],
     "language": "python",
     "metadata": {},
     "outputs": [],
     "prompt_number": 55
    },
    {
     "cell_type": "code",
     "collapsed": false,
     "input": [
      "tenfeatures_mean"
     ],
     "language": "python",
     "metadata": {},
     "outputs": [
      {
       "metadata": {},
       "output_type": "pyout",
       "prompt_number": 56,
       "text": [
        "array([[ 0.,  0.,  0.,  0.,  0.,  0.,  0.],\n",
        "       [ 0.,  0.,  0.,  0.,  0.,  0.,  0.],\n",
        "       [ 0.,  0.,  0.,  0.,  0.,  0.,  0.],\n",
        "       [ 0.,  0.,  0.,  0.,  0.,  0.,  0.],\n",
        "       [ 0.,  0.,  0.,  0.,  0.,  0.,  0.],\n",
        "       [ 0.,  0.,  0.,  0.,  0.,  0.,  0.],\n",
        "       [ 0.,  0.,  0.,  0.,  0.,  0.,  0.],\n",
        "       [ 0.,  0.,  0.,  0.,  0.,  0.,  0.],\n",
        "       [ 0.,  0.,  0.,  0.,  0.,  0.,  0.],\n",
        "       [ 0.,  0.,  0.,  0.,  0.,  0.,  0.]])"
       ]
      }
     ],
     "prompt_number": 56
    },
    {
     "cell_type": "code",
     "collapsed": false,
     "input": [
      "features = 10"
     ],
     "language": "python",
     "metadata": {},
     "outputs": [],
     "prompt_number": 57
    },
    {
     "cell_type": "code",
     "collapsed": false,
     "input": [
      "for i in xrange(number_covertype):\n",
      "    for j in xrange(features):\n",
      "        tenfeatures_mean[j,i]=train_data[train_data[0::,53]==i+1,j+1].mean()"
     ],
     "language": "python",
     "metadata": {},
     "outputs": [],
     "prompt_number": 58
    },
    {
     "cell_type": "code",
     "collapsed": false,
     "input": [
      "tenfeatures_median=np.zeros((10,7))"
     ],
     "language": "python",
     "metadata": {},
     "outputs": [],
     "prompt_number": 59
    },
    {
     "cell_type": "code",
     "collapsed": false,
     "input": [
      "for i in xrange(number_covertype):\n",
      "    for j in xrange(features):\n",
      "        tenfeatures_median[j,i]=np.median(train_data[train_data[0::,53]==i+1,j+1])"
     ],
     "language": "python",
     "metadata": {},
     "outputs": [],
     "prompt_number": 60
    },
    {
     "cell_type": "code",
     "collapsed": false,
     "input": [
      "tenfeatures_mean"
     ],
     "language": "python",
     "metadata": {},
     "outputs": [
      {
       "metadata": {},
       "output_type": "pyout",
       "prompt_number": 61,
       "text": [
        "array([[ 3.12802593,  2.92254028,  2.39842315,  2.22342037,  2.78680139,\n",
        "         2.42327685,  3.36276991],\n",
        "       [ 1.59463426,  1.51097222,  1.73672685,  1.38099537,  1.3799213 ,\n",
        "         1.8061713 ,  1.55794444],\n",
        "       [ 1.3112963 ,  1.34236111,  2.06287037,  1.84685185,  1.6724537 ,\n",
        "         1.89861111,  1.41666667],\n",
        "       [ 0.27150741,  0.2877287 ,  0.21072315,  0.1045375 ,  0.20887315,\n",
        "         0.16009537,  0.34690463],\n",
        "       [ 0.41281481,  0.47337963,  0.64081944,  0.40143519,  0.50871296,\n",
        "         0.44873611,  0.68945833],\n",
        "       [ 2.57971574,  2.42579167,  0.96959583,  0.91510046,  1.32931852,\n",
        "         1.06498056,  2.71365972],\n",
        "       [ 2.11690278,  2.14044444,  2.01655556,  2.27968056,  2.23368981,\n",
        "         1.93562963,  2.16639815],\n",
        "       [ 2.23248611,  2.25369907,  2.16561111,  2.16889815,  2.1831713 ,\n",
        "         2.09960648,  2.22412037],\n",
        "       [ 1.44065741,  1.42950926,  1.41549537,  1.11808796,  1.21392593,\n",
        "         1.47682407,  1.36193981],\n",
        "       [ 1.99441296,  2.15527731,  0.91690972,  0.86054074,  1.53038889,\n",
        "         1.05765417,  2.06284722]])"
       ]
      }
     ],
     "prompt_number": 61
    },
    {
     "cell_type": "code",
     "collapsed": false,
     "input": [
      "tenfeatures_median"
     ],
     "language": "python",
     "metadata": {},
     "outputs": [
      {
       "metadata": {},
       "output_type": "pyout",
       "prompt_number": 62,
       "text": [
        "array([[ 3.144 ,  2.9315,  2.409 ,  2.2305,  2.793 ,  2.43  ,  3.364 ],\n",
        "       [ 1.23  ,  1.25  ,  1.61  ,  1.19  ,  1.08  ,  1.71  ,  1.26  ],\n",
        "       [ 1.2   ,  1.3   ,  2.1   ,  1.8   ,  1.6   ,  1.9   ,  1.3   ],\n",
        "       [ 0.218 ,  0.242 ,  0.19  ,  0.03  ,  0.17  ,  0.134 ,  0.27  ],\n",
        "       [ 0.23  ,  0.31  ,  0.51  ,  0.06  ,  0.35  ,  0.33  ,  0.42  ],\n",
        "       [ 2.377 ,  2.0235,  0.897 ,  0.942 ,  1.2535,  0.993 ,  2.6115],\n",
        "       [ 2.16  ,  2.2   ,  2.12  ,  2.34  ,  2.28  ,  1.96  ,  2.21  ],\n",
        "       [ 2.26  ,  2.27  ,  2.22  ,  2.2   ,  2.24  ,  2.13  ,  2.24  ],\n",
        "       [ 1.44  ,  1.41  ,  1.42  ,  1.14  ,  1.28  ,  1.5   ,  1.42  ],\n",
        "       [ 1.8175,  1.851 ,  0.828 ,  0.808 ,  1.432 ,  0.942 ,  1.963 ]])"
       ]
      }
     ],
     "prompt_number": 62
    },
    {
     "cell_type": "code",
     "collapsed": false,
     "input": [
      "#We can judge how well the features can predict the cover type by how far the median is from the mean (aka how much of a spread\n",
      "#is there and can we bin the data easily for a simple solution). Elevation is good and the values are reasonably spread apart\n",
      "#for different cover types. Aspect is bad. Slope isn't terrible but the mean values are a bit too close together and some of\n",
      "#median values are the same. Horizontal distance to hydrology is bad. Vertical distance to hydrology is also bad. Both these\n",
      "#features have major outliers which would really throw off the model. Horizontal distance to roadways is surprisingly good and\n",
      "#also looks to have enough separation for binning. The hillshade features aren't bad but suffer the same problem as the slope.\n",
      "#Horizontal distance to fire points is bad for the same reasons as the hydrology features.\n",
      "\n",
      "#The simplest solution comes from multiplying the horizontal distance to roadways by the elevation and creating bins."
     ],
     "language": "python",
     "metadata": {},
     "outputs": [],
     "prompt_number": 63
    },
    {
     "cell_type": "code",
     "collapsed": false,
     "input": [
      "df['Elevation*distroad']=df.Elevation*df.Horizontal_Distance_To_Roadways"
     ],
     "language": "python",
     "metadata": {},
     "outputs": [],
     "prompt_number": 64
    },
    {
     "cell_type": "code",
     "collapsed": false,
     "input": [
      "df.info()"
     ],
     "language": "python",
     "metadata": {},
     "outputs": [
      {
       "output_type": "stream",
       "stream": "stdout",
       "text": [
        "<class 'pandas.core.frame.DataFrame'>\n",
        "Int64Index: 15120 entries, 0 to 15119\n",
        "Data columns (total 55 columns):\n",
        "Id                                    15120 non-null int64\n",
        "Elevation                             15120 non-null float64\n",
        "Aspect                                15120 non-null float64\n",
        "Slope                                 15120 non-null float64\n",
        "Horizontal_Distance_To_Hydrology      15120 non-null float64\n",
        "Vertical_Distance_To_Hydrology        15120 non-null float64\n",
        "Horizontal_Distance_To_Roadways       15120 non-null float64\n",
        "Hillshade_9am                         15120 non-null float64\n",
        "Hillshade_Noon                        15120 non-null float64\n",
        "Hillshade_3pm                         15120 non-null float64\n",
        "Horizontal_Distance_To_Fire_Points    15120 non-null float64\n",
        "Wilderness_Area1                      15120 non-null int64\n",
        "Wilderness_Area2                      15120 non-null int64\n",
        "Wilderness_Area3                      15120 non-null int64\n",
        "Wilderness_Area4                      15120 non-null int64\n",
        "Soil_Type1                            15120 non-null int64\n",
        "Soil_Type2                            15120 non-null int64\n",
        "Soil_Type3                            15120 non-null int64\n",
        "Soil_Type4                            15120 non-null int64\n",
        "Soil_Type5                            15120 non-null int64\n",
        "Soil_Type6                            15120 non-null int64\n",
        "Soil_Type8                            15120 non-null int64\n",
        "Soil_Type9                            15120 non-null int64\n",
        "Soil_Type10                           15120 non-null int64\n",
        "Soil_Type11                           15120 non-null int64\n",
        "Soil_Type12                           15120 non-null int64\n",
        "Soil_Type13                           15120 non-null int64\n",
        "Soil_Type14                           15120 non-null int64\n",
        "Soil_Type16                           15120 non-null int64\n",
        "Soil_Type17                           15120 non-null int64\n",
        "Soil_Type18                           15120 non-null int64\n",
        "Soil_Type19                           15120 non-null int64\n",
        "Soil_Type20                           15120 non-null int64\n",
        "Soil_Type21                           15120 non-null int64\n",
        "Soil_Type22                           15120 non-null int64\n",
        "Soil_Type23                           15120 non-null int64\n",
        "Soil_Type24                           15120 non-null int64\n",
        "Soil_Type25                           15120 non-null int64\n",
        "Soil_Type26                           15120 non-null int64\n",
        "Soil_Type27                           15120 non-null int64\n",
        "Soil_Type28                           15120 non-null int64\n",
        "Soil_Type29                           15120 non-null int64\n",
        "Soil_Type30                           15120 non-null int64\n",
        "Soil_Type31                           15120 non-null int64\n",
        "Soil_Type32                           15120 non-null int64\n",
        "Soil_Type33                           15120 non-null int64\n",
        "Soil_Type34                           15120 non-null int64\n",
        "Soil_Type35                           15120 non-null int64\n",
        "Soil_Type36                           15120 non-null int64\n",
        "Soil_Type37                           15120 non-null int64\n",
        "Soil_Type38                           15120 non-null int64\n",
        "Soil_Type39                           15120 non-null int64\n",
        "Soil_Type40                           15120 non-null int64\n",
        "Cover_Type                            15120 non-null int64\n",
        "Elevation*distroad                    15120 non-null float64\n",
        "dtypes: float64(11), int64(44)"
       ]
      }
     ],
     "prompt_number": 65
    },
    {
     "cell_type": "code",
     "collapsed": false,
     "input": [
      "train_data=df.values"
     ],
     "language": "python",
     "metadata": {},
     "outputs": [],
     "prompt_number": 66
    },
    {
     "cell_type": "code",
     "collapsed": false,
     "input": [
      "meanmed_elevationdistroad=np.zeros((2,7))"
     ],
     "language": "python",
     "metadata": {},
     "outputs": [],
     "prompt_number": 67
    },
    {
     "cell_type": "code",
     "collapsed": false,
     "input": [
      "meanmed_elevationdistroad"
     ],
     "language": "python",
     "metadata": {},
     "outputs": [
      {
       "metadata": {},
       "output_type": "pyout",
       "prompt_number": 68,
       "text": [
        "array([[ 0.,  0.,  0.,  0.,  0.,  0.,  0.],\n",
        "       [ 0.,  0.,  0.,  0.,  0.,  0.,  0.]])"
       ]
      }
     ],
     "prompt_number": 68
    },
    {
     "cell_type": "code",
     "collapsed": false,
     "input": [
      "for i in xrange(number_covertype):\n",
      "    meanmed_elevationdistroad[0,i]=train_data[train_data[0::,53]==i+1,54].mean()\n",
      "    meanmed_elevationdistroad[1,i]=np.median(train_data[train_data[0::,53]==i+1,54])"
     ],
     "language": "python",
     "metadata": {},
     "outputs": [],
     "prompt_number": 69
    },
    {
     "cell_type": "code",
     "collapsed": false,
     "input": [
      "meanmed_elevationdistroad"
     ],
     "language": "python",
     "metadata": {},
     "outputs": [
      {
       "metadata": {},
       "output_type": "pyout",
       "prompt_number": 70,
       "text": [
        "array([[ 8.08378038,  7.18550836,  2.39628083,  2.03363747,  3.73788248,\n",
        "         2.64128607,  9.15011197],\n",
        "       [ 7.3543355 ,  5.875062  ,  2.171318  ,  2.100118  ,  3.4485385 ,\n",
        "         2.3683675 ,  8.7578    ]])"
       ]
      }
     ],
     "prompt_number": 70
    },
    {
     "cell_type": "code",
     "collapsed": false,
     "input": [
      "tenfeatures_mean[0,0::]"
     ],
     "language": "python",
     "metadata": {},
     "outputs": [
      {
       "metadata": {},
       "output_type": "pyout",
       "prompt_number": 71,
       "text": [
        "array([ 3.12802593,  2.92254028,  2.39842315,  2.22342037,  2.78680139,\n",
        "        2.42327685,  3.36276991])"
       ]
      }
     ],
     "prompt_number": 71
    },
    {
     "cell_type": "code",
     "collapsed": false,
     "input": [
      "tenfeatures_median[0,0::]"
     ],
     "language": "python",
     "metadata": {},
     "outputs": [
      {
       "metadata": {},
       "output_type": "pyout",
       "prompt_number": 72,
       "text": [
        "array([ 3.144 ,  2.9315,  2.409 ,  2.2305,  2.793 ,  2.43  ,  3.364 ])"
       ]
      }
     ],
     "prompt_number": 72
    },
    {
     "cell_type": "code",
     "collapsed": false,
     "input": [
      "#Made the bins by elevation. 4 < 2.5, 3 < 2.41, 6 < 2.6, 5 < 2.8, 2 < 3, 1 < 3.3, 7 rest. Score was 0.51409. This probably\n",
      "#isn't the best way to go about making my clusters. Need a better model."
     ],
     "language": "python",
     "metadata": {},
     "outputs": [],
     "prompt_number": 73
    },
    {
     "cell_type": "code",
     "collapsed": false,
     "input": [
      "#Let's split up the data by different cover types and try to work with some simple models."
     ],
     "language": "python",
     "metadata": {},
     "outputs": [],
     "prompt_number": 74
    },
    {
     "cell_type": "code",
     "collapsed": false,
     "input": [
      "covertype_1=[]"
     ],
     "language": "python",
     "metadata": {},
     "outputs": [],
     "prompt_number": 75
    },
    {
     "cell_type": "code",
     "collapsed": false,
     "input": [
      "for row in train_data:\n",
      "    if float(row[53])==1:\n",
      "        covertype_1.append(row)"
     ],
     "language": "python",
     "metadata": {},
     "outputs": [],
     "prompt_number": 76
    },
    {
     "cell_type": "code",
     "collapsed": false,
     "input": [
      "covertype_2=[]"
     ],
     "language": "python",
     "metadata": {},
     "outputs": [],
     "prompt_number": 77
    },
    {
     "cell_type": "code",
     "collapsed": false,
     "input": [
      "covertype_3=[]"
     ],
     "language": "python",
     "metadata": {},
     "outputs": [],
     "prompt_number": 78
    },
    {
     "cell_type": "code",
     "collapsed": false,
     "input": [
      "covertype_4=[]"
     ],
     "language": "python",
     "metadata": {},
     "outputs": [],
     "prompt_number": 79
    },
    {
     "cell_type": "code",
     "collapsed": false,
     "input": [
      "covertype_5=[]"
     ],
     "language": "python",
     "metadata": {},
     "outputs": [],
     "prompt_number": 80
    },
    {
     "cell_type": "code",
     "collapsed": false,
     "input": [
      "covertype_6=[]"
     ],
     "language": "python",
     "metadata": {},
     "outputs": [],
     "prompt_number": 81
    },
    {
     "cell_type": "code",
     "collapsed": false,
     "input": [
      "covertype_7=[]"
     ],
     "language": "python",
     "metadata": {},
     "outputs": [],
     "prompt_number": 82
    },
    {
     "cell_type": "code",
     "collapsed": false,
     "input": [
      "for row in train_data:\n",
      "    if float(row[53])==2:\n",
      "        covertype_2.append(row)"
     ],
     "language": "python",
     "metadata": {},
     "outputs": [],
     "prompt_number": 83
    },
    {
     "cell_type": "code",
     "collapsed": false,
     "input": [
      "for row in train_data:\n",
      "    if float(row[53])==3:\n",
      "        covertype_3.append(row)"
     ],
     "language": "python",
     "metadata": {},
     "outputs": [],
     "prompt_number": 84
    },
    {
     "cell_type": "code",
     "collapsed": false,
     "input": [
      "for row in train_data:\n",
      "    if float(row[53])==4:\n",
      "        covertype_4.append(row)"
     ],
     "language": "python",
     "metadata": {},
     "outputs": [],
     "prompt_number": 85
    },
    {
     "cell_type": "code",
     "collapsed": false,
     "input": [
      "for row in train_data:\n",
      "    if float(row[53])==5:\n",
      "        covertype_5.append(row)"
     ],
     "language": "python",
     "metadata": {},
     "outputs": [],
     "prompt_number": 86
    },
    {
     "cell_type": "code",
     "collapsed": false,
     "input": [
      "for row in train_data:\n",
      "    if float(row[53])==6:\n",
      "        covertype_6.append(row)"
     ],
     "language": "python",
     "metadata": {},
     "outputs": [],
     "prompt_number": 87
    },
    {
     "cell_type": "code",
     "collapsed": false,
     "input": [
      "for row in train_data:\n",
      "    if float(row[53])==7:\n",
      "        covertype_7.append(row)"
     ],
     "language": "python",
     "metadata": {},
     "outputs": [],
     "prompt_number": 88
    },
    {
     "cell_type": "code",
     "collapsed": false,
     "input": [
      "covertype_1=np.asarray(covertype_1)"
     ],
     "language": "python",
     "metadata": {},
     "outputs": [],
     "prompt_number": 89
    },
    {
     "cell_type": "code",
     "collapsed": false,
     "input": [
      "covertype_2=np.asarray(covertype_2)\n",
      "covertype_3=np.asarray(covertype_3)\n",
      "covertype_4=np.asarray(covertype_4)\n",
      "covertype_5=np.asarray(covertype_5)\n",
      "covertype_6=np.asarray(covertype_6)\n",
      "covertype_7=np.asarray(covertype_7)"
     ],
     "language": "python",
     "metadata": {},
     "outputs": [],
     "prompt_number": 90
    },
    {
     "cell_type": "code",
     "collapsed": false,
     "input": [
      "#OK, I now have 7 separate arrays that represent each cover type. What do I want to know? I guess pretty similar things to what\n",
      "#I was looking at before but the model needs to be better."
     ],
     "language": "python",
     "metadata": {},
     "outputs": [],
     "prompt_number": 91
    },
    {
     "cell_type": "code",
     "collapsed": false,
     "input": [
      "#Conditions which emerge from the maximums: if elevation>3.675, then covertype=7. If 3.675>elevation>3.413, either type 7 or \n",
      "#type 1. If 3.413>elevation>3.007, either type 7, 1, or 2. If 3.007>elevation>2.883, either type 7, 1, 2 or 5. If \n",
      "#2.883>elevation>2.85, either type 1, 2, 5 or 6. If 2.85>elevation>2.526, either type 1, 2, 5, 6, or 3. If 2.526>elevation\n",
      "#>2.525, either type 1, 2, 5, 6, 3, or 4. If 2.525>elevation>2.482, either type 2, 5, 6, 3, or 4. If 2.482>elevation>2.169, \n",
      "#either type 2, 6, 3 or 4. If 2.169<elevation<1.989, either type 6,3 or 4. If 1.989<elevation<1.903, either type 6 or 3. If\n",
      "#1.903<elevation<1.863, type 6."
     ],
     "language": "python",
     "metadata": {},
     "outputs": [],
     "prompt_number": 92
    },
    {
     "cell_type": "code",
     "collapsed": false,
     "input": [
      "#We create 10 bins covering the full range of the feature values. Then we go through each bin counting the number of times a\n",
      "#features occur for that bin."
     ],
     "language": "python",
     "metadata": {},
     "outputs": [],
     "prompt_number": 93
    },
    {
     "cell_type": "code",
     "collapsed": false,
     "input": [
      "count7_features=np.zeros((54,10))"
     ],
     "language": "python",
     "metadata": {},
     "outputs": [],
     "prompt_number": 94
    },
    {
     "cell_type": "code",
     "collapsed": false,
     "input": [
      "count7_features"
     ],
     "language": "python",
     "metadata": {},
     "outputs": [
      {
       "metadata": {},
       "output_type": "pyout",
       "prompt_number": 95,
       "text": [
        "array([[ 0.,  0.,  0.,  0.,  0.,  0.,  0.,  0.,  0.,  0.],\n",
        "       [ 0.,  0.,  0.,  0.,  0.,  0.,  0.,  0.,  0.,  0.],\n",
        "       [ 0.,  0.,  0.,  0.,  0.,  0.,  0.,  0.,  0.,  0.],\n",
        "       [ 0.,  0.,  0.,  0.,  0.,  0.,  0.,  0.,  0.,  0.],\n",
        "       [ 0.,  0.,  0.,  0.,  0.,  0.,  0.,  0.,  0.,  0.],\n",
        "       [ 0.,  0.,  0.,  0.,  0.,  0.,  0.,  0.,  0.,  0.],\n",
        "       [ 0.,  0.,  0.,  0.,  0.,  0.,  0.,  0.,  0.,  0.],\n",
        "       [ 0.,  0.,  0.,  0.,  0.,  0.,  0.,  0.,  0.,  0.],\n",
        "       [ 0.,  0.,  0.,  0.,  0.,  0.,  0.,  0.,  0.,  0.],\n",
        "       [ 0.,  0.,  0.,  0.,  0.,  0.,  0.,  0.,  0.,  0.],\n",
        "       [ 0.,  0.,  0.,  0.,  0.,  0.,  0.,  0.,  0.,  0.],\n",
        "       [ 0.,  0.,  0.,  0.,  0.,  0.,  0.,  0.,  0.,  0.],\n",
        "       [ 0.,  0.,  0.,  0.,  0.,  0.,  0.,  0.,  0.,  0.],\n",
        "       [ 0.,  0.,  0.,  0.,  0.,  0.,  0.,  0.,  0.,  0.],\n",
        "       [ 0.,  0.,  0.,  0.,  0.,  0.,  0.,  0.,  0.,  0.],\n",
        "       [ 0.,  0.,  0.,  0.,  0.,  0.,  0.,  0.,  0.,  0.],\n",
        "       [ 0.,  0.,  0.,  0.,  0.,  0.,  0.,  0.,  0.,  0.],\n",
        "       [ 0.,  0.,  0.,  0.,  0.,  0.,  0.,  0.,  0.,  0.],\n",
        "       [ 0.,  0.,  0.,  0.,  0.,  0.,  0.,  0.,  0.,  0.],\n",
        "       [ 0.,  0.,  0.,  0.,  0.,  0.,  0.,  0.,  0.,  0.],\n",
        "       [ 0.,  0.,  0.,  0.,  0.,  0.,  0.,  0.,  0.,  0.],\n",
        "       [ 0.,  0.,  0.,  0.,  0.,  0.,  0.,  0.,  0.,  0.],\n",
        "       [ 0.,  0.,  0.,  0.,  0.,  0.,  0.,  0.,  0.,  0.],\n",
        "       [ 0.,  0.,  0.,  0.,  0.,  0.,  0.,  0.,  0.,  0.],\n",
        "       [ 0.,  0.,  0.,  0.,  0.,  0.,  0.,  0.,  0.,  0.],\n",
        "       [ 0.,  0.,  0.,  0.,  0.,  0.,  0.,  0.,  0.,  0.],\n",
        "       [ 0.,  0.,  0.,  0.,  0.,  0.,  0.,  0.,  0.,  0.],\n",
        "       [ 0.,  0.,  0.,  0.,  0.,  0.,  0.,  0.,  0.,  0.],\n",
        "       [ 0.,  0.,  0.,  0.,  0.,  0.,  0.,  0.,  0.,  0.],\n",
        "       [ 0.,  0.,  0.,  0.,  0.,  0.,  0.,  0.,  0.,  0.],\n",
        "       [ 0.,  0.,  0.,  0.,  0.,  0.,  0.,  0.,  0.,  0.],\n",
        "       [ 0.,  0.,  0.,  0.,  0.,  0.,  0.,  0.,  0.,  0.],\n",
        "       [ 0.,  0.,  0.,  0.,  0.,  0.,  0.,  0.,  0.,  0.],\n",
        "       [ 0.,  0.,  0.,  0.,  0.,  0.,  0.,  0.,  0.,  0.],\n",
        "       [ 0.,  0.,  0.,  0.,  0.,  0.,  0.,  0.,  0.,  0.],\n",
        "       [ 0.,  0.,  0.,  0.,  0.,  0.,  0.,  0.,  0.,  0.],\n",
        "       [ 0.,  0.,  0.,  0.,  0.,  0.,  0.,  0.,  0.,  0.],\n",
        "       [ 0.,  0.,  0.,  0.,  0.,  0.,  0.,  0.,  0.,  0.],\n",
        "       [ 0.,  0.,  0.,  0.,  0.,  0.,  0.,  0.,  0.,  0.],\n",
        "       [ 0.,  0.,  0.,  0.,  0.,  0.,  0.,  0.,  0.,  0.],\n",
        "       [ 0.,  0.,  0.,  0.,  0.,  0.,  0.,  0.,  0.,  0.],\n",
        "       [ 0.,  0.,  0.,  0.,  0.,  0.,  0.,  0.,  0.,  0.],\n",
        "       [ 0.,  0.,  0.,  0.,  0.,  0.,  0.,  0.,  0.,  0.],\n",
        "       [ 0.,  0.,  0.,  0.,  0.,  0.,  0.,  0.,  0.,  0.],\n",
        "       [ 0.,  0.,  0.,  0.,  0.,  0.,  0.,  0.,  0.,  0.],\n",
        "       [ 0.,  0.,  0.,  0.,  0.,  0.,  0.,  0.,  0.,  0.],\n",
        "       [ 0.,  0.,  0.,  0.,  0.,  0.,  0.,  0.,  0.,  0.],\n",
        "       [ 0.,  0.,  0.,  0.,  0.,  0.,  0.,  0.,  0.,  0.],\n",
        "       [ 0.,  0.,  0.,  0.,  0.,  0.,  0.,  0.,  0.,  0.],\n",
        "       [ 0.,  0.,  0.,  0.,  0.,  0.,  0.,  0.,  0.,  0.],\n",
        "       [ 0.,  0.,  0.,  0.,  0.,  0.,  0.,  0.,  0.,  0.],\n",
        "       [ 0.,  0.,  0.,  0.,  0.,  0.,  0.,  0.,  0.,  0.],\n",
        "       [ 0.,  0.,  0.,  0.,  0.,  0.,  0.,  0.,  0.,  0.],\n",
        "       [ 0.,  0.,  0.,  0.,  0.,  0.,  0.,  0.,  0.,  0.]])"
       ]
      }
     ],
     "prompt_number": 95
    },
    {
     "cell_type": "code",
     "collapsed": false,
     "input": [
      "for i in range(0,54):\n",
      "    delta=(covertype_7[0::,i+1].max()-covertype_7[0::,i+1].min())/10\n",
      "    minimum=covertype_7[0::,i+1].min()\n",
      "    for j in range(0,10):\n",
      "        count7_features[i,j]=len(covertype_7[covertype_7[0::,i+1]<=(minimum+(j+1)*delta),i+1])-\\\n",
      "        len(covertype_7[covertype_7[0::,i+1]<(minimum+(j)*delta),i+1])"
     ],
     "language": "python",
     "metadata": {},
     "outputs": [],
     "prompt_number": 96
    },
    {
     "cell_type": "code",
     "collapsed": false,
     "input": [
      "count7_features"
     ],
     "language": "python",
     "metadata": {},
     "outputs": [
      {
       "metadata": {},
       "output_type": "pyout",
       "prompt_number": 97,
       "text": [
        "array([[    7.,     0.,    24.,   294.,   713.,   890.,   139.,    32.,\n",
        "           32.,    29.],\n",
        "       [  291.,   283.,   373.,   225.,   234.,   145.,    73.,    70.,\n",
        "          177.,   289.],\n",
        "       [  123.,   456.,   671.,   519.,   199.,    97.,    54.,    33.,\n",
        "            3.,     5.],\n",
        "       [  619.,   437.,   309.,   271.,   204.,    84.,    85.,    69.,\n",
        "           65.,    17.],\n",
        "       [   31.,   758.,   563.,   338.,   165.,   158.,    72.,    40.,\n",
        "           20.,    15.],\n",
        "       [  172.,   227.,   300.,   300.,   317.,   201.,   239.,   241.,\n",
        "           83.,    80.],\n",
        "       [    3.,     3.,     8.,    34.,    74.,   208.,   320.,   478.,\n",
        "          647.,   385.],\n",
        "       [    3.,     4.,     4.,    11.,    29.,    84.,   279.,   635.,\n",
        "          707.,   455.],\n",
        "       [   23.,    27.,    57.,   133.,   288.,   439.,   591.,   405.,\n",
        "          182.,    33.],\n",
        "       [  104.,   298.,   262.,   313.,   270.,   293.,   158.,   223.,\n",
        "          163.,    76.],\n",
        "       [ 1615.,     0.,     0.,     0.,     0.,     0.,     0.,     0.,\n",
        "            0.,   545.],\n",
        "       [ 1908.,     0.,     0.,     0.,     0.,     0.,     0.,     0.,\n",
        "            0.,   252.],\n",
        "       [  797.,     0.,     0.,     0.,     0.,     0.,     0.,     0.,\n",
        "            0.,  1363.],\n",
        "       [ 2160.,  2160.,  2160.,  2160.,  2160.,  2160.,  2160.,  2160.,\n",
        "         2160.,  2160.],\n",
        "       [ 2160.,  2160.,  2160.,  2160.,  2160.,  2160.,  2160.,  2160.,\n",
        "         2160.,  2160.],\n",
        "       [ 2160.,  2160.,  2160.,  2160.,  2160.,  2160.,  2160.,  2160.,\n",
        "         2160.,  2160.],\n",
        "       [ 2160.,  2160.,  2160.,  2160.,  2160.,  2160.,  2160.,  2160.,\n",
        "         2160.,  2160.],\n",
        "       [ 2153.,     0.,     0.,     0.,     0.,     0.,     0.,     0.,\n",
        "            0.,     7.],\n",
        "       [ 2160.,  2160.,  2160.,  2160.,  2160.,  2160.,  2160.,  2160.,\n",
        "         2160.,  2160.],\n",
        "       [ 2160.,  2160.,  2160.,  2160.,  2160.,  2160.,  2160.,  2160.,\n",
        "         2160.,  2160.],\n",
        "       [ 2160.,  2160.,  2160.,  2160.,  2160.,  2160.,  2160.,  2160.,\n",
        "         2160.,  2160.],\n",
        "       [ 2160.,  2160.,  2160.,  2160.,  2160.,  2160.,  2160.,  2160.,\n",
        "         2160.,  2160.],\n",
        "       [ 2160.,  2160.,  2160.,  2160.,  2160.,  2160.,  2160.,  2160.,\n",
        "         2160.,  2160.],\n",
        "       [ 2160.,  2160.,  2160.,  2160.,  2160.,  2160.,  2160.,  2160.,\n",
        "         2160.,  2160.],\n",
        "       [ 2160.,  2160.,  2160.,  2160.,  2160.,  2160.,  2160.,  2160.,\n",
        "         2160.,  2160.],\n",
        "       [ 2160.,  2160.,  2160.,  2160.,  2160.,  2160.,  2160.,  2160.,\n",
        "         2160.,  2160.],\n",
        "       [ 2160.,  2160.,  2160.,  2160.,  2160.,  2160.,  2160.,  2160.,\n",
        "         2160.,  2160.],\n",
        "       [ 2160.,  2160.,  2160.,  2160.,  2160.,  2160.,  2160.,  2160.,\n",
        "         2160.,  2160.],\n",
        "       [ 2160.,  2160.,  2160.,  2160.,  2160.,  2160.,  2160.,  2160.,\n",
        "         2160.,  2160.],\n",
        "       [ 2160.,  2160.,  2160.,  2160.,  2160.,  2160.,  2160.,  2160.,\n",
        "         2160.,  2160.],\n",
        "       [ 2160.,  2160.,  2160.,  2160.,  2160.,  2160.,  2160.,  2160.,\n",
        "         2160.,  2160.],\n",
        "       [ 2160.,  2160.,  2160.,  2160.,  2160.,  2160.,  2160.,  2160.,\n",
        "         2160.,  2160.],\n",
        "       [ 2156.,     0.,     0.,     0.,     0.,     0.,     0.,     0.,\n",
        "            0.,     4.],\n",
        "       [ 2144.,     0.,     0.,     0.,     0.,     0.,     0.,     0.,\n",
        "            0.,    16.],\n",
        "       [ 2088.,     0.,     0.,     0.,     0.,     0.,     0.,     0.,\n",
        "            0.,    72.],\n",
        "       [ 2129.,     0.,     0.,     0.,     0.,     0.,     0.,     0.,\n",
        "            0.,    31.],\n",
        "       [ 2160.,  2160.,  2160.,  2160.,  2160.,  2160.,  2160.,  2160.,\n",
        "         2160.,  2160.],\n",
        "       [ 2160.,  2160.,  2160.,  2160.,  2160.,  2160.,  2160.,  2160.,\n",
        "         2160.,  2160.],\n",
        "       [ 2157.,     0.,     0.,     0.,     0.,     0.,     0.,     0.,\n",
        "            0.,     3.],\n",
        "       [ 2160.,  2160.,  2160.,  2160.,  2160.,  2160.,  2160.,  2160.,\n",
        "         2160.,  2160.],\n",
        "       [ 2084.,     0.,     0.,     0.,     0.,     0.,     0.,     0.,\n",
        "            0.,    76.],\n",
        "       [ 2140.,     0.,     0.,     0.,     0.,     0.,     0.,     0.,\n",
        "            0.,    20.],\n",
        "       [ 2133.,     0.,     0.,     0.,     0.,     0.,     0.,     0.,\n",
        "            0.,    27.],\n",
        "       [ 2090.,     0.,     0.,     0.,     0.,     0.,     0.,     0.,\n",
        "            0.,    70.],\n",
        "       [ 2093.,     0.,     0.,     0.,     0.,     0.,     0.,     0.,\n",
        "            0.,    67.],\n",
        "       [ 2156.,     0.,     0.,     0.,     0.,     0.,     0.,     0.,\n",
        "            0.,     4.],\n",
        "       [ 2062.,     0.,     0.,     0.,     0.,     0.,     0.,     0.,\n",
        "            0.,    98.],\n",
        "       [ 2152.,     0.,     0.,     0.,     0.,     0.,     0.,     0.,\n",
        "            0.,     8.],\n",
        "       [ 2126.,     0.,     0.,     0.,     0.,     0.,     0.,     0.,\n",
        "            0.,    34.],\n",
        "       [ 1519.,     0.,     0.,     0.,     0.,     0.,     0.,     0.,\n",
        "            0.,   641.],\n",
        "       [ 1585.,     0.,     0.,     0.,     0.,     0.,     0.,     0.,\n",
        "            0.,   575.],\n",
        "       [ 1753.,     0.,     0.,     0.,     0.,     0.,     0.,     0.,\n",
        "            0.,   407.],\n",
        "       [ 2160.,  2160.,  2160.,  2160.,  2160.,  2160.,  2160.,  2160.,\n",
        "         2160.,  2160.],\n",
        "       [  179.,   266.,   367.,   341.,   273.,   262.,   267.,    88.,\n",
        "           73.,    44.]])"
       ]
      }
     ],
     "prompt_number": 97
    },
    {
     "cell_type": "code",
     "collapsed": false,
     "input": [
      "count6_features=np.zeros((54,10))\n",
      "for i in range(0,54):\n",
      "    delta=(covertype_6[0::,i+1].max()-covertype_6[0::,i+1].min())/10\n",
      "    minimum=covertype_6[0::,i+1].min()\n",
      "    for j in range(0,10):\n",
      "        count6_features[i,j]=len(covertype_6[covertype_6[0::,i+1]<=(minimum+(j+1)*delta),i+1])-\\\n",
      "        len(covertype_6[covertype_6[0::,i+1]<(minimum+(j)*delta),i+1])"
     ],
     "language": "python",
     "metadata": {},
     "outputs": [],
     "prompt_number": 98
    },
    {
     "cell_type": "code",
     "collapsed": true,
     "input": [
      "count6_features"
     ],
     "language": "python",
     "metadata": {},
     "outputs": [
      {
       "metadata": {},
       "output_type": "pyout",
       "prompt_number": 99,
       "text": [
        "array([[  3.90000000e+01,   6.10000000e+01,   1.30000000e+02,\n",
        "          1.83000000e+02,   3.37000000e+02,   5.96000000e+02,\n",
        "          3.70000000e+02,   2.77000000e+02,   1.52000000e+02,\n",
        "          3.50000000e+01],\n",
        "       [  4.59000000e+02,   3.33000000e+02,   1.74000000e+02,\n",
        "          1.08000000e+02,   4.40000000e+01,   5.20000000e+01,\n",
        "          5.70000000e+01,   1.39000000e+02,   3.69000000e+02,\n",
        "          4.59000000e+02],\n",
        "       [  1.11000000e+02,   2.89000000e+02,   4.33000000e+02,\n",
        "          5.16000000e+02,   4.34000000e+02,   2.52000000e+02,\n",
        "          1.11000000e+02,   1.30000000e+01,   0.00000000e+00,\n",
        "          0.00000000e+00],\n",
        "       [  6.03000000e+02,   4.22000000e+02,   3.36000000e+02,\n",
        "          3.05000000e+02,   2.04000000e+02,   1.40000000e+02,\n",
        "          8.60000000e+01,   4.10000000e+01,   1.60000000e+01,\n",
        "          7.00000000e+00],\n",
        "       [  5.00000000e+00,   9.00000000e+00,   3.72000000e+02,\n",
        "          7.65000000e+02,   4.65000000e+02,   3.09000000e+02,\n",
        "          1.55000000e+02,   5.10000000e+01,   1.80000000e+01,\n",
        "          1.10000000e+01],\n",
        "       [  1.55000000e+02,   3.63000000e+02,   4.70000000e+02,\n",
        "          3.98000000e+02,   3.48000000e+02,   1.75000000e+02,\n",
        "          1.55000000e+02,   7.00000000e+01,   1.20000000e+01,\n",
        "          1.30000000e+01],\n",
        "       [  1.00000000e+00,   0.00000000e+00,   0.00000000e+00,\n",
        "          2.00000000e+00,   6.70000000e+01,   2.27000000e+02,\n",
        "          3.95000000e+02,   5.46000000e+02,   5.67000000e+02,\n",
        "          3.61000000e+02],\n",
        "       [  9.00000000e+00,   3.00000000e+01,   8.00000000e+01,\n",
        "          1.08000000e+02,   2.09000000e+02,   3.06000000e+02,\n",
        "          4.61000000e+02,   4.79000000e+02,   2.88000000e+02,\n",
        "          1.90000000e+02],\n",
        "       [  1.70000000e+01,   6.80000000e+01,   1.43000000e+02,\n",
        "          2.37000000e+02,   2.93000000e+02,   3.40000000e+02,\n",
        "          3.50000000e+02,   3.17000000e+02,   2.87000000e+02,\n",
        "          1.08000000e+02],\n",
        "       [  1.12000000e+02,   3.32000000e+02,   5.23000000e+02,\n",
        "          4.18000000e+02,   3.33000000e+02,   1.57000000e+02,\n",
        "          1.20000000e+02,   7.50000000e+01,   6.30000000e+01,\n",
        "          2.70000000e+01],\n",
        "       [  2.16000000e+03,   2.16000000e+03,   2.16000000e+03,\n",
        "          2.16000000e+03,   2.16000000e+03,   2.16000000e+03,\n",
        "          2.16000000e+03,   2.16000000e+03,   2.16000000e+03,\n",
        "          2.16000000e+03],\n",
        "       [  2.16000000e+03,   2.16000000e+03,   2.16000000e+03,\n",
        "          2.16000000e+03,   2.16000000e+03,   2.16000000e+03,\n",
        "          2.16000000e+03,   2.16000000e+03,   2.16000000e+03,\n",
        "          2.16000000e+03],\n",
        "       [  1.19800000e+03,   0.00000000e+00,   0.00000000e+00,\n",
        "          0.00000000e+00,   0.00000000e+00,   0.00000000e+00,\n",
        "          0.00000000e+00,   0.00000000e+00,   0.00000000e+00,\n",
        "          9.62000000e+02],\n",
        "       [  9.62000000e+02,   0.00000000e+00,   0.00000000e+00,\n",
        "          0.00000000e+00,   0.00000000e+00,   0.00000000e+00,\n",
        "          0.00000000e+00,   0.00000000e+00,   0.00000000e+00,\n",
        "          1.19800000e+03],\n",
        "       [  2.06500000e+03,   0.00000000e+00,   0.00000000e+00,\n",
        "          0.00000000e+00,   0.00000000e+00,   0.00000000e+00,\n",
        "          0.00000000e+00,   0.00000000e+00,   0.00000000e+00,\n",
        "          9.50000000e+01],\n",
        "       [  1.97800000e+03,   0.00000000e+00,   0.00000000e+00,\n",
        "          0.00000000e+00,   0.00000000e+00,   0.00000000e+00,\n",
        "          0.00000000e+00,   0.00000000e+00,   0.00000000e+00,\n",
        "          1.82000000e+02],\n",
        "       [  2.14200000e+03,   0.00000000e+00,   0.00000000e+00,\n",
        "          0.00000000e+00,   0.00000000e+00,   0.00000000e+00,\n",
        "          0.00000000e+00,   0.00000000e+00,   0.00000000e+00,\n",
        "          1.80000000e+01],\n",
        "       [  2.07300000e+03,   0.00000000e+00,   0.00000000e+00,\n",
        "          0.00000000e+00,   0.00000000e+00,   0.00000000e+00,\n",
        "          0.00000000e+00,   0.00000000e+00,   0.00000000e+00,\n",
        "          8.70000000e+01],\n",
        "       [  2.08900000e+03,   0.00000000e+00,   0.00000000e+00,\n",
        "          0.00000000e+00,   0.00000000e+00,   0.00000000e+00,\n",
        "          0.00000000e+00,   0.00000000e+00,   0.00000000e+00,\n",
        "          7.10000000e+01],\n",
        "       [  2.00900000e+03,   0.00000000e+00,   0.00000000e+00,\n",
        "          0.00000000e+00,   0.00000000e+00,   0.00000000e+00,\n",
        "          0.00000000e+00,   0.00000000e+00,   0.00000000e+00,\n",
        "          1.51000000e+02],\n",
        "       [  2.16000000e+03,   2.16000000e+03,   2.16000000e+03,\n",
        "          2.16000000e+03,   2.16000000e+03,   2.16000000e+03,\n",
        "          2.16000000e+03,   2.16000000e+03,   2.16000000e+03,\n",
        "          2.16000000e+03],\n",
        "       [  2.16000000e+03,   2.16000000e+03,   2.16000000e+03,\n",
        "          2.16000000e+03,   2.16000000e+03,   2.16000000e+03,\n",
        "          2.16000000e+03,   2.16000000e+03,   2.16000000e+03,\n",
        "          2.16000000e+03],\n",
        "       [  1.05900000e+03,   0.00000000e+00,   0.00000000e+00,\n",
        "          0.00000000e+00,   0.00000000e+00,   0.00000000e+00,\n",
        "          0.00000000e+00,   0.00000000e+00,   0.00000000e+00,\n",
        "          1.10100000e+03],\n",
        "       [  2.09300000e+03,   0.00000000e+00,   0.00000000e+00,\n",
        "          0.00000000e+00,   0.00000000e+00,   0.00000000e+00,\n",
        "          0.00000000e+00,   0.00000000e+00,   0.00000000e+00,\n",
        "          6.70000000e+01],\n",
        "       [  2.16000000e+03,   2.16000000e+03,   2.16000000e+03,\n",
        "          2.16000000e+03,   2.16000000e+03,   2.16000000e+03,\n",
        "          2.16000000e+03,   2.16000000e+03,   2.16000000e+03,\n",
        "          2.16000000e+03],\n",
        "       [  2.09400000e+03,   0.00000000e+00,   0.00000000e+00,\n",
        "          0.00000000e+00,   0.00000000e+00,   0.00000000e+00,\n",
        "          0.00000000e+00,   0.00000000e+00,   0.00000000e+00,\n",
        "          6.60000000e+01],\n",
        "       [  2.12300000e+03,   0.00000000e+00,   0.00000000e+00,\n",
        "          0.00000000e+00,   0.00000000e+00,   0.00000000e+00,\n",
        "          0.00000000e+00,   0.00000000e+00,   0.00000000e+00,\n",
        "          3.70000000e+01],\n",
        "       [  2.12300000e+03,   0.00000000e+00,   0.00000000e+00,\n",
        "          0.00000000e+00,   0.00000000e+00,   0.00000000e+00,\n",
        "          0.00000000e+00,   0.00000000e+00,   0.00000000e+00,\n",
        "          3.70000000e+01],\n",
        "       [  2.07200000e+03,   0.00000000e+00,   0.00000000e+00,\n",
        "          0.00000000e+00,   0.00000000e+00,   0.00000000e+00,\n",
        "          0.00000000e+00,   0.00000000e+00,   0.00000000e+00,\n",
        "          8.80000000e+01],\n",
        "       [  2.16000000e+03,   2.16000000e+03,   2.16000000e+03,\n",
        "          2.16000000e+03,   2.16000000e+03,   2.16000000e+03,\n",
        "          2.16000000e+03,   2.16000000e+03,   2.16000000e+03,\n",
        "          2.16000000e+03],\n",
        "       [  2.16000000e+03,   2.16000000e+03,   2.16000000e+03,\n",
        "          2.16000000e+03,   2.16000000e+03,   2.16000000e+03,\n",
        "          2.16000000e+03,   2.16000000e+03,   2.16000000e+03,\n",
        "          2.16000000e+03],\n",
        "       [  2.12300000e+03,   0.00000000e+00,   0.00000000e+00,\n",
        "          0.00000000e+00,   0.00000000e+00,   0.00000000e+00,\n",
        "          0.00000000e+00,   0.00000000e+00,   0.00000000e+00,\n",
        "          3.70000000e+01],\n",
        "       [  2.16000000e+03,   2.16000000e+03,   2.16000000e+03,\n",
        "          2.16000000e+03,   2.16000000e+03,   2.16000000e+03,\n",
        "          2.16000000e+03,   2.16000000e+03,   2.16000000e+03,\n",
        "          2.16000000e+03],\n",
        "       [  2.16000000e+03,   2.16000000e+03,   2.16000000e+03,\n",
        "          2.16000000e+03,   2.16000000e+03,   2.16000000e+03,\n",
        "          2.16000000e+03,   2.16000000e+03,   2.16000000e+03,\n",
        "          2.16000000e+03],\n",
        "       [  2.15700000e+03,   0.00000000e+00,   0.00000000e+00,\n",
        "          0.00000000e+00,   0.00000000e+00,   0.00000000e+00,\n",
        "          0.00000000e+00,   0.00000000e+00,   0.00000000e+00,\n",
        "          3.00000000e+00],\n",
        "       [  2.14500000e+03,   0.00000000e+00,   0.00000000e+00,\n",
        "          0.00000000e+00,   0.00000000e+00,   0.00000000e+00,\n",
        "          0.00000000e+00,   0.00000000e+00,   0.00000000e+00,\n",
        "          1.50000000e+01],\n",
        "       [  2.16000000e+03,   2.16000000e+03,   2.16000000e+03,\n",
        "          2.16000000e+03,   2.16000000e+03,   2.16000000e+03,\n",
        "          2.16000000e+03,   2.16000000e+03,   2.16000000e+03,\n",
        "          2.16000000e+03],\n",
        "       [  2.16000000e+03,   2.16000000e+03,   2.16000000e+03,\n",
        "          2.16000000e+03,   2.16000000e+03,   2.16000000e+03,\n",
        "          2.16000000e+03,   2.16000000e+03,   2.16000000e+03,\n",
        "          2.16000000e+03],\n",
        "       [  2.16000000e+03,   2.16000000e+03,   2.16000000e+03,\n",
        "          2.16000000e+03,   2.16000000e+03,   2.16000000e+03,\n",
        "          2.16000000e+03,   2.16000000e+03,   2.16000000e+03,\n",
        "          2.16000000e+03],\n",
        "       [  2.16000000e+03,   2.16000000e+03,   2.16000000e+03,\n",
        "          2.16000000e+03,   2.16000000e+03,   2.16000000e+03,\n",
        "          2.16000000e+03,   2.16000000e+03,   2.16000000e+03,\n",
        "          2.16000000e+03],\n",
        "       [  2.16000000e+03,   2.16000000e+03,   2.16000000e+03,\n",
        "          2.16000000e+03,   2.16000000e+03,   2.16000000e+03,\n",
        "          2.16000000e+03,   2.16000000e+03,   2.16000000e+03,\n",
        "          2.16000000e+03],\n",
        "       [  2.16000000e+03,   2.16000000e+03,   2.16000000e+03,\n",
        "          2.16000000e+03,   2.16000000e+03,   2.16000000e+03,\n",
        "          2.16000000e+03,   2.16000000e+03,   2.16000000e+03,\n",
        "          2.16000000e+03],\n",
        "       [  2.15300000e+03,   0.00000000e+00,   0.00000000e+00,\n",
        "          0.00000000e+00,   0.00000000e+00,   0.00000000e+00,\n",
        "          0.00000000e+00,   0.00000000e+00,   0.00000000e+00,\n",
        "          7.00000000e+00],\n",
        "       [  2.13000000e+03,   0.00000000e+00,   0.00000000e+00,\n",
        "          0.00000000e+00,   0.00000000e+00,   0.00000000e+00,\n",
        "          0.00000000e+00,   0.00000000e+00,   0.00000000e+00,\n",
        "          3.00000000e+01],\n",
        "       [  2.09400000e+03,   0.00000000e+00,   0.00000000e+00,\n",
        "          0.00000000e+00,   0.00000000e+00,   0.00000000e+00,\n",
        "          0.00000000e+00,   0.00000000e+00,   0.00000000e+00,\n",
        "          6.60000000e+01],\n",
        "       [  2.15800000e+03,   0.00000000e+00,   0.00000000e+00,\n",
        "          0.00000000e+00,   0.00000000e+00,   0.00000000e+00,\n",
        "          0.00000000e+00,   0.00000000e+00,   0.00000000e+00,\n",
        "          2.00000000e+00],\n",
        "       [  2.16000000e+03,   2.16000000e+03,   2.16000000e+03,\n",
        "          2.16000000e+03,   2.16000000e+03,   2.16000000e+03,\n",
        "          2.16000000e+03,   2.16000000e+03,   2.16000000e+03,\n",
        "          2.16000000e+03],\n",
        "       [  2.16000000e+03,   2.16000000e+03,   2.16000000e+03,\n",
        "          2.16000000e+03,   2.16000000e+03,   2.16000000e+03,\n",
        "          2.16000000e+03,   2.16000000e+03,   2.16000000e+03,\n",
        "          2.16000000e+03],\n",
        "       [  2.16000000e+03,   2.16000000e+03,   2.16000000e+03,\n",
        "          2.16000000e+03,   2.16000000e+03,   2.16000000e+03,\n",
        "          2.16000000e+03,   2.16000000e+03,   2.16000000e+03,\n",
        "          2.16000000e+03],\n",
        "       [  2.16000000e+03,   2.16000000e+03,   2.16000000e+03,\n",
        "          2.16000000e+03,   2.16000000e+03,   2.16000000e+03,\n",
        "          2.16000000e+03,   2.16000000e+03,   2.16000000e+03,\n",
        "          2.16000000e+03],\n",
        "       [  2.16000000e+03,   2.16000000e+03,   2.16000000e+03,\n",
        "          2.16000000e+03,   2.16000000e+03,   2.16000000e+03,\n",
        "          2.16000000e+03,   2.16000000e+03,   2.16000000e+03,\n",
        "          2.16000000e+03],\n",
        "       [  2.16000000e+03,   2.16000000e+03,   2.16000000e+03,\n",
        "          2.16000000e+03,   2.16000000e+03,   2.16000000e+03,\n",
        "          2.16000000e+03,   2.16000000e+03,   2.16000000e+03,\n",
        "          2.16000000e+03],\n",
        "       [  2.16000000e+03,   2.16000000e+03,   2.16000000e+03,\n",
        "          2.16000000e+03,   2.16000000e+03,   2.16000000e+03,\n",
        "          2.16000000e+03,   2.16000000e+03,   2.16000000e+03,\n",
        "          2.16000000e+03],\n",
        "       [  1.98000000e+02,   4.18000000e+02,   4.81000000e+02,\n",
        "          4.01000000e+02,   2.73000000e+02,   1.26000000e+02,\n",
        "          1.55000000e+02,   7.70000000e+01,   1.90000000e+01,\n",
        "          1.20000000e+01]])"
       ]
      }
     ],
     "prompt_number": 99
    },
    {
     "cell_type": "code",
     "collapsed": false,
     "input": [
      "count5_features=np.zeros((54,10))\n",
      "for i in range(0,54):\n",
      "    delta=(covertype_5[0::,i+1].max()-covertype_5[0::,i+1].min())/10\n",
      "    minimum=covertype_5[0::,i+1].min()\n",
      "    for j in range(0,10):\n",
      "        count5_features[i,j]=len(covertype_5[covertype_5[0::,i+1]<=(minimum+(j+1)*delta),i+1])-\\\n",
      "        len(covertype_5[covertype_5[0::,i+1]<(minimum+(j)*delta),i+1])"
     ],
     "language": "python",
     "metadata": {},
     "outputs": [],
     "prompt_number": 100
    },
    {
     "cell_type": "code",
     "collapsed": false,
     "input": [
      "count5_features"
     ],
     "language": "python",
     "metadata": {},
     "outputs": [
      {
       "metadata": {},
       "output_type": "pyout",
       "prompt_number": 101,
       "text": [
        "array([[  4.40000000e+01,   6.00000000e+01,   5.70000000e+01,\n",
        "          9.70000000e+01,   4.21000000e+02,   4.51000000e+02,\n",
        "          4.66000000e+02,   3.66000000e+02,   1.79000000e+02,\n",
        "          3.80000000e+01],\n",
        "       [  1.59000000e+02,   4.07000000e+02,   5.08000000e+02,\n",
        "          2.79000000e+02,   2.10000000e+02,   1.37000000e+02,\n",
        "          1.03000000e+02,   1.36000000e+02,   9.80000000e+01,\n",
        "          1.23000000e+02],\n",
        "       [  1.61000000e+02,   4.38000000e+02,   4.35000000e+02,\n",
        "          4.30000000e+02,   3.42000000e+02,   2.21000000e+02,\n",
        "          1.09000000e+02,   8.00000000e+00,   4.00000000e+00,\n",
        "          1.20000000e+01],\n",
        "       [  7.48000000e+02,   5.89000000e+02,   3.91000000e+02,\n",
        "          2.14000000e+02,   9.50000000e+01,   6.60000000e+01,\n",
        "          2.50000000e+01,   1.80000000e+01,   1.10000000e+01,\n",
        "          7.00000000e+00],\n",
        "       [  7.00000000e+00,   1.10000000e+01,   4.40000000e+01,\n",
        "          8.62000000e+02,   5.16000000e+02,   3.46000000e+02,\n",
        "          1.97000000e+02,   8.30000000e+01,   6.70000000e+01,\n",
        "          2.70000000e+01],\n",
        "       [  6.25000000e+02,   3.53000000e+02,   3.35000000e+02,\n",
        "          4.39000000e+02,   2.61000000e+02,   5.80000000e+01,\n",
        "          1.30000000e+01,   0.00000000e+00,   8.00000000e+00,\n",
        "          6.80000000e+01],\n",
        "       [  3.00000000e+00,   9.00000000e+00,   3.30000000e+01,\n",
        "          6.40000000e+01,   1.38000000e+02,   1.95000000e+02,\n",
        "          2.29000000e+02,   4.92000000e+02,   4.73000000e+02,\n",
        "          5.34000000e+02],\n",
        "       [  1.00000000e+01,   6.00000000e+00,   2.00000000e+00,\n",
        "          3.20000000e+01,   1.24000000e+02,   2.07000000e+02,\n",
        "          2.34000000e+02,   4.64000000e+02,   6.17000000e+02,\n",
        "          5.25000000e+02],\n",
        "       [  5.40000000e+01,   1.37000000e+02,   1.73000000e+02,\n",
        "          2.52000000e+02,   2.81000000e+02,   3.61000000e+02,\n",
        "          4.06000000e+02,   2.49000000e+02,   1.88000000e+02,\n",
        "          5.90000000e+01],\n",
        "       [  2.97000000e+02,   6.23000000e+02,   6.89000000e+02,\n",
        "          4.35000000e+02,   4.70000000e+01,   1.00000000e+00,\n",
        "          0.00000000e+00,   0.00000000e+00,   4.30000000e+01,\n",
        "          2.50000000e+01],\n",
        "       [  1.30400000e+03,   0.00000000e+00,   0.00000000e+00,\n",
        "          0.00000000e+00,   0.00000000e+00,   0.00000000e+00,\n",
        "          0.00000000e+00,   0.00000000e+00,   0.00000000e+00,\n",
        "          8.56000000e+02],\n",
        "       [  2.16000000e+03,   2.16000000e+03,   2.16000000e+03,\n",
        "          2.16000000e+03,   2.16000000e+03,   2.16000000e+03,\n",
        "          2.16000000e+03,   2.16000000e+03,   2.16000000e+03,\n",
        "          2.16000000e+03],\n",
        "       [  8.56000000e+02,   0.00000000e+00,   0.00000000e+00,\n",
        "          0.00000000e+00,   0.00000000e+00,   0.00000000e+00,\n",
        "          0.00000000e+00,   0.00000000e+00,   0.00000000e+00,\n",
        "          1.30400000e+03],\n",
        "       [  2.16000000e+03,   2.16000000e+03,   2.16000000e+03,\n",
        "          2.16000000e+03,   2.16000000e+03,   2.16000000e+03,\n",
        "          2.16000000e+03,   2.16000000e+03,   2.16000000e+03,\n",
        "          2.16000000e+03],\n",
        "       [  2.16000000e+03,   2.16000000e+03,   2.16000000e+03,\n",
        "          2.16000000e+03,   2.16000000e+03,   2.16000000e+03,\n",
        "          2.16000000e+03,   2.16000000e+03,   2.16000000e+03,\n",
        "          2.16000000e+03],\n",
        "       [  2.09900000e+03,   0.00000000e+00,   0.00000000e+00,\n",
        "          0.00000000e+00,   0.00000000e+00,   0.00000000e+00,\n",
        "          0.00000000e+00,   0.00000000e+00,   0.00000000e+00,\n",
        "          6.10000000e+01],\n",
        "       [  2.16000000e+03,   2.16000000e+03,   2.16000000e+03,\n",
        "          2.16000000e+03,   2.16000000e+03,   2.16000000e+03,\n",
        "          2.16000000e+03,   2.16000000e+03,   2.16000000e+03,\n",
        "          2.16000000e+03],\n",
        "       [  2.03100000e+03,   0.00000000e+00,   0.00000000e+00,\n",
        "          0.00000000e+00,   0.00000000e+00,   0.00000000e+00,\n",
        "          0.00000000e+00,   0.00000000e+00,   0.00000000e+00,\n",
        "          1.29000000e+02],\n",
        "       [  2.16000000e+03,   2.16000000e+03,   2.16000000e+03,\n",
        "          2.16000000e+03,   2.16000000e+03,   2.16000000e+03,\n",
        "          2.16000000e+03,   2.16000000e+03,   2.16000000e+03,\n",
        "          2.16000000e+03],\n",
        "       [  2.16000000e+03,   2.16000000e+03,   2.16000000e+03,\n",
        "          2.16000000e+03,   2.16000000e+03,   2.16000000e+03,\n",
        "          2.16000000e+03,   2.16000000e+03,   2.16000000e+03,\n",
        "          2.16000000e+03],\n",
        "       [  2.16000000e+03,   2.16000000e+03,   2.16000000e+03,\n",
        "          2.16000000e+03,   2.16000000e+03,   2.16000000e+03,\n",
        "          2.16000000e+03,   2.16000000e+03,   2.16000000e+03,\n",
        "          2.16000000e+03],\n",
        "       [  2.16000000e+03,   2.16000000e+03,   2.16000000e+03,\n",
        "          2.16000000e+03,   2.16000000e+03,   2.16000000e+03,\n",
        "          2.16000000e+03,   2.16000000e+03,   2.16000000e+03,\n",
        "          2.16000000e+03],\n",
        "       [  2.09600000e+03,   0.00000000e+00,   0.00000000e+00,\n",
        "          0.00000000e+00,   0.00000000e+00,   0.00000000e+00,\n",
        "          0.00000000e+00,   0.00000000e+00,   0.00000000e+00,\n",
        "          6.40000000e+01],\n",
        "       [  2.00600000e+03,   0.00000000e+00,   0.00000000e+00,\n",
        "          0.00000000e+00,   0.00000000e+00,   0.00000000e+00,\n",
        "          0.00000000e+00,   0.00000000e+00,   0.00000000e+00,\n",
        "          1.54000000e+02],\n",
        "       [  2.16000000e+03,   2.16000000e+03,   2.16000000e+03,\n",
        "          2.16000000e+03,   2.16000000e+03,   2.16000000e+03,\n",
        "          2.16000000e+03,   2.16000000e+03,   2.16000000e+03,\n",
        "          2.16000000e+03],\n",
        "       [  1.85500000e+03,   0.00000000e+00,   0.00000000e+00,\n",
        "          0.00000000e+00,   0.00000000e+00,   0.00000000e+00,\n",
        "          0.00000000e+00,   0.00000000e+00,   0.00000000e+00,\n",
        "          3.05000000e+02],\n",
        "       [  2.16000000e+03,   2.16000000e+03,   2.16000000e+03,\n",
        "          2.16000000e+03,   2.16000000e+03,   2.16000000e+03,\n",
        "          2.16000000e+03,   2.16000000e+03,   2.16000000e+03,\n",
        "          2.16000000e+03],\n",
        "       [  2.15100000e+03,   0.00000000e+00,   0.00000000e+00,\n",
        "          0.00000000e+00,   0.00000000e+00,   0.00000000e+00,\n",
        "          0.00000000e+00,   0.00000000e+00,   0.00000000e+00,\n",
        "          9.00000000e+00],\n",
        "       [  2.02900000e+03,   0.00000000e+00,   0.00000000e+00,\n",
        "          0.00000000e+00,   0.00000000e+00,   0.00000000e+00,\n",
        "          0.00000000e+00,   0.00000000e+00,   0.00000000e+00,\n",
        "          1.31000000e+02],\n",
        "       [  2.11600000e+03,   0.00000000e+00,   0.00000000e+00,\n",
        "          0.00000000e+00,   0.00000000e+00,   0.00000000e+00,\n",
        "          0.00000000e+00,   0.00000000e+00,   0.00000000e+00,\n",
        "          4.40000000e+01],\n",
        "       [  2.14200000e+03,   0.00000000e+00,   0.00000000e+00,\n",
        "          0.00000000e+00,   0.00000000e+00,   0.00000000e+00,\n",
        "          0.00000000e+00,   0.00000000e+00,   0.00000000e+00,\n",
        "          1.80000000e+01],\n",
        "       [  2.15400000e+03,   0.00000000e+00,   0.00000000e+00,\n",
        "          0.00000000e+00,   0.00000000e+00,   0.00000000e+00,\n",
        "          0.00000000e+00,   0.00000000e+00,   0.00000000e+00,\n",
        "          6.00000000e+00],\n",
        "       [  2.16000000e+03,   2.16000000e+03,   2.16000000e+03,\n",
        "          2.16000000e+03,   2.16000000e+03,   2.16000000e+03,\n",
        "          2.16000000e+03,   2.16000000e+03,   2.16000000e+03,\n",
        "          2.16000000e+03],\n",
        "       [  2.16000000e+03,   2.16000000e+03,   2.16000000e+03,\n",
        "          2.16000000e+03,   2.16000000e+03,   2.16000000e+03,\n",
        "          2.16000000e+03,   2.16000000e+03,   2.16000000e+03,\n",
        "          2.16000000e+03],\n",
        "       [  2.00300000e+03,   0.00000000e+00,   0.00000000e+00,\n",
        "          0.00000000e+00,   0.00000000e+00,   0.00000000e+00,\n",
        "          0.00000000e+00,   0.00000000e+00,   0.00000000e+00,\n",
        "          1.57000000e+02],\n",
        "       [  2.14900000e+03,   0.00000000e+00,   0.00000000e+00,\n",
        "          0.00000000e+00,   0.00000000e+00,   0.00000000e+00,\n",
        "          0.00000000e+00,   0.00000000e+00,   0.00000000e+00,\n",
        "          1.10000000e+01],\n",
        "       [  2.16000000e+03,   2.16000000e+03,   2.16000000e+03,\n",
        "          2.16000000e+03,   2.16000000e+03,   2.16000000e+03,\n",
        "          2.16000000e+03,   2.16000000e+03,   2.16000000e+03,\n",
        "          2.16000000e+03],\n",
        "       [  2.13200000e+03,   0.00000000e+00,   0.00000000e+00,\n",
        "          0.00000000e+00,   0.00000000e+00,   0.00000000e+00,\n",
        "          0.00000000e+00,   0.00000000e+00,   0.00000000e+00,\n",
        "          2.80000000e+01],\n",
        "       [  2.16000000e+03,   2.16000000e+03,   2.16000000e+03,\n",
        "          2.16000000e+03,   2.16000000e+03,   2.16000000e+03,\n",
        "          2.16000000e+03,   2.16000000e+03,   2.16000000e+03,\n",
        "          2.16000000e+03],\n",
        "       [  2.15700000e+03,   0.00000000e+00,   0.00000000e+00,\n",
        "          0.00000000e+00,   0.00000000e+00,   0.00000000e+00,\n",
        "          0.00000000e+00,   0.00000000e+00,   0.00000000e+00,\n",
        "          3.00000000e+00],\n",
        "       [  1.90600000e+03,   0.00000000e+00,   0.00000000e+00,\n",
        "          0.00000000e+00,   0.00000000e+00,   0.00000000e+00,\n",
        "          0.00000000e+00,   0.00000000e+00,   0.00000000e+00,\n",
        "          2.54000000e+02],\n",
        "       [  1.68000000e+03,   0.00000000e+00,   0.00000000e+00,\n",
        "          0.00000000e+00,   0.00000000e+00,   0.00000000e+00,\n",
        "          0.00000000e+00,   0.00000000e+00,   0.00000000e+00,\n",
        "          4.80000000e+02],\n",
        "       [  2.07300000e+03,   0.00000000e+00,   0.00000000e+00,\n",
        "          0.00000000e+00,   0.00000000e+00,   0.00000000e+00,\n",
        "          0.00000000e+00,   0.00000000e+00,   0.00000000e+00,\n",
        "          8.70000000e+01],\n",
        "       [  2.06000000e+03,   0.00000000e+00,   0.00000000e+00,\n",
        "          0.00000000e+00,   0.00000000e+00,   0.00000000e+00,\n",
        "          0.00000000e+00,   0.00000000e+00,   0.00000000e+00,\n",
        "          1.00000000e+02],\n",
        "       [  2.04500000e+03,   0.00000000e+00,   0.00000000e+00,\n",
        "          0.00000000e+00,   0.00000000e+00,   0.00000000e+00,\n",
        "          0.00000000e+00,   0.00000000e+00,   0.00000000e+00,\n",
        "          1.15000000e+02],\n",
        "       [  2.15600000e+03,   0.00000000e+00,   0.00000000e+00,\n",
        "          0.00000000e+00,   0.00000000e+00,   0.00000000e+00,\n",
        "          0.00000000e+00,   0.00000000e+00,   0.00000000e+00,\n",
        "          4.00000000e+00],\n",
        "       [  2.16000000e+03,   2.16000000e+03,   2.16000000e+03,\n",
        "          2.16000000e+03,   2.16000000e+03,   2.16000000e+03,\n",
        "          2.16000000e+03,   2.16000000e+03,   2.16000000e+03,\n",
        "          2.16000000e+03],\n",
        "       [  2.16000000e+03,   2.16000000e+03,   2.16000000e+03,\n",
        "          2.16000000e+03,   2.16000000e+03,   2.16000000e+03,\n",
        "          2.16000000e+03,   2.16000000e+03,   2.16000000e+03,\n",
        "          2.16000000e+03],\n",
        "       [  2.16000000e+03,   2.16000000e+03,   2.16000000e+03,\n",
        "          2.16000000e+03,   2.16000000e+03,   2.16000000e+03,\n",
        "          2.16000000e+03,   2.16000000e+03,   2.16000000e+03,\n",
        "          2.16000000e+03],\n",
        "       [  2.16000000e+03,   2.16000000e+03,   2.16000000e+03,\n",
        "          2.16000000e+03,   2.16000000e+03,   2.16000000e+03,\n",
        "          2.16000000e+03,   2.16000000e+03,   2.16000000e+03,\n",
        "          2.16000000e+03],\n",
        "       [  2.16000000e+03,   2.16000000e+03,   2.16000000e+03,\n",
        "          2.16000000e+03,   2.16000000e+03,   2.16000000e+03,\n",
        "          2.16000000e+03,   2.16000000e+03,   2.16000000e+03,\n",
        "          2.16000000e+03],\n",
        "       [  2.16000000e+03,   2.16000000e+03,   2.16000000e+03,\n",
        "          2.16000000e+03,   2.16000000e+03,   2.16000000e+03,\n",
        "          2.16000000e+03,   2.16000000e+03,   2.16000000e+03,\n",
        "          2.16000000e+03],\n",
        "       [  2.16000000e+03,   2.16000000e+03,   2.16000000e+03,\n",
        "          2.16000000e+03,   2.16000000e+03,   2.16000000e+03,\n",
        "          2.16000000e+03,   2.16000000e+03,   2.16000000e+03,\n",
        "          2.16000000e+03],\n",
        "       [  6.47000000e+02,   3.66000000e+02,   3.71000000e+02,\n",
        "          4.66000000e+02,   1.99000000e+02,   3.30000000e+01,\n",
        "          2.00000000e+00,   0.00000000e+00,   1.80000000e+01,\n",
        "          5.80000000e+01]])"
       ]
      }
     ],
     "prompt_number": 101
    },
    {
     "cell_type": "code",
     "collapsed": false,
     "input": [
      "count4_features=np.zeros((54,10))\n",
      "for i in range(0,54):\n",
      "    delta=(covertype_4[0::,i+1].max()-covertype_4[0::,i+1].min())/10\n",
      "    minimum=covertype_4[0::,i+1].min()\n",
      "    for j in range(0,10):\n",
      "        count4_features[i,j]=len(covertype_4[covertype_4[0::,i+1]<=(minimum+(j+1)*delta),i+1])-\\\n",
      "        len(covertype_4[covertype_4[0::,i+1]<(minimum+(j)*delta),i+1])"
     ],
     "language": "python",
     "metadata": {},
     "outputs": [],
     "prompt_number": 102
    },
    {
     "cell_type": "code",
     "collapsed": false,
     "input": [
      "count4_features"
     ],
     "language": "python",
     "metadata": {},
     "outputs": [
      {
       "metadata": {},
       "output_type": "pyout",
       "prompt_number": 103,
       "text": [
        "array([[  8.70000000e+01,   2.02000000e+02,   2.99000000e+02,\n",
        "          3.05000000e+02,   3.75000000e+02,   4.19000000e+02,\n",
        "          3.23000000e+02,   1.19000000e+02,   1.80000000e+01,\n",
        "          1.30000000e+01],\n",
        "       [  1.73000000e+02,   2.70000000e+02,   4.08000000e+02,\n",
        "          6.60000000e+02,   1.67000000e+02,   1.09000000e+02,\n",
        "          6.30000000e+01,   5.40000000e+01,   9.20000000e+01,\n",
        "          1.64000000e+02],\n",
        "       [  1.68000000e+02,   3.74000000e+02,   3.74000000e+02,\n",
        "          3.37000000e+02,   3.01000000e+02,   3.35000000e+02,\n",
        "          2.05000000e+02,   1.19000000e+02,   4.40000000e+01,\n",
        "          5.00000000e+00],\n",
        "       [  1.26200000e+03,   1.83000000e+02,   1.23000000e+02,\n",
        "          1.38000000e+02,   1.05000000e+02,   1.19000000e+02,\n",
        "          1.10000000e+02,   6.20000000e+01,   3.30000000e+01,\n",
        "          2.50000000e+01],\n",
        "       [  1.04800000e+03,   3.59000000e+02,   1.79000000e+02,\n",
        "          1.59000000e+02,   1.30000000e+02,   1.37000000e+02,\n",
        "          8.20000000e+01,   3.90000000e+01,   1.70000000e+01,\n",
        "          1.00000000e+01],\n",
        "       [  5.60000000e+01,   1.58000000e+02,   2.25000000e+02,\n",
        "          2.23000000e+02,   2.97000000e+02,   3.15000000e+02,\n",
        "          3.59000000e+02,   3.23000000e+02,   1.71000000e+02,\n",
        "          3.50000000e+01],\n",
        "       [  5.00000000e+00,   1.40000000e+01,   3.00000000e+01,\n",
        "          5.60000000e+01,   8.30000000e+01,   1.61000000e+02,\n",
        "          2.09000000e+02,   3.74000000e+02,   3.88000000e+02,\n",
        "          8.40000000e+02],\n",
        "       [  2.00000000e+00,   2.20000000e+01,   4.70000000e+01,\n",
        "          8.30000000e+01,   1.93000000e+02,   3.00000000e+02,\n",
        "          3.79000000e+02,   5.64000000e+02,   3.38000000e+02,\n",
        "          2.32000000e+02],\n",
        "       [  7.20000000e+01,   1.36000000e+02,   2.80000000e+02,\n",
        "          3.01000000e+02,   3.34000000e+02,   3.56000000e+02,\n",
        "          3.45000000e+02,   2.43000000e+02,   9.60000000e+01,\n",
        "          4.40000000e+01],\n",
        "       [  1.31000000e+02,   2.85000000e+02,   3.18000000e+02,\n",
        "          2.90000000e+02,   3.09000000e+02,   1.76000000e+02,\n",
        "          2.17000000e+02,   1.94000000e+02,   1.25000000e+02,\n",
        "          1.14000000e+02],\n",
        "       [  2.16000000e+03,   2.16000000e+03,   2.16000000e+03,\n",
        "          2.16000000e+03,   2.16000000e+03,   2.16000000e+03,\n",
        "          2.16000000e+03,   2.16000000e+03,   2.16000000e+03,\n",
        "          2.16000000e+03],\n",
        "       [  2.16000000e+03,   2.16000000e+03,   2.16000000e+03,\n",
        "          2.16000000e+03,   2.16000000e+03,   2.16000000e+03,\n",
        "          2.16000000e+03,   2.16000000e+03,   2.16000000e+03,\n",
        "          2.16000000e+03],\n",
        "       [  2.16000000e+03,   2.16000000e+03,   2.16000000e+03,\n",
        "          2.16000000e+03,   2.16000000e+03,   2.16000000e+03,\n",
        "          2.16000000e+03,   2.16000000e+03,   2.16000000e+03,\n",
        "          2.16000000e+03],\n",
        "       [  2.16000000e+03,   2.16000000e+03,   2.16000000e+03,\n",
        "          2.16000000e+03,   2.16000000e+03,   2.16000000e+03,\n",
        "          2.16000000e+03,   2.16000000e+03,   2.16000000e+03,\n",
        "          2.16000000e+03],\n",
        "       [  2.02100000e+03,   0.00000000e+00,   0.00000000e+00,\n",
        "          0.00000000e+00,   0.00000000e+00,   0.00000000e+00,\n",
        "          0.00000000e+00,   0.00000000e+00,   0.00000000e+00,\n",
        "          1.39000000e+02],\n",
        "       [  2.06600000e+03,   0.00000000e+00,   0.00000000e+00,\n",
        "          0.00000000e+00,   0.00000000e+00,   0.00000000e+00,\n",
        "          0.00000000e+00,   0.00000000e+00,   0.00000000e+00,\n",
        "          9.40000000e+01],\n",
        "       [  1.36100000e+03,   0.00000000e+00,   0.00000000e+00,\n",
        "          0.00000000e+00,   0.00000000e+00,   0.00000000e+00,\n",
        "          0.00000000e+00,   0.00000000e+00,   0.00000000e+00,\n",
        "          7.99000000e+02],\n",
        "       [  2.02700000e+03,   0.00000000e+00,   0.00000000e+00,\n",
        "          0.00000000e+00,   0.00000000e+00,   0.00000000e+00,\n",
        "          0.00000000e+00,   0.00000000e+00,   0.00000000e+00,\n",
        "          1.33000000e+02],\n",
        "       [  2.12100000e+03,   0.00000000e+00,   0.00000000e+00,\n",
        "          0.00000000e+00,   0.00000000e+00,   0.00000000e+00,\n",
        "          0.00000000e+00,   0.00000000e+00,   0.00000000e+00,\n",
        "          3.90000000e+01],\n",
        "       [  1.91600000e+03,   0.00000000e+00,   0.00000000e+00,\n",
        "          0.00000000e+00,   0.00000000e+00,   0.00000000e+00,\n",
        "          0.00000000e+00,   0.00000000e+00,   0.00000000e+00,\n",
        "          2.44000000e+02],\n",
        "       [  2.16000000e+03,   2.16000000e+03,   2.16000000e+03,\n",
        "          2.16000000e+03,   2.16000000e+03,   2.16000000e+03,\n",
        "          2.16000000e+03,   2.16000000e+03,   2.16000000e+03,\n",
        "          2.16000000e+03],\n",
        "       [  2.16000000e+03,   2.16000000e+03,   2.16000000e+03,\n",
        "          2.16000000e+03,   2.16000000e+03,   2.16000000e+03,\n",
        "          2.16000000e+03,   2.16000000e+03,   2.16000000e+03,\n",
        "          2.16000000e+03],\n",
        "       [  1.99000000e+03,   0.00000000e+00,   0.00000000e+00,\n",
        "          0.00000000e+00,   0.00000000e+00,   0.00000000e+00,\n",
        "          0.00000000e+00,   0.00000000e+00,   0.00000000e+00,\n",
        "          1.70000000e+02],\n",
        "       [  2.13600000e+03,   0.00000000e+00,   0.00000000e+00,\n",
        "          0.00000000e+00,   0.00000000e+00,   0.00000000e+00,\n",
        "          0.00000000e+00,   0.00000000e+00,   0.00000000e+00,\n",
        "          2.40000000e+01],\n",
        "       [  2.16000000e+03,   2.16000000e+03,   2.16000000e+03,\n",
        "          2.16000000e+03,   2.16000000e+03,   2.16000000e+03,\n",
        "          2.16000000e+03,   2.16000000e+03,   2.16000000e+03,\n",
        "          2.16000000e+03],\n",
        "       [  2.16000000e+03,   2.16000000e+03,   2.16000000e+03,\n",
        "          2.16000000e+03,   2.16000000e+03,   2.16000000e+03,\n",
        "          2.16000000e+03,   2.16000000e+03,   2.16000000e+03,\n",
        "          2.16000000e+03],\n",
        "       [  2.03200000e+03,   0.00000000e+00,   0.00000000e+00,\n",
        "          0.00000000e+00,   0.00000000e+00,   0.00000000e+00,\n",
        "          0.00000000e+00,   0.00000000e+00,   0.00000000e+00,\n",
        "          1.28000000e+02],\n",
        "       [  2.12000000e+03,   0.00000000e+00,   0.00000000e+00,\n",
        "          0.00000000e+00,   0.00000000e+00,   0.00000000e+00,\n",
        "          0.00000000e+00,   0.00000000e+00,   0.00000000e+00,\n",
        "          4.00000000e+01],\n",
        "       [  1.81000000e+03,   0.00000000e+00,   0.00000000e+00,\n",
        "          0.00000000e+00,   0.00000000e+00,   0.00000000e+00,\n",
        "          0.00000000e+00,   0.00000000e+00,   0.00000000e+00,\n",
        "          3.50000000e+02],\n",
        "       [  2.16000000e+03,   2.16000000e+03,   2.16000000e+03,\n",
        "          2.16000000e+03,   2.16000000e+03,   2.16000000e+03,\n",
        "          2.16000000e+03,   2.16000000e+03,   2.16000000e+03,\n",
        "          2.16000000e+03],\n",
        "       [  2.16000000e+03,   2.16000000e+03,   2.16000000e+03,\n",
        "          2.16000000e+03,   2.16000000e+03,   2.16000000e+03,\n",
        "          2.16000000e+03,   2.16000000e+03,   2.16000000e+03,\n",
        "          2.16000000e+03],\n",
        "       [  2.16000000e+03,   2.16000000e+03,   2.16000000e+03,\n",
        "          2.16000000e+03,   2.16000000e+03,   2.16000000e+03,\n",
        "          2.16000000e+03,   2.16000000e+03,   2.16000000e+03,\n",
        "          2.16000000e+03],\n",
        "       [  2.16000000e+03,   2.16000000e+03,   2.16000000e+03,\n",
        "          2.16000000e+03,   2.16000000e+03,   2.16000000e+03,\n",
        "          2.16000000e+03,   2.16000000e+03,   2.16000000e+03,\n",
        "          2.16000000e+03],\n",
        "       [  2.16000000e+03,   2.16000000e+03,   2.16000000e+03,\n",
        "          2.16000000e+03,   2.16000000e+03,   2.16000000e+03,\n",
        "          2.16000000e+03,   2.16000000e+03,   2.16000000e+03,\n",
        "          2.16000000e+03],\n",
        "       [  2.16000000e+03,   2.16000000e+03,   2.16000000e+03,\n",
        "          2.16000000e+03,   2.16000000e+03,   2.16000000e+03,\n",
        "          2.16000000e+03,   2.16000000e+03,   2.16000000e+03,\n",
        "          2.16000000e+03],\n",
        "       [  2.16000000e+03,   2.16000000e+03,   2.16000000e+03,\n",
        "          2.16000000e+03,   2.16000000e+03,   2.16000000e+03,\n",
        "          2.16000000e+03,   2.16000000e+03,   2.16000000e+03,\n",
        "          2.16000000e+03],\n",
        "       [  2.16000000e+03,   2.16000000e+03,   2.16000000e+03,\n",
        "          2.16000000e+03,   2.16000000e+03,   2.16000000e+03,\n",
        "          2.16000000e+03,   2.16000000e+03,   2.16000000e+03,\n",
        "          2.16000000e+03],\n",
        "       [  2.16000000e+03,   2.16000000e+03,   2.16000000e+03,\n",
        "          2.16000000e+03,   2.16000000e+03,   2.16000000e+03,\n",
        "          2.16000000e+03,   2.16000000e+03,   2.16000000e+03,\n",
        "          2.16000000e+03],\n",
        "       [  2.16000000e+03,   2.16000000e+03,   2.16000000e+03,\n",
        "          2.16000000e+03,   2.16000000e+03,   2.16000000e+03,\n",
        "          2.16000000e+03,   2.16000000e+03,   2.16000000e+03,\n",
        "          2.16000000e+03],\n",
        "       [  2.16000000e+03,   2.16000000e+03,   2.16000000e+03,\n",
        "          2.16000000e+03,   2.16000000e+03,   2.16000000e+03,\n",
        "          2.16000000e+03,   2.16000000e+03,   2.16000000e+03,\n",
        "          2.16000000e+03],\n",
        "       [  2.16000000e+03,   2.16000000e+03,   2.16000000e+03,\n",
        "          2.16000000e+03,   2.16000000e+03,   2.16000000e+03,\n",
        "          2.16000000e+03,   2.16000000e+03,   2.16000000e+03,\n",
        "          2.16000000e+03],\n",
        "       [  2.16000000e+03,   2.16000000e+03,   2.16000000e+03,\n",
        "          2.16000000e+03,   2.16000000e+03,   2.16000000e+03,\n",
        "          2.16000000e+03,   2.16000000e+03,   2.16000000e+03,\n",
        "          2.16000000e+03],\n",
        "       [  2.16000000e+03,   2.16000000e+03,   2.16000000e+03,\n",
        "          2.16000000e+03,   2.16000000e+03,   2.16000000e+03,\n",
        "          2.16000000e+03,   2.16000000e+03,   2.16000000e+03,\n",
        "          2.16000000e+03],\n",
        "       [  2.16000000e+03,   2.16000000e+03,   2.16000000e+03,\n",
        "          2.16000000e+03,   2.16000000e+03,   2.16000000e+03,\n",
        "          2.16000000e+03,   2.16000000e+03,   2.16000000e+03,\n",
        "          2.16000000e+03],\n",
        "       [  2.16000000e+03,   2.16000000e+03,   2.16000000e+03,\n",
        "          2.16000000e+03,   2.16000000e+03,   2.16000000e+03,\n",
        "          2.16000000e+03,   2.16000000e+03,   2.16000000e+03,\n",
        "          2.16000000e+03],\n",
        "       [  2.16000000e+03,   2.16000000e+03,   2.16000000e+03,\n",
        "          2.16000000e+03,   2.16000000e+03,   2.16000000e+03,\n",
        "          2.16000000e+03,   2.16000000e+03,   2.16000000e+03,\n",
        "          2.16000000e+03],\n",
        "       [  2.16000000e+03,   2.16000000e+03,   2.16000000e+03,\n",
        "          2.16000000e+03,   2.16000000e+03,   2.16000000e+03,\n",
        "          2.16000000e+03,   2.16000000e+03,   2.16000000e+03,\n",
        "          2.16000000e+03],\n",
        "       [  2.16000000e+03,   2.16000000e+03,   2.16000000e+03,\n",
        "          2.16000000e+03,   2.16000000e+03,   2.16000000e+03,\n",
        "          2.16000000e+03,   2.16000000e+03,   2.16000000e+03,\n",
        "          2.16000000e+03],\n",
        "       [  2.16000000e+03,   2.16000000e+03,   2.16000000e+03,\n",
        "          2.16000000e+03,   2.16000000e+03,   2.16000000e+03,\n",
        "          2.16000000e+03,   2.16000000e+03,   2.16000000e+03,\n",
        "          2.16000000e+03],\n",
        "       [  2.16000000e+03,   2.16000000e+03,   2.16000000e+03,\n",
        "          2.16000000e+03,   2.16000000e+03,   2.16000000e+03,\n",
        "          2.16000000e+03,   2.16000000e+03,   2.16000000e+03,\n",
        "          2.16000000e+03],\n",
        "       [  2.16000000e+03,   2.16000000e+03,   2.16000000e+03,\n",
        "          2.16000000e+03,   2.16000000e+03,   2.16000000e+03,\n",
        "          2.16000000e+03,   2.16000000e+03,   2.16000000e+03,\n",
        "          2.16000000e+03],\n",
        "       [  2.16000000e+03,   2.16000000e+03,   2.16000000e+03,\n",
        "          2.16000000e+03,   2.16000000e+03,   2.16000000e+03,\n",
        "          2.16000000e+03,   2.16000000e+03,   2.16000000e+03,\n",
        "          2.16000000e+03],\n",
        "       [  2.16000000e+03,   2.16000000e+03,   2.16000000e+03,\n",
        "          2.16000000e+03,   2.16000000e+03,   2.16000000e+03,\n",
        "          2.16000000e+03,   2.16000000e+03,   2.16000000e+03,\n",
        "          2.16000000e+03],\n",
        "       [  6.40000000e+01,   1.50000000e+02,   2.44000000e+02,\n",
        "          2.17000000e+02,   3.13000000e+02,   2.89000000e+02,\n",
        "          3.77000000e+02,   3.11000000e+02,   1.61000000e+02,\n",
        "          3.40000000e+01]])"
       ]
      }
     ],
     "prompt_number": 103
    },
    {
     "cell_type": "code",
     "collapsed": false,
     "input": [
      "count3_features=np.zeros((54,10))\n",
      "for i in range(0,54):\n",
      "    delta=(covertype_3[0::,i+1].max()-covertype_3[0::,i+1].min())/10\n",
      "    minimum=covertype_3[0::,i+1].min()\n",
      "    for j in range(0,10):\n",
      "        count3_features[i,j]=len(covertype_3[covertype_3[0::,i+1]<=(minimum+(j+1)*delta),i+1])-\\\n",
      "        len(covertype_3[covertype_3[0::,i+1]<(minimum+(j)*delta),i+1])"
     ],
     "language": "python",
     "metadata": {},
     "outputs": [],
     "prompt_number": 104
    },
    {
     "cell_type": "code",
     "collapsed": false,
     "input": [
      "count2_features=np.zeros((54,10))\n",
      "for i in range(0,54):\n",
      "    delta=(covertype_2[0::,i+1].max()-covertype_2[0::,i+1].min())/10\n",
      "    minimum=covertype_2[0::,i+1].min()\n",
      "    for j in range(0,10):\n",
      "        count2_features[i,j]=len(covertype_2[covertype_2[0::,i+1]<=(minimum+(j+1)*delta),i+1])-\\\n",
      "        len(covertype_2[covertype_2[0::,i+1]<(minimum+(j)*delta),i+1])"
     ],
     "language": "python",
     "metadata": {},
     "outputs": [],
     "prompt_number": 105
    },
    {
     "cell_type": "code",
     "collapsed": false,
     "input": [
      "count1_features=np.zeros((54,10))\n",
      "for i in range(0,54):\n",
      "    delta=(covertype_1[0::,i+1].max()-covertype_1[0::,i+1].min())/10\n",
      "    minimum=covertype_1[0::,i+1].min()\n",
      "    for j in range(0,10):\n",
      "        count1_features[i,j]=len(covertype_1[covertype_1[0::,i+1]<=(minimum+(j+1)*delta),i+1])-\\\n",
      "        len(covertype_1[covertype_1[0::,i+1]<(minimum+(j)*delta),i+1])"
     ],
     "language": "python",
     "metadata": {},
     "outputs": [],
     "prompt_number": 106
    },
    {
     "cell_type": "code",
     "collapsed": false,
     "input": [
      "count1_features[1,0::]/2160*100"
     ],
     "language": "python",
     "metadata": {},
     "outputs": [
      {
       "metadata": {},
       "output_type": "pyout",
       "prompt_number": 107,
       "text": [
        "array([ 15.32407407,  17.12962963,  12.31481481,   9.25925926,\n",
        "         6.2037037 ,   5.27777778,   3.65740741,   6.06481481,\n",
        "        12.03703704,  12.73148148])"
       ]
      }
     ],
     "prompt_number": 107
    },
    {
     "cell_type": "code",
     "collapsed": false,
     "input": [
      "count7_features[1,0::]/2160*100"
     ],
     "language": "python",
     "metadata": {},
     "outputs": [
      {
       "metadata": {},
       "output_type": "pyout",
       "prompt_number": 108,
       "text": [
        "array([ 13.47222222,  13.10185185,  17.26851852,  10.41666667,\n",
        "        10.83333333,   6.71296296,   3.37962963,   3.24074074,\n",
        "         8.19444444,  13.37962963])"
       ]
      }
     ],
     "prompt_number": 108
    },
    {
     "cell_type": "code",
     "collapsed": false,
     "input": [
      "count2_features[1,0::]/2160*100"
     ],
     "language": "python",
     "metadata": {},
     "outputs": [
      {
       "metadata": {},
       "output_type": "pyout",
       "prompt_number": 109,
       "text": [
        "array([ 13.51851852,  16.38888889,  14.62962963,  10.64814815,\n",
        "         8.37962963,   8.14814815,   5.46296296,   6.01851852,\n",
        "         6.71296296,  10.09259259])"
       ]
      }
     ],
     "prompt_number": 109
    },
    {
     "cell_type": "code",
     "collapsed": false,
     "input": [
      "count5_features[1,0::]/2160*100"
     ],
     "language": "python",
     "metadata": {},
     "outputs": [
      {
       "metadata": {},
       "output_type": "pyout",
       "prompt_number": 110,
       "text": [
        "array([  7.36111111,  18.84259259,  23.51851852,  12.91666667,\n",
        "         9.72222222,   6.34259259,   4.76851852,   6.2962963 ,\n",
        "         4.53703704,   5.69444444])"
       ]
      }
     ],
     "prompt_number": 110
    },
    {
     "cell_type": "code",
     "collapsed": false,
     "input": [
      "count6_features[1,0::]/2160*100"
     ],
     "language": "python",
     "metadata": {},
     "outputs": [
      {
       "metadata": {},
       "output_type": "pyout",
       "prompt_number": 111,
       "text": [
        "array([ 21.25      ,  15.41666667,   8.05555556,   5.        ,\n",
        "         2.03703704,   2.40740741,   2.63888889,   6.43518519,\n",
        "        17.08333333,  21.25      ])"
       ]
      }
     ],
     "prompt_number": 111
    },
    {
     "cell_type": "code",
     "collapsed": true,
     "input": [
      "count3_features[1,0::]/2160*100"
     ],
     "language": "python",
     "metadata": {},
     "outputs": [
      {
       "metadata": {},
       "output_type": "pyout",
       "prompt_number": 112,
       "text": [
        "array([ 11.66666667,   9.76851852,  12.77777778,  12.68518519,\n",
        "        10.09259259,   9.16666667,   6.25      ,   6.34259259,\n",
        "        10.64814815,  12.5462963 ])"
       ]
      }
     ],
     "prompt_number": 112
    },
    {
     "cell_type": "code",
     "collapsed": true,
     "input": [
      "count4_features[1,0::]/2160*100"
     ],
     "language": "python",
     "metadata": {},
     "outputs": [
      {
       "metadata": {},
       "output_type": "pyout",
       "prompt_number": 113,
       "text": [
        "array([  8.00925926,  12.5       ,  18.88888889,  30.55555556,\n",
        "         7.73148148,   5.0462963 ,   2.91666667,   2.5       ,\n",
        "         4.25925926,   7.59259259])"
       ]
      }
     ],
     "prompt_number": 113
    },
    {
     "cell_type": "code",
     "collapsed": false,
     "input": [
      "#>3.3 for 7. btwn 3.16 and 3.3 for 1. btwn 2.95 and 3.16 for 2. btwn 2.95 and 2.679 for 5. btwn 2.679 and 2.6 for 6.\n",
      "#btwn 2.6 and 2.37 for 3. less than 2.37 for 4. Score: 0.22297. Worse than guessing!"
     ],
     "language": "python",
     "metadata": {},
     "outputs": [],
     "prompt_number": 114
    },
    {
     "cell_type": "code",
     "collapsed": false,
     "input": [
      "#Thought of a better way to combine features. Since there is a slight dependent of cover type on soil type and there's a strong\n",
      "#dependence of elevation on cover type, we can multiply all the soil types by elevation. Then the sort is by elevation within\n",
      "#a subclass of soil type which should give a better solution. Excited about this one. Didn't work out the way that I had\n",
      "#planned at all. Gave up trying on this solution."
     ],
     "language": "python",
     "metadata": {},
     "outputs": [],
     "prompt_number": 115
    },
    {
     "cell_type": "code",
     "collapsed": false,
     "input": [
      "df['Elevation_and_soiltype1']=df.Elevation*df.Soil_Type1"
     ],
     "language": "python",
     "metadata": {},
     "outputs": [],
     "prompt_number": 116
    },
    {
     "cell_type": "code",
     "collapsed": false,
     "input": [
      "df['Elevation_and_soiltype2']=df.Elevation*df.Soil_Type2"
     ],
     "language": "python",
     "metadata": {},
     "outputs": [],
     "prompt_number": 117
    },
    {
     "cell_type": "code",
     "collapsed": false,
     "input": [
      "df['Elevation_and_soiltype3']=df.Elevation*df.Soil_Type3"
     ],
     "language": "python",
     "metadata": {},
     "outputs": [],
     "prompt_number": 118
    },
    {
     "cell_type": "code",
     "collapsed": false,
     "input": [
      "df['Elevation_and_soiltype4']=df.Elevation*df.Soil_Type4"
     ],
     "language": "python",
     "metadata": {},
     "outputs": [],
     "prompt_number": 119
    },
    {
     "cell_type": "code",
     "collapsed": false,
     "input": [
      "df['Elevation_and_soiltype5']=df.Elevation*df.Soil_Type5"
     ],
     "language": "python",
     "metadata": {},
     "outputs": [],
     "prompt_number": 120
    },
    {
     "cell_type": "code",
     "collapsed": false,
     "input": [
      "df['Elevation_and_soiltype6']=df.Elevation*df.Soil_Type6"
     ],
     "language": "python",
     "metadata": {},
     "outputs": [],
     "prompt_number": 121
    },
    {
     "cell_type": "code",
     "collapsed": false,
     "input": [
      "df['Elevation_and_soiltype8']=df.Elevation*df.Soil_Type8"
     ],
     "language": "python",
     "metadata": {},
     "outputs": [],
     "prompt_number": 122
    },
    {
     "cell_type": "code",
     "collapsed": false,
     "input": [
      "df['Elevation_and_soiltype9']=df.Elevation*df.Soil_Type9"
     ],
     "language": "python",
     "metadata": {},
     "outputs": [],
     "prompt_number": 123
    },
    {
     "cell_type": "code",
     "collapsed": false,
     "input": [
      "df['Elevation_and_soiltype10']=df.Elevation*df.Soil_Type10"
     ],
     "language": "python",
     "metadata": {},
     "outputs": [],
     "prompt_number": 124
    },
    {
     "cell_type": "code",
     "collapsed": false,
     "input": [
      "df['Elevation_and_soiltype11']=df.Elevation*df.Soil_Type11"
     ],
     "language": "python",
     "metadata": {},
     "outputs": [],
     "prompt_number": 125
    },
    {
     "cell_type": "code",
     "collapsed": false,
     "input": [
      "df['Elevation_and_soiltype12']=df.Elevation*df.Soil_Type12"
     ],
     "language": "python",
     "metadata": {},
     "outputs": [],
     "prompt_number": 126
    },
    {
     "cell_type": "code",
     "collapsed": false,
     "input": [
      "df['Elevation_and_soiltype13']=df.Elevation*df.Soil_Type13"
     ],
     "language": "python",
     "metadata": {},
     "outputs": [],
     "prompt_number": 127
    },
    {
     "cell_type": "code",
     "collapsed": false,
     "input": [
      "df['Elevation_and_soiltype14']=df.Elevation*df.Soil_Type14"
     ],
     "language": "python",
     "metadata": {},
     "outputs": [],
     "prompt_number": 128
    },
    {
     "cell_type": "code",
     "collapsed": false,
     "input": [
      "df['Elevation_and_soiltype16']=df.Elevation*df.Soil_Type16"
     ],
     "language": "python",
     "metadata": {},
     "outputs": [],
     "prompt_number": 129
    },
    {
     "cell_type": "code",
     "collapsed": false,
     "input": [
      "df['Elevation_and_soiltype17']=df.Elevation*df.Soil_Type17"
     ],
     "language": "python",
     "metadata": {},
     "outputs": [],
     "prompt_number": 130
    },
    {
     "cell_type": "code",
     "collapsed": false,
     "input": [
      "df['Elevation_and_soiltype18']=df.Elevation*df.Soil_Type18"
     ],
     "language": "python",
     "metadata": {},
     "outputs": [],
     "prompt_number": 131
    },
    {
     "cell_type": "code",
     "collapsed": false,
     "input": [
      "df['Elevation_and_soiltype19']=df.Elevation*df.Soil_Type19"
     ],
     "language": "python",
     "metadata": {},
     "outputs": [],
     "prompt_number": 132
    },
    {
     "cell_type": "code",
     "collapsed": false,
     "input": [
      "df['Elevation_and_soiltype20']=df.Elevation*df.Soil_Type20"
     ],
     "language": "python",
     "metadata": {},
     "outputs": [],
     "prompt_number": 133
    },
    {
     "cell_type": "code",
     "collapsed": false,
     "input": [
      "df['Elevation_and_soiltype21']=df.Elevation*df.Soil_Type21"
     ],
     "language": "python",
     "metadata": {},
     "outputs": [],
     "prompt_number": 134
    },
    {
     "cell_type": "code",
     "collapsed": false,
     "input": [
      "df['Elevation_and_soiltype22']=df.Elevation*df.Soil_Type22"
     ],
     "language": "python",
     "metadata": {},
     "outputs": [],
     "prompt_number": 135
    },
    {
     "cell_type": "code",
     "collapsed": false,
     "input": [
      "df['Elevation_and_soiltype23']=df.Elevation*df.Soil_Type23"
     ],
     "language": "python",
     "metadata": {},
     "outputs": [],
     "prompt_number": 136
    },
    {
     "cell_type": "code",
     "collapsed": false,
     "input": [
      "df['Elevation_and_soiltype24']=df.Elevation*df.Soil_Type24"
     ],
     "language": "python",
     "metadata": {},
     "outputs": [],
     "prompt_number": 137
    },
    {
     "cell_type": "code",
     "collapsed": false,
     "input": [
      "df['Elevation_and_soiltype25']=df.Elevation*df.Soil_Type25"
     ],
     "language": "python",
     "metadata": {},
     "outputs": [],
     "prompt_number": 138
    },
    {
     "cell_type": "code",
     "collapsed": false,
     "input": [
      "df['Elevation_and_soiltype26']=df.Elevation*df.Soil_Type26"
     ],
     "language": "python",
     "metadata": {},
     "outputs": [],
     "prompt_number": 139
    },
    {
     "cell_type": "code",
     "collapsed": false,
     "input": [
      "df['Elevation_and_soiltype27']=df.Elevation*df.Soil_Type27"
     ],
     "language": "python",
     "metadata": {},
     "outputs": [],
     "prompt_number": 140
    },
    {
     "cell_type": "code",
     "collapsed": false,
     "input": [
      "df['Elevation_and_soiltype28']=df.Elevation*df.Soil_Type28"
     ],
     "language": "python",
     "metadata": {},
     "outputs": [],
     "prompt_number": 141
    },
    {
     "cell_type": "code",
     "collapsed": false,
     "input": [
      "df['Elevation_and_soiltype29']=df.Elevation*df.Soil_Type29"
     ],
     "language": "python",
     "metadata": {},
     "outputs": [],
     "prompt_number": 142
    },
    {
     "cell_type": "code",
     "collapsed": false,
     "input": [
      "df['Elevation_and_soiltype30']=df.Elevation*df.Soil_Type30"
     ],
     "language": "python",
     "metadata": {},
     "outputs": [],
     "prompt_number": 143
    },
    {
     "cell_type": "code",
     "collapsed": false,
     "input": [
      "df['Elevation_and_soiltype31']=df.Elevation*df.Soil_Type31"
     ],
     "language": "python",
     "metadata": {},
     "outputs": [],
     "prompt_number": 144
    },
    {
     "cell_type": "code",
     "collapsed": false,
     "input": [
      "df['Elevation_and_soiltype32']=df.Elevation*df.Soil_Type32"
     ],
     "language": "python",
     "metadata": {},
     "outputs": [],
     "prompt_number": 145
    },
    {
     "cell_type": "code",
     "collapsed": false,
     "input": [
      "df['Elevation_and_soiltype33']=df.Elevation*df.Soil_Type33"
     ],
     "language": "python",
     "metadata": {},
     "outputs": [],
     "prompt_number": 146
    },
    {
     "cell_type": "code",
     "collapsed": false,
     "input": [
      "df['Elevation_and_soiltype34']=df.Elevation*df.Soil_Type34"
     ],
     "language": "python",
     "metadata": {},
     "outputs": [],
     "prompt_number": 147
    },
    {
     "cell_type": "code",
     "collapsed": false,
     "input": [
      "df['Elevation_and_soiltype35']=df.Elevation*df.Soil_Type35"
     ],
     "language": "python",
     "metadata": {},
     "outputs": [],
     "prompt_number": 148
    },
    {
     "cell_type": "code",
     "collapsed": false,
     "input": [
      "df['Elevation_and_soiltype36']=df.Elevation*df.Soil_Type36"
     ],
     "language": "python",
     "metadata": {},
     "outputs": [],
     "prompt_number": 149
    },
    {
     "cell_type": "code",
     "collapsed": false,
     "input": [
      "df['Elevation_and_soiltype37']=df.Elevation*df.Soil_Type37"
     ],
     "language": "python",
     "metadata": {},
     "outputs": [],
     "prompt_number": 150
    },
    {
     "cell_type": "code",
     "collapsed": false,
     "input": [
      "df['Elevation_and_soiltype38']=df.Elevation*df.Soil_Type38"
     ],
     "language": "python",
     "metadata": {},
     "outputs": [],
     "prompt_number": 151
    },
    {
     "cell_type": "code",
     "collapsed": false,
     "input": [
      "df['Elevation_and_soiltype39']=df.Elevation*df.Soil_Type39"
     ],
     "language": "python",
     "metadata": {},
     "outputs": [],
     "prompt_number": 152
    },
    {
     "cell_type": "code",
     "collapsed": false,
     "input": [
      "df['Elevation_and_soiltype40']=df.Elevation*df.Soil_Type40"
     ],
     "language": "python",
     "metadata": {},
     "outputs": [],
     "prompt_number": 153
    },
    {
     "cell_type": "code",
     "collapsed": false,
     "input": [
      "df.info()"
     ],
     "language": "python",
     "metadata": {},
     "outputs": [
      {
       "output_type": "stream",
       "stream": "stdout",
       "text": [
        "<class 'pandas.core.frame.DataFrame'>\n",
        "Int64Index: 15120 entries, 0 to 15119\n",
        "Data columns (total 93 columns):\n",
        "Id                                    15120 non-null int64\n",
        "Elevation                             15120 non-null float64\n",
        "Aspect                                15120 non-null float64\n",
        "Slope                                 15120 non-null float64\n",
        "Horizontal_Distance_To_Hydrology      15120 non-null float64\n",
        "Vertical_Distance_To_Hydrology        15120 non-null float64\n",
        "Horizontal_Distance_To_Roadways       15120 non-null float64\n",
        "Hillshade_9am                         15120 non-null float64\n",
        "Hillshade_Noon                        15120 non-null float64\n",
        "Hillshade_3pm                         15120 non-null float64\n",
        "Horizontal_Distance_To_Fire_Points    15120 non-null float64\n",
        "Wilderness_Area1                      15120 non-null int64\n",
        "Wilderness_Area2                      15120 non-null int64\n",
        "Wilderness_Area3                      15120 non-null int64\n",
        "Wilderness_Area4                      15120 non-null int64\n",
        "Soil_Type1                            15120 non-null int64\n",
        "Soil_Type2                            15120 non-null int64\n",
        "Soil_Type3                            15120 non-null int64\n",
        "Soil_Type4                            15120 non-null int64\n",
        "Soil_Type5                            15120 non-null int64\n",
        "Soil_Type6                            15120 non-null int64\n",
        "Soil_Type8                            15120 non-null int64\n",
        "Soil_Type9                            15120 non-null int64\n",
        "Soil_Type10                           15120 non-null int64\n",
        "Soil_Type11                           15120 non-null int64\n",
        "Soil_Type12                           15120 non-null int64\n",
        "Soil_Type13                           15120 non-null int64\n",
        "Soil_Type14                           15120 non-null int64\n",
        "Soil_Type16                           15120 non-null int64\n",
        "Soil_Type17                           15120 non-null int64\n",
        "Soil_Type18                           15120 non-null int64\n",
        "Soil_Type19                           15120 non-null int64\n",
        "Soil_Type20                           15120 non-null int64\n",
        "Soil_Type21                           15120 non-null int64\n",
        "Soil_Type22                           15120 non-null int64\n",
        "Soil_Type23                           15120 non-null int64\n",
        "Soil_Type24                           15120 non-null int64\n",
        "Soil_Type25                           15120 non-null int64\n",
        "Soil_Type26                           15120 non-null int64\n",
        "Soil_Type27                           15120 non-null int64\n",
        "Soil_Type28                           15120 non-null int64\n",
        "Soil_Type29                           15120 non-null int64\n",
        "Soil_Type30                           15120 non-null int64\n",
        "Soil_Type31                           15120 non-null int64\n",
        "Soil_Type32                           15120 non-null int64\n",
        "Soil_Type33                           15120 non-null int64\n",
        "Soil_Type34                           15120 non-null int64\n",
        "Soil_Type35                           15120 non-null int64\n",
        "Soil_Type36                           15120 non-null int64\n",
        "Soil_Type37                           15120 non-null int64\n",
        "Soil_Type38                           15120 non-null int64\n",
        "Soil_Type39                           15120 non-null int64\n",
        "Soil_Type40                           15120 non-null int64\n",
        "Cover_Type                            15120 non-null int64\n",
        "Elevation*distroad                    15120 non-null float64\n",
        "Elevation_and_soiltype1               15120 non-null float64\n",
        "Elevation_and_soiltype2               15120 non-null float64\n",
        "Elevation_and_soiltype3               15120 non-null float64\n",
        "Elevation_and_soiltype4               15120 non-null float64\n",
        "Elevation_and_soiltype5               15120 non-null float64\n",
        "Elevation_and_soiltype6               15120 non-null float64\n",
        "Elevation_and_soiltype8               15120 non-null float64\n",
        "Elevation_and_soiltype9               15120 non-null float64\n",
        "Elevation_and_soiltype10              15120 non-null float64\n",
        "Elevation_and_soiltype11              15120 non-null float64\n",
        "Elevation_and_soiltype12              15120 non-null float64\n",
        "Elevation_and_soiltype13              15120 non-null float64\n",
        "Elevation_and_soiltype14              15120 non-null float64\n",
        "Elevation_and_soiltype16              15120 non-null float64\n",
        "Elevation_and_soiltype17              15120 non-null float64\n",
        "Elevation_and_soiltype18              15120 non-null float64\n",
        "Elevation_and_soiltype19              15120 non-null float64\n",
        "Elevation_and_soiltype20              15120 non-null float64\n",
        "Elevation_and_soiltype21              15120 non-null float64\n",
        "Elevation_and_soiltype22              15120 non-null float64\n",
        "Elevation_and_soiltype23              15120 non-null float64\n",
        "Elevation_and_soiltype24              15120 non-null float64\n",
        "Elevation_and_soiltype25              15120 non-null float64\n",
        "Elevation_and_soiltype26              15120 non-null float64\n",
        "Elevation_and_soiltype27              15120 non-null float64\n",
        "Elevation_and_soiltype28              15120 non-null float64\n",
        "Elevation_and_soiltype29              15120 non-null float64\n",
        "Elevation_and_soiltype30              15120 non-null float64\n",
        "Elevation_and_soiltype31              15120 non-null float64\n",
        "Elevation_and_soiltype32              15120 non-null float64\n",
        "Elevation_and_soiltype33              15120 non-null float64\n",
        "Elevation_and_soiltype34              15120 non-null float64\n",
        "Elevation_and_soiltype35              15120 non-null float64\n",
        "Elevation_and_soiltype36              15120 non-null float64\n",
        "Elevation_and_soiltype37              15120 non-null float64\n",
        "Elevation_and_soiltype38              15120 non-null float64\n",
        "Elevation_and_soiltype39              15120 non-null float64\n",
        "Elevation_and_soiltype40              15120 non-null float64\n",
        "dtypes: float64(49), int64(44)"
       ]
      }
     ],
     "prompt_number": 154
    },
    {
     "cell_type": "code",
     "collapsed": false,
     "input": [
      "train_data=df.values"
     ],
     "language": "python",
     "metadata": {},
     "outputs": [],
     "prompt_number": 155
    },
    {
     "cell_type": "code",
     "collapsed": false,
     "input": [
      "soilelevation_max=np.zeros((38,7))"
     ],
     "language": "python",
     "metadata": {},
     "outputs": [],
     "prompt_number": 156
    },
    {
     "cell_type": "code",
     "collapsed": false,
     "input": [
      "for i in range(0,7):\n",
      "    for j in range(0,38):\n",
      "        soilelevation_max[j,i]=train_data[train_data[0::,53]==i+1,j+55].max()"
     ],
     "language": "python",
     "metadata": {},
     "outputs": [],
     "prompt_number": 157
    },
    {
     "cell_type": "code",
     "collapsed": false,
     "input": [
      "soilelevation_max"
     ],
     "language": "python",
     "metadata": {},
     "outputs": [
      {
       "metadata": {},
       "output_type": "pyout",
       "prompt_number": 158,
       "text": [
        "array([[ 0.   ,  0.   ,  2.515,  2.458,  0.   ,  2.427,  0.   ],\n",
        "       [ 0.   ,  2.81 ,  2.806,  2.374,  2.714,  2.688,  0.   ],\n",
        "       [ 0.   ,  2.737,  2.633,  2.389,  0.   ,  2.542,  0.   ],\n",
        "       [ 2.712,  2.956,  2.84 ,  2.332,  2.961,  2.738,  2.961],\n",
        "       [ 0.   ,  0.   ,  2.499,  2.52 ,  0.   ,  2.493,  0.   ],\n",
        "       [ 0.   ,  2.557,  2.618,  2.526,  0.   ,  2.559,  0.   ],\n",
        "       [ 0.   ,  2.9  ,  0.   ,  0.   ,  0.   ,  0.   ,  0.   ],\n",
        "       [ 2.579,  2.624,  0.   ,  0.   ,  0.   ,  0.   ,  0.   ],\n",
        "       [ 2.835,  3.046,  2.85 ,  2.409,  2.827,  2.767,  0.   ],\n",
        "       [ 2.947,  2.992,  2.773,  2.401,  2.964,  2.686,  0.   ],\n",
        "       [ 3.067,  3.054,  0.   ,  0.   ,  0.   ,  0.   ,  0.   ],\n",
        "       [ 3.23 ,  3.277,  2.63 ,  0.   ,  3.007,  2.857,  0.   ],\n",
        "       [ 0.   ,  0.   ,  2.383,  2.384,  0.   ,  2.396,  0.   ],\n",
        "       [ 2.955,  2.906,  2.45 ,  2.374,  2.703,  2.467,  0.   ],\n",
        "       [ 2.784,  2.871,  2.663,  2.32 ,  2.861,  2.687,  0.   ],\n",
        "       [ 0.   ,  2.586,  0.   ,  0.   ,  2.612,  0.   ,  0.   ],\n",
        "       [ 3.24 ,  2.98 ,  0.   ,  0.   ,  2.972,  0.   ,  0.   ],\n",
        "       [ 3.371,  3.095,  0.   ,  0.   ,  2.674,  2.741,  0.   ],\n",
        "       [ 3.279,  0.   ,  0.   ,  0.   ,  0.   ,  0.   ,  3.33 ],\n",
        "       [ 3.367,  3.292,  0.   ,  0.   ,  0.   ,  0.   ,  3.284],\n",
        "       [ 3.38 ,  3.301,  0.   ,  0.   ,  2.957,  2.746,  3.413],\n",
        "       [ 3.331,  3.291,  0.   ,  0.   ,  2.871,  2.798,  3.371],\n",
        "       [ 0.   ,  3.293,  0.   ,  0.   ,  0.   ,  0.   ,  0.   ],\n",
        "       [ 3.046,  3.057,  0.   ,  0.   ,  2.927,  0.   ,  0.   ],\n",
        "       [ 3.292,  3.413,  0.   ,  0.   ,  0.   ,  0.   ,  3.426],\n",
        "       [ 0.   ,  2.922,  0.   ,  0.   ,  2.662,  0.   ,  0.   ],\n",
        "       [ 3.354,  3.305,  0.   ,  0.   ,  2.976,  0.   ,  3.349],\n",
        "       [ 3.273,  3.221,  0.   ,  0.   ,  2.981,  0.   ,  3.334],\n",
        "       [ 3.417,  3.233,  0.   ,  0.   ,  2.898,  2.877,  3.353],\n",
        "       [ 3.406,  3.358,  2.765,  0.   ,  2.976,  2.739,  3.427],\n",
        "       [ 3.439,  3.376,  0.   ,  0.   ,  2.954,  2.808,  3.49 ],\n",
        "       [ 0.   ,  3.183,  0.   ,  0.   ,  2.9  ,  2.883,  3.289],\n",
        "       [ 3.406,  3.327,  0.   ,  0.   ,  0.   ,  0.   ,  3.515],\n",
        "       [ 0.   ,  3.304,  0.   ,  0.   ,  0.   ,  0.   ,  3.449],\n",
        "       [ 0.   ,  0.   ,  0.   ,  0.   ,  0.   ,  0.   ,  3.48 ],\n",
        "       [ 3.462,  3.402,  0.   ,  0.   ,  0.   ,  0.   ,  3.5  ],\n",
        "       [ 3.454,  3.187,  0.   ,  0.   ,  0.   ,  0.   ,  3.496],\n",
        "       [ 3.675,  3.372,  0.   ,  0.   ,  0.   ,  0.   ,  3.849]])"
       ]
      }
     ],
     "prompt_number": 158
    }
   ],
   "metadata": {}
  }
 ]
}