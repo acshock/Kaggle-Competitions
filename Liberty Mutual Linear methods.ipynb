{
 "metadata": {
  "name": "",
  "signature": "sha256:16f9c45750999525d0904db0650458263da5ba57b86501f986f03dc9a9265d39"
 },
 "nbformat": 3,
 "nbformat_minor": 0,
 "worksheets": [
  {
   "cells": [
    {
     "cell_type": "markdown",
     "metadata": {},
     "source": [
      "I wanted to try an analysis that just used simple linear models instead of possibly more complicated models. One machine learning competition was won by breaking down all of the data into binary vectors and then averaging together a bunch of linear models. Would that work for the Liberty Mutual problem? (Liberty Mutual problem: predict which houses have a high hazard rate from a set of information collected pre-screening. Which houses deserve a more thorough inspection and which can be ignored?)\n",
      "\n",
      "Here's the lay of the land at this point. The initial data was separated into two sets: 17 type T1 and 15 type T2. I broke down those sets into binary values. For instance, if a set was already yes or no, I left it alone. If a set had values 1, 2, 3, or 4, I separated it into 4 sets (is_1, is_2, is_3, is_4). In all, 12 of the total 33 sets were NOT included because they weren't easily categorized. I also included the average of all the features which I made into binary subsets. In total, I have over 90 features (which is probably too many!)."
     ]
    },
    {
     "cell_type": "code",
     "collapsed": false,
     "input": [
      "from sklearn.ensemble import GradientBoostingRegressor\n",
      "from sklearn.metrics import accuracy_score, mean_squared_error\n",
      "from sklearn import linear_model\n",
      "import pandas as pd\n",
      "import numpy as np\n",
      "from sklearn.tree import DecisionTreeClassifier"
     ],
     "language": "python",
     "metadata": {},
     "outputs": [],
     "prompt_number": 77
    },
    {
     "cell_type": "code",
     "collapsed": false,
     "input": [
      "train = pd.read_csv('train_featureEngineering.csv',header=0)\n",
      "train = train.drop(['Unnamed: 0'],axis=1)\n",
      "train = train.values"
     ],
     "language": "python",
     "metadata": {},
     "outputs": [],
     "prompt_number": 63
    },
    {
     "cell_type": "code",
     "collapsed": false,
     "input": [
      "params={'loss':'ls','learning_rate':0.01,'n_estimators':600,'max_depth':4,'min_samples_split':1}\n",
      "clf=GradientBoostingRegressor(**params)"
     ],
     "language": "python",
     "metadata": {},
     "outputs": [],
     "prompt_number": 64
    },
    {
     "cell_type": "code",
     "collapsed": false,
     "input": [
      "y_train=train[:30000,0]\n",
      "X_train=train[:30000,1:]\n",
      "y_test=train[30000:35000,0]\n",
      "x_test=train[30000:35000,1:]"
     ],
     "language": "python",
     "metadata": {},
     "outputs": [],
     "prompt_number": 65
    },
    {
     "cell_type": "code",
     "collapsed": false,
     "input": [
      "clf.fit(X_train,y_train)"
     ],
     "language": "python",
     "metadata": {},
     "outputs": [
      {
       "metadata": {},
       "output_type": "pyout",
       "prompt_number": 66,
       "text": [
        "GradientBoostingRegressor(alpha=0.9, init=None, learning_rate=0.01, loss='ls',\n",
        "             max_depth=4, max_features=None, max_leaf_nodes=None,\n",
        "             min_samples_leaf=1, min_samples_split=1, n_estimators=600,\n",
        "             random_state=None, subsample=1.0, verbose=0, warm_start=False)"
       ]
      }
     ],
     "prompt_number": 66
    },
    {
     "cell_type": "code",
     "collapsed": false,
     "input": [
      "mse=mean_squared_error(y_test,clf.predict(x_test))\n",
      "print('MSE: %.4f' % mse) "
     ],
     "language": "python",
     "metadata": {},
     "outputs": [
      {
       "output_type": "stream",
       "stream": "stdout",
       "text": [
        "MSE: 16.1120\n"
       ]
      }
     ],
     "prompt_number": 67
    },
    {
     "cell_type": "code",
     "collapsed": false,
     "input": [
      "predict=clf.predict(x_test)"
     ],
     "language": "python",
     "metadata": {},
     "outputs": [],
     "prompt_number": 68
    },
    {
     "cell_type": "code",
     "collapsed": false,
     "input": [
      "import matplotlib.pyplot as plt"
     ],
     "language": "python",
     "metadata": {},
     "outputs": [],
     "prompt_number": 48
    },
    {
     "cell_type": "code",
     "collapsed": false,
     "input": [
      "matplotlib inline"
     ],
     "language": "python",
     "metadata": {},
     "outputs": [],
     "prompt_number": 49
    },
    {
     "cell_type": "code",
     "collapsed": false,
     "input": [
      "plt.subplot(1,2,2)\n",
      "plt.plot(y_test,predict,'ro')\n",
      "plt.xlabel('Test Data')\n",
      "plt.ylabel('Prediction')"
     ],
     "language": "python",
     "metadata": {},
     "outputs": [
      {
       "metadata": {},
       "output_type": "pyout",
       "prompt_number": 97,
       "text": [
        "<matplotlib.text.Text at 0x10a1aad90>"
       ]
      },
      {
       "metadata": {},
       "output_type": "display_data",
       "png": "[encoded data removed]",
       "text": [
        "<matplotlib.figure.Figure at 0x10210b450>"
       ]
      }
     ],
     "prompt_number": 97
    },
    {
     "cell_type": "markdown",
     "metadata": {},
     "source": [
      "For comparison, I used the more complicated model I was trying before. The main take-away is that there are a large number of false negatives. So properties that should probably be inspected again are not. Doesn't really add any more value than random inspections."
     ]
    },
    {
     "cell_type": "code",
     "collapsed": false,
     "input": [
      "clfLasso = linear_model.Lasso(alpha=0.1,max_iter=2000,warm_start=True)"
     ],
     "language": "python",
     "metadata": {},
     "outputs": [],
     "prompt_number": 90
    },
    {
     "cell_type": "code",
     "collapsed": false,
     "input": [
      "clfLasso.fit(X_train,y_train)"
     ],
     "language": "python",
     "metadata": {},
     "outputs": [
      {
       "metadata": {},
       "output_type": "pyout",
       "prompt_number": 94,
       "text": [
        "Lasso(alpha=0.1, copy_X=True, fit_intercept=True, max_iter=2000,\n",
        "   normalize=False, positive=False, precompute='auto', tol=0.0001,\n",
        "   warm_start=True)"
       ]
      }
     ],
     "prompt_number": 94
    },
    {
     "cell_type": "code",
     "collapsed": false,
     "input": [
      "predictLasso=clfLasso.predict(x_test)"
     ],
     "language": "python",
     "metadata": {},
     "outputs": [],
     "prompt_number": 95
    },
    {
     "cell_type": "code",
     "collapsed": false,
     "input": [
      "plt.subplot(1,2,2)\n",
      "plt.plot(y_test,predictLasso,'ro')\n",
      "plt.xlabel('Test Data')\n",
      "plt.ylabel('Prediction')"
     ],
     "language": "python",
     "metadata": {},
     "outputs": [
      {
       "metadata": {},
       "output_type": "pyout",
       "prompt_number": 98,
       "text": [
        "<matplotlib.text.Text at 0x10ecea690>"
       ]
      },
      {
       "metadata": {},
       "output_type": "display_data",
       "png": "[encoded data removed]",
       "text": [
        "<matplotlib.figure.Figure at 0x108ac9410>"
       ]
      }
     ],
     "prompt_number": 98
    },
    {
     "cell_type": "markdown",
     "metadata": {},
     "source": [
      "The first linear model - so much worse than before. Almost everything is a false negative now. NO."
     ]
    },
    {
     "cell_type": "code",
     "collapsed": false,
     "input": [
      "enet = linear_model.ElasticNet(alpha=0.1,l1_ratio=0.7)"
     ],
     "language": "python",
     "metadata": {},
     "outputs": [],
     "prompt_number": 105
    },
    {
     "cell_type": "code",
     "collapsed": false,
     "input": [
      "enet.fit(X_train,y_train)"
     ],
     "language": "python",
     "metadata": {},
     "outputs": [
      {
       "metadata": {},
       "output_type": "pyout",
       "prompt_number": 106,
       "text": [
        "ElasticNet(alpha=0.1, copy_X=True, fit_intercept=True, l1_ratio=0.7,\n",
        "      max_iter=1000, normalize=False, positive=False, precompute='auto',\n",
        "      tol=0.0001, warm_start=False)"
       ]
      }
     ],
     "prompt_number": 106
    },
    {
     "cell_type": "code",
     "collapsed": false,
     "input": [
      "predictEnet=enet.predict(x_test)"
     ],
     "language": "python",
     "metadata": {},
     "outputs": [],
     "prompt_number": 107
    },
    {
     "cell_type": "code",
     "collapsed": false,
     "input": [
      "plt.subplot(1,2,2)\n",
      "plt.plot(y_test,predictEnet,'ro')\n",
      "plt.xlabel('Test Data')\n",
      "plt.ylabel('Prediction')"
     ],
     "language": "python",
     "metadata": {},
     "outputs": [
      {
       "metadata": {},
       "output_type": "pyout",
       "prompt_number": 108,
       "text": [
        "<matplotlib.text.Text at 0x10b3accd0>"
       ]
      },
      {
       "metadata": {},
       "output_type": "display_data",
       "png": "[encoded data removed]",
       "text": [
        "<matplotlib.figure.Figure at 0x10bb80110>"
       ]
      }
     ],
     "prompt_number": 108
    },
    {
     "cell_type": "markdown",
     "metadata": {},
     "source": [
      "Elastic net: NO."
     ]
    },
    {
     "cell_type": "code",
     "collapsed": false,
     "input": [
      "clfLars=linear_model.Lars()"
     ],
     "language": "python",
     "metadata": {},
     "outputs": [],
     "prompt_number": 109
    },
    {
     "cell_type": "code",
     "collapsed": false,
     "input": [
      "clfLars.fit(X_train,y_train)"
     ],
     "language": "python",
     "metadata": {},
     "outputs": [
      {
       "output_type": "stream",
       "stream": "stderr",
       "text": [
        "/Users/acshock/anaconda/lib/python2.7/site-packages/sklearn/linear_model/least_angle.py:270: ConvergenceWarning: Regressors in active set degenerate. Dropping a regressor, after 71 iterations, i.e. alpha=8.243e-05, with an active set of 68 regressors, and the smallest cholesky pivot element being 3.650e-08\n",
        "  ConvergenceWarning)\n",
        "/Users/acshock/anaconda/lib/python2.7/site-packages/sklearn/linear_model/least_angle.py:270: ConvergenceWarning: Regressors in active set degenerate. Dropping a regressor, after 76 iterations, i.e. alpha=9.283e-05, with an active set of 71 regressors, and the smallest cholesky pivot element being 2.581e-08\n",
        "  ConvergenceWarning)\n",
        "/Users/acshock/anaconda/lib/python2.7/site-packages/sklearn/linear_model/least_angle.py:270: ConvergenceWarning: Regressors in active set degenerate. Dropping a regressor, after 78 iterations, i.e. alpha=1.374e-04, with an active set of 72 regressors, and the smallest cholesky pivot element being 6.664e-08\n",
        "  ConvergenceWarning)\n",
        "/Users/acshock/anaconda/lib/python2.7/site-packages/sklearn/linear_model/least_angle.py:270: ConvergenceWarning: Regressors in active set degenerate. Dropping a regressor, after 80 iterations, i.e. alpha=6.882e-05, with an active set of 74 regressors, and the smallest cholesky pivot element being 6.664e-08\n",
        "  ConvergenceWarning)\n",
        "/Users/acshock/anaconda/lib/python2.7/site-packages/sklearn/linear_model/least_angle.py:270: ConvergenceWarning: Regressors in active set degenerate. Dropping a regressor, after 80 iterations, i.e. alpha=6.397e-05, with an active set of 74 regressors, and the smallest cholesky pivot element being 6.664e-08\n",
        "  ConvergenceWarning)\n",
        "/Users/acshock/anaconda/lib/python2.7/site-packages/sklearn/linear_model/least_angle.py:270: ConvergenceWarning: Regressors in active set degenerate. Dropping a regressor, after 82 iterations, i.e. alpha=5.763e-05, with an active set of 75 regressors, and the smallest cholesky pivot element being 2.356e-08\n",
        "  ConvergenceWarning)\n",
        "/Users/acshock/anaconda/lib/python2.7/site-packages/sklearn/linear_model/least_angle.py:270: ConvergenceWarning: Regressors in active set degenerate. Dropping a regressor, after 83 iterations, i.e. alpha=5.556e-05, with an active set of 76 regressors, and the smallest cholesky pivot element being 4.215e-08\n",
        "  ConvergenceWarning)\n",
        "/Users/acshock/anaconda/lib/python2.7/site-packages/sklearn/linear_model/least_angle.py:270: ConvergenceWarning: Regressors in active set degenerate. Dropping a regressor, after 83 iterations, i.e. alpha=5.494e-05, with an active set of 76 regressors, and the smallest cholesky pivot element being 3.650e-08\n",
        "  ConvergenceWarning)\n",
        "/Users/acshock/anaconda/lib/python2.7/site-packages/sklearn/linear_model/least_angle.py:270: ConvergenceWarning: Regressors in active set degenerate. Dropping a regressor, after 83 iterations, i.e. alpha=5.168e-05, with an active set of 76 regressors, and the smallest cholesky pivot element being 6.664e-08\n",
        "  ConvergenceWarning)\n",
        "/Users/acshock/anaconda/lib/python2.7/site-packages/sklearn/linear_model/least_angle.py:270: ConvergenceWarning: Regressors in active set degenerate. Dropping a regressor, after 83 iterations, i.e. alpha=3.496e-05, with an active set of 76 regressors, and the smallest cholesky pivot element being 2.356e-08\n",
        "  ConvergenceWarning)\n",
        "/Users/acshock/anaconda/lib/python2.7/site-packages/sklearn/linear_model/least_angle.py:270: ConvergenceWarning: Regressors in active set degenerate. Dropping a regressor, after 85 iterations, i.e. alpha=3.061e-05, with an active set of 78 regressors, and the smallest cholesky pivot element being 6.664e-08\n",
        "  ConvergenceWarning)\n",
        "/Users/acshock/anaconda/lib/python2.7/site-packages/sklearn/linear_model/least_angle.py:270: ConvergenceWarning: Regressors in active set degenerate. Dropping a regressor, after 87 iterations, i.e. alpha=2.452e-05, with an active set of 80 regressors, and the smallest cholesky pivot element being 6.664e-08\n",
        "  ConvergenceWarning)\n",
        "/Users/acshock/anaconda/lib/python2.7/site-packages/sklearn/linear_model/least_angle.py:270: ConvergenceWarning: Regressors in active set degenerate. Dropping a regressor, after 88 iterations, i.e. alpha=1.623e-05, with an active set of 81 regressors, and the smallest cholesky pivot element being 2.356e-08\n",
        "  ConvergenceWarning)\n",
        "/Users/acshock/anaconda/lib/python2.7/site-packages/sklearn/linear_model/least_angle.py:270: ConvergenceWarning: Regressors in active set degenerate. Dropping a regressor, after 88 iterations, i.e. alpha=1.338e-05, with an active set of 81 regressors, and the smallest cholesky pivot element being 4.829e-08\n",
        "  ConvergenceWarning)\n",
        "/Users/acshock/anaconda/lib/python2.7/site-packages/sklearn/linear_model/least_angle.py:270: ConvergenceWarning: Regressors in active set degenerate. Dropping a regressor, after 89 iterations, i.e. alpha=5.836e-06, with an active set of 82 regressors, and the smallest cholesky pivot element being 6.664e-08\n",
        "  ConvergenceWarning)\n",
        "/Users/acshock/anaconda/lib/python2.7/site-packages/sklearn/linear_model/least_angle.py:270: ConvergenceWarning: Regressors in active set degenerate. Dropping a regressor, after 89 iterations, i.e. alpha=5.827e-06, with an active set of 82 regressors, and the smallest cholesky pivot element being 9.064e-08\n",
        "  ConvergenceWarning)\n",
        "/Users/acshock/anaconda/lib/python2.7/site-packages/sklearn/linear_model/least_angle.py:270: ConvergenceWarning: Regressors in active set degenerate. Dropping a regressor, after 89 iterations, i.e. alpha=3.542e-06, with an active set of 82 regressors, and the smallest cholesky pivot element being 6.144e-08\n",
        "  ConvergenceWarning)\n",
        "/Users/acshock/anaconda/lib/python2.7/site-packages/sklearn/linear_model/least_angle.py:270: ConvergenceWarning: Regressors in active set degenerate. Dropping a regressor, after 89 iterations, i.e. alpha=2.986e-06, with an active set of 82 regressors, and the smallest cholesky pivot element being 2.356e-08\n",
        "  ConvergenceWarning)\n",
        "/Users/acshock/anaconda/lib/python2.7/site-packages/sklearn/linear_model/least_angle.py:270: ConvergenceWarning: Regressors in active set degenerate. Dropping a regressor, after 89 iterations, i.e. alpha=2.755e-06, with an active set of 82 regressors, and the smallest cholesky pivot element being 2.356e-08\n",
        "  ConvergenceWarning)\n",
        "/Users/acshock/anaconda/lib/python2.7/site-packages/sklearn/linear_model/least_angle.py:270: ConvergenceWarning: Regressors in active set degenerate. Dropping a regressor, after 89 iterations, i.e. alpha=2.294e-06, with an active set of 82 regressors, and the smallest cholesky pivot element being 2.220e-16\n",
        "  ConvergenceWarning)\n",
        "/Users/acshock/anaconda/lib/python2.7/site-packages/sklearn/linear_model/least_angle.py:270: ConvergenceWarning: Regressors in active set degenerate. Dropping a regressor, after 89 iterations, i.e. alpha=8.769e-07, with an active set of 82 regressors, and the smallest cholesky pivot element being 2.356e-08\n",
        "  ConvergenceWarning)\n",
        "/Users/acshock/anaconda/lib/python2.7/site-packages/sklearn/linear_model/least_angle.py:270: ConvergenceWarning: Regressors in active set degenerate. Dropping a regressor, after 89 iterations, i.e. alpha=7.997e-07, with an active set of 82 regressors, and the smallest cholesky pivot element being 4.829e-08\n",
        "  ConvergenceWarning)\n",
        "/Users/acshock/anaconda/lib/python2.7/site-packages/sklearn/linear_model/least_angle.py:270: ConvergenceWarning: Regressors in active set degenerate. Dropping a regressor, after 89 iterations, i.e. alpha=5.380e-07, with an active set of 82 regressors, and the smallest cholesky pivot element being 3.650e-08\n",
        "  ConvergenceWarning)\n",
        "/Users/acshock/anaconda/lib/python2.7/site-packages/sklearn/linear_model/least_angle.py:270: ConvergenceWarning: Regressors in active set degenerate. Dropping a regressor, after 89 iterations, i.e. alpha=1.702e-07, with an active set of 82 regressors, and the smallest cholesky pivot element being 4.215e-08\n",
        "  ConvergenceWarning)\n"
       ]
      },
      {
       "metadata": {},
       "output_type": "pyout",
       "prompt_number": 110,
       "text": [
        "Lars(copy_X=True, eps=2.2204460492503131e-16, fit_intercept=True,\n",
        "   fit_path=True, n_nonzero_coefs=500, normalize=True, precompute='auto',\n",
        "   verbose=False)"
       ]
      }
     ],
     "prompt_number": 110
    },
    {
     "cell_type": "code",
     "collapsed": false,
     "input": [
      "predictLars=clfLars.predict(x_test)"
     ],
     "language": "python",
     "metadata": {},
     "outputs": [],
     "prompt_number": 111
    },
    {
     "cell_type": "code",
     "collapsed": false,
     "input": [
      "plt.subplot(1,2,2)\n",
      "plt.plot(y_test,predictLars,'ro')\n",
      "plt.xlabel('Test Data')\n",
      "plt.ylabel('Prediction')"
     ],
     "language": "python",
     "metadata": {},
     "outputs": [
      {
       "metadata": {},
       "output_type": "pyout",
       "prompt_number": 113,
       "text": [
        "<matplotlib.text.Text at 0x10d883910>"
       ]
      },
      {
       "metadata": {},
       "output_type": "display_data",
       "png": "[encoded data removed]",
       "text": [
        "<matplotlib.figure.Figure at 0x10b7bf290>"
       ]
      }
     ],
     "prompt_number": 113
    },
    {
     "cell_type": "markdown",
     "metadata": {},
     "source": [
      "The LARS had a big problem with convergence and probably isn't well-suited to what I'm asking it to do. Also, wow. There are a ton of false positives! Now I'm asking the company to waste money inspecting houses which are perfectly OK. This model is trash."
     ]
    },
    {
     "cell_type": "code",
     "collapsed": false,
     "input": [
      "clfBR=linear_model.BayesianRidge()"
     ],
     "language": "python",
     "metadata": {},
     "outputs": [],
     "prompt_number": 114
    },
    {
     "cell_type": "code",
     "collapsed": false,
     "input": [
      "clfBR.fit(X_train,y_train)"
     ],
     "language": "python",
     "metadata": {},
     "outputs": [
      {
       "metadata": {},
       "output_type": "pyout",
       "prompt_number": 115,
       "text": [
        "BayesianRidge(alpha_1=1e-06, alpha_2=1e-06, compute_score=False, copy_X=True,\n",
        "       fit_intercept=True, lambda_1=1e-06, lambda_2=1e-06, n_iter=300,\n",
        "       normalize=False, tol=0.001, verbose=False)"
       ]
      }
     ],
     "prompt_number": 115
    },
    {
     "cell_type": "code",
     "collapsed": false,
     "input": [
      "predictBR=clfBR.predict(x_test)"
     ],
     "language": "python",
     "metadata": {},
     "outputs": [],
     "prompt_number": 116
    },
    {
     "cell_type": "code",
     "collapsed": false,
     "input": [
      "plt.subplot(1,2,2)\n",
      "plt.plot(y_test,predictBR,'ro')\n",
      "plt.xlabel('Test Data')\n",
      "plt.ylabel('Prediction')"
     ],
     "language": "python",
     "metadata": {},
     "outputs": [
      {
       "metadata": {},
       "output_type": "pyout",
       "prompt_number": 120,
       "text": [
        "<matplotlib.text.Text at 0x10e53f990>"
       ]
      },
      {
       "metadata": {},
       "output_type": "display_data",
       "png": "[encoded data removed]",
       "text": [
        "<matplotlib.figure.Figure at 0x10e54af10>"
       ]
      }
     ],
     "prompt_number": 120
    },
    {
     "cell_type": "markdown",
     "metadata": {},
     "source": [
      "This one's just amusing. It's predicting a lot of values that aren't actually possible (what I expected to happen). HOWEVER, I can get some useful-ish information out of this EPIC failure. There seem to be at least some commonalities among the high hazard rates since their primarily clustered at high positive prediction values. The lower hazard scores appear to run the gamut which we could have guessed judging by how poorly the previous model was doing."
     ]
    },
    {
     "cell_type": "code",
     "collapsed": false,
     "input": [],
     "language": "python",
     "metadata": {},
     "outputs": []
    }
   ],
   "metadata": {}
  }
 ]
}