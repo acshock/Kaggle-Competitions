{
 "metadata": {
  "name": "",
  "signature": "sha256:31667be42693415d35d2603e33c8b1cba0cf0ca7c8ac6db93261046244d5227a"
 },
 "nbformat": 3,
 "nbformat_minor": 0,
 "worksheets": [
  {
   "cells": [
    {
     "cell_type": "markdown",
     "metadata": {},
     "source": [
      "I was given a data set that was a mix of numbers and characters. To make the data useable for modelling, I took out all the characters and replaced them with numbers. Since I didn't know what characters were being used or how the characters related to one another, I stored any new values in a dictionary and set the next new value to one higher than the last new value. This way if there were multiple data sets that needed to be read, there would always be some relationship between the characters in the different files (which there would be in real life). Then I wrote the values to a csv file so that it can be used to build a model.\n",
      "\n",
      "Improvements that could be made if this were for more commercial use than what I'm doing right now: let the program take in multiple inputs from the users (how many files are you reading, what are the names of those files (until there are no more files), you could store the dictionary values as a csv if you want to enter files at different times and read that in every time, you would need the program to automatically get the number of rows and possibly the number of columns also (or throw an error if the number of columns exceeds 34), if multiple inputs are entered the user also needs to give the name for the output file (default could be the same name as the input but you don't want to overwrite the raw data).\n",
      "\n",
      "For my purposes, this works fine and I only needed to run it once. So I'm leaving it non-optimized."
     ]
    },
    {
     "cell_type": "code",
     "collapsed": false,
     "input": [
      "import pandas as pd\n",
      "import numpy as np"
     ],
     "language": "python",
     "metadata": {},
     "outputs": [],
     "prompt_number": 6
    },
    {
     "cell_type": "code",
     "collapsed": false,
     "input": [
      "train = pd.read_csv('train.csv',header=0)"
     ],
     "language": "python",
     "metadata": {},
     "outputs": [],
     "prompt_number": 7
    },
    {
     "cell_type": "code",
     "collapsed": false,
     "input": [
      "train.info()"
     ],
     "language": "python",
     "metadata": {},
     "outputs": [
      {
       "output_type": "stream",
       "stream": "stdout",
       "text": [
        "<class 'pandas.core.frame.DataFrame'>\n",
        "Int64Index: 50999 entries, 0 to 50998\n",
        "Data columns (total 34 columns):\n",
        "Id        50999 non-null int64\n",
        "Hazard    50999 non-null int64\n",
        "T1_V1     50999 non-null int64\n",
        "T1_V2     50999 non-null int64\n",
        "T1_V3     50999 non-null int64\n",
        "T1_V4     50999 non-null object\n",
        "T1_V5     50999 non-null object\n",
        "T1_V6     50999 non-null object\n",
        "T1_V7     50999 non-null object\n",
        "T1_V8     50999 non-null object\n",
        "T1_V9     50999 non-null object\n",
        "T1_V10    50999 non-null int64\n",
        "T1_V11    50999 non-null object\n",
        "T1_V12    50999 non-null object\n",
        "T1_V13    50999 non-null int64\n",
        "T1_V14    50999 non-null int64\n",
        "T1_V15    50999 non-null object\n",
        "T1_V16    50999 non-null object\n",
        "T1_V17    50999 non-null object\n",
        "T2_V1     50999 non-null int64\n",
        "T2_V2     50999 non-null int64\n",
        "T2_V3     50999 non-null object\n",
        "T2_V4     50999 non-null int64\n",
        "T2_V5     50999 non-null object\n",
        "T2_V6     50999 non-null int64\n",
        "T2_V7     50999 non-null int64\n",
        "T2_V8     50999 non-null int64\n",
        "T2_V9     50999 non-null int64\n",
        "T2_V10    50999 non-null int64\n",
        "T2_V11    50999 non-null object\n",
        "T2_V12    50999 non-null object\n",
        "T2_V13    50999 non-null object\n",
        "T2_V14    50999 non-null int64\n",
        "T2_V15    50999 non-null int64\n",
        "dtypes: int64(18), object(16)"
       ]
      }
     ],
     "prompt_number": 8
    },
    {
     "cell_type": "code",
     "collapsed": false,
     "input": [
      "train = train.values"
     ],
     "language": "python",
     "metadata": {},
     "outputs": [],
     "prompt_number": 9
    },
    {
     "cell_type": "code",
     "collapsed": false,
     "input": [
      "test = pd.read_csv('test.csv',header=0)"
     ],
     "language": "python",
     "metadata": {},
     "outputs": [],
     "prompt_number": 10
    },
    {
     "cell_type": "code",
     "collapsed": false,
     "input": [
      "test = test.values"
     ],
     "language": "python",
     "metadata": {},
     "outputs": [],
     "prompt_number": 11
    },
    {
     "cell_type": "code",
     "collapsed": false,
     "input": [
      "def changeChars(array,size,d):\n",
      "    if not bool(d):\n",
      "        key=0\n",
      "    else:\n",
      "        sorted_d=sorted(d,key=d.get)\n",
      "        key=d[sorted_d[len(sorted_d)-1]]+1\n",
      "    for j in range(1,33):\n",
      "        if type(array[0][j]) == str:\n",
      "            for i in range(0,size):\n",
      "                if not(array[i][j] in d):\n",
      "                    d[array[i][j]] = key\n",
      "                    array[i][j]=d[array[i][j]]\n",
      "                    key=key+1\n",
      "                else:\n",
      "                    array[i][j]=d[array[i][j]]"
     ],
     "language": "python",
     "metadata": {},
     "outputs": [],
     "prompt_number": 12
    },
    {
     "cell_type": "code",
     "collapsed": false,
     "input": [
      "d={}"
     ],
     "language": "python",
     "metadata": {},
     "outputs": [],
     "prompt_number": 13
    },
    {
     "cell_type": "code",
     "collapsed": false,
     "input": [
      "changeChars(train,50999,d)"
     ],
     "language": "python",
     "metadata": {},
     "outputs": [],
     "prompt_number": 14
    },
    {
     "cell_type": "code",
     "collapsed": false,
     "input": [
      "changeChars(test,51000,d)"
     ],
     "language": "python",
     "metadata": {},
     "outputs": [],
     "prompt_number": 15
    },
    {
     "cell_type": "code",
     "collapsed": false,
     "input": [
      "import csv as csv\n",
      "train_file = open(\"../train_num.csv\",\"wb\")\n",
      "p=csv.writer(train_file)\n",
      "p.writerow(['Id','Hazard','T1_V1','T1_V2','T1_V3','T1_V4','T1_V5','T1_V6','T1_V7','T1_V8','T1_V9','T1_V10','T1_V11','T1_V12',\\\n",
      "            'T1_V13','T1_V14','T1_V15','T1_V16','T1_V17','T2_V1','T2_V2','T2_V3','T2_V4','T2_V5','T2_V6','T2_V7','T2_V8',\\\n",
      "            'T2_V9','T2_V10','T2_V11','T2_V12','T2_V13','T2_V14','T2_V15'])\n",
      "for i in range(0,50999):\n",
      "    p.writerow([train[i,0],train[i,1],train[i,2],train[i,3],train[i,4],train[i,5],train[i,6],train[i,7],train[i,8],train[i,9],\\\n",
      "                train[i,10],train[i,11],train[i,12],train[i,13],train[i,14],train[i,15],train[i,16],train[i,17],train[i,18],\\\n",
      "                train[i,19],train[i,20],train[i,21],train[i,22],train[i,23],train[i,24],train[i,25],train[i,26],train[i,27],\\\n",
      "                train[i,28],train[i,29],train[i,30],train[i,31],train[i,32],train[i,33]])\n",
      "train_file.close()"
     ],
     "language": "python",
     "metadata": {},
     "outputs": [],
     "prompt_number": 16
    },
    {
     "cell_type": "code",
     "collapsed": false,
     "input": [
      "test_file = open(\"../test_num.csv\",\"wb\")\n",
      "p=csv.writer(test_file)\n",
      "p.writerow(['Id','T1_V1','T1_V2','T1_V3','T1_V4','T1_V5','T1_V6','T1_V7','T1_V8','T1_V9','T1_V10','T1_V11','T1_V12',\\\n",
      "            'T1_V13','T1_V14','T1_V15','T1_V16','T1_V17','T2_V1','T2_V2','T2_V3','T2_V4','T2_V5','T2_V6','T2_V7','T2_V8',\\\n",
      "            'T2_V9','T2_V10','T2_V11','T2_V12','T2_V13','T2_V14','T2_V15'])\n",
      "for i in range(0,51000):\n",
      "    p.writerow([test[i,0],test[i,1],test[i,2],test[i,3],test[i,4],test[i,5],test[i,6],test[i,7],test[i,8],test[i,9],\\\n",
      "                test[i,10],test[i,11],test[i,12],test[i,13],test[i,14],test[i,15],test[i,16],test[i,17],test[i,18],\\\n",
      "                test[i,19],test[i,20],test[i,21],test[i,22],test[i,23],test[i,24],test[i,25],test[i,26],test[i,27],\\\n",
      "                test[i,28],test[i,29],test[i,30],test[i,31],test[i,32]])\n",
      "test_file.close()"
     ],
     "language": "python",
     "metadata": {},
     "outputs": [],
     "prompt_number": 18
    },
    {
     "cell_type": "code",
     "collapsed": false,
     "input": [],
     "language": "python",
     "metadata": {},
     "outputs": []
    }
   ],
   "metadata": {}
  }
 ]
}